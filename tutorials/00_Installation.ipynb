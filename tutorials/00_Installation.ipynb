{
 "cells": [
  {
   "cell_type": "markdown",
   "id": "06158dc6-c401-4b06-9f8e-10ed84e4c707",
   "metadata": {},
   "source": [
    "### Installation\n",
    "\n",
    "Install the PyCoM package using `pip` command as shown below \n",
    "\n",
    "*Please note you will need Python>=3.8*"
   ]
  },
  {
   "cell_type": "code",
   "execution_count": 1,
   "id": "99ed93d6-0297-4244-8548-f0dff4632925",
   "metadata": {},
   "outputs": [
    {
     "ename": "SyntaxError",
     "evalue": "invalid syntax (3001824761.py, line 2)",
     "output_type": "error",
     "traceback": [
      "\u001b[0;36m  Input \u001b[0;32mIn [1]\u001b[0;36m\u001b[0m\n\u001b[0;31m    pip install git+https://github.com/scdantu/pycom\u001b[0m\n\u001b[0m        ^\u001b[0m\n\u001b[0;31mSyntaxError\u001b[0m\u001b[0;31m:\u001b[0m invalid syntax\n"
     ]
    }
   ],
   "source": [
    "#Install the PyCoM package:\n",
    "pip install git+https://github.com/scdantu/pycom"
   ]
  },
  {
   "cell_type": "markdown",
   "id": "fa9b4908-860c-45aa-a45c-7e47dc32704e",
   "metadata": {},
   "source": [
    "### Downloading the database files\n",
    "\n",
    "If you wish to work with local version of PyCoM, download the `pycom.db` and `pycom.mat` files from:\n",
    "\n",
    "[https://pycom.brunel.ac.uk/downloads](https://pycom.brunel.ac.uk/downloads) into your favourite folder for example [/Volumes/Data/PyCoMdb/]"
   ]
  },
  {
   "cell_type": "markdown",
   "id": "18946156",
   "metadata": {},
   "source": [
    "As next step, please go through the following tutorials:\n",
    "1. Working with local  version of PyCoM (01_PyCoM_DB_Local.ipynb)\n",
    "2. Working with remote version of PyCoM (02_PyCoM_DB_Remote.ipynb)\n",
    "3. Working with WebAPI (03_PyCoM_DB_WebAPI.ipynb)\n",
    "4. Sample use cases (04_UseCases.ipynb)\n",
    "5. Downloading and Analysing alignments (05_Alignment_analysis.ipynb)\n",
    "6. Generating images from the Bioinformatics paper (06_Paper_Images.ipynb)"
   ]
  }
 ],
 "metadata": {
  "kernelspec": {
   "display_name": "Python 3-conda (ipykernel)",
   "language": "python",
   "name": "python3"
  },
  "language_info": {
   "codemirror_mode": {
    "name": "ipython",
    "version": 3
   },
   "file_extension": ".py",
   "mimetype": "text/x-python",
   "name": "python",
   "nbconvert_exporter": "python",
   "pygments_lexer": "ipython3",
   "version": "3.9.12"
  }
 },
 "nbformat": 4,
 "nbformat_minor": 5
}
