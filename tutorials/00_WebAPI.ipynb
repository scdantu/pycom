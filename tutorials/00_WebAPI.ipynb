{
 "cells": [
  {
   "cell_type": "markdown",
   "metadata": {},
   "source": [
    "# Getting started: WebAPI\n",
    "\n",
    "Working with PyCoM WebAPI will be useful if you wish to develop libraries for PyCoM using other programming languages or access the data in batch. \n",
    "\n",
    "Unlike the other two versions, you will be running these queries in your favourite browser. For list of [supported query keywords](#supported-query-keywords) see below."
   ]
  },
  {
   "cell_type": "markdown",
   "metadata": {
    "ExecuteTime": {
     "end_time": "2023-07-15T16:43:56.469823Z",
     "start_time": "2023-07-15T16:43:56.101964Z"
    }
   },
   "source": [
    "### How to use the WebAPI\n",
    "\n",
    "You can access the WebAPI for PyCoMdb using the following [link]( https://pycom.brunel.ac.uk/api/).\n",
    "\n",
    "The `find` endpoint is used to execute all the searches using the list of query keywords provided below.\n",
    "\n",
    "**Here are few examples that you can run from the navigation bar of your favourite browser:**\n",
    "\n",
    "All proteins associated with cancer (first 10 entries):\n",
    "\n",
    "`https://pycom.brunel.ac.uk/api/find?disease=cancer`\n",
    "\n",
    "The second page of that (entries 11 to 20): \n",
    "\n",
    "`https://pycom.brunel.ac.uk/api/find?disease=cancer&page=2`\n",
    "\n",
    " \n",
    "\n",
    "Entries with cofactor FAD which have a PTM, and have a disease associated with them: `https://pycom.brunel.ac.uk/api/find?cofactor=FAD&has_ptm=true&has_disease=true`\n",
    "\n",
    " \n",
    "\n",
    "The same result as before, but now loading the matrices (by setting matrix=true) `https://pycom.brunel.ac.uk/api/find?cofactor=FAD&has_ptm=true&has_disease=true&matrix=true` "
   ]
  },
  {
   "cell_type": "markdown",
   "metadata": {},
   "source": [
    "### Supported query keywords\n",
    "\n",
    "List of supported query keywords for the WebAPI:\n",
    "\n",
    "Special keywords:\n",
    "* `page`: The page number of the results. (default: 1)\n",
    "* `per_page`: The number of results per page. (default: 10, max: 100 \\[without matrix\\], 10 \\[with matrix\\])\n",
    "* `matrix`: Whether to include the matrix data in the results. (`True`/`False`, default: `False`)\n",
    "\n",
    "Protein-specific keywords:\n",
    "\n",
    "* `uniprot_id`: The UniProt ID of the protein.\n",
    "* `sequence`: The amino acid sequence of protein to search for. (full match)\n",
    "* `min_length` / `max_length`: Min/Max number of residues in the protein.\n",
    "* `min_helix` / `max_helix`: Min/Max percentage of helical structure in the protein.\n",
    "* `min_turn` / `max_turn`: Min/Max percentage of turn structure in the protein.\n",
    "* `min_strand` / `max_strand`: Min/Max percentage of beta strand structure in the protein.\n",
    "* `organism`: Taxonomic name of the genus / species of the protein. (case-insensitive)\n",
    "  * Species name or any parent taxonomic level can be used. (`pyc.get_organism_list()` for full list)\n",
    "  * Surround with `:` to get precise results\n",
    "    * `:homo:` returns `Homo sapiens` & `Homo sapiens neanderthalensis`)\n",
    "    * `homo` also returns **homo**eomma, t**homo**mys, and *hundreds* others\n",
    "* `organism_id`: Precise NCBI Taxonomy ID of the species of the protein. (prefer to use `organism` instead)\n",
    "* `cath`: CATH classification of the protein (`3.40.50.360` or `3.40.*.*` or `3.*`).\n",
    "* `enzyme`: Enzyme Commission number of the protein. (`1.3.1.3` or `1.3.*.*` or `1.*`).\n",
    "* `has_substrate`: Whether the protein has a known substrate. (`True`/`False`)\n",
    "* `has_ptm`: Whether the protein has a known post-translational modification. (`True`/`False`)\n",
    "* `has_pdb`: Whether the protein has a known PDB structure. (`True`/`False`)\n",
    "* `disease`: The disease associated with the protein. (name of disease, case-insensitive, e.g `cancer`)\n",
    "  * Use `pyc.get_disease_list()` for full list.\n",
    "  * `cancer` searches for `Ovarian cancer`, `Lung cancer`, ...\n",
    "* `disease_id`: The ID of the disease associated with the protein. (`DI-02205`, get_disease_list()\n",
    "* `has_disease`: Whether the protein is associated with a disease. (`True`/`False`)\n",
    "* `cofactor`: The cofactor associated with the protein. (name of cofactor, case-insensitive, e.g `Zn(2+)`])\n",
    "* `cofactor_id`: The ID of the cofactor associated with the protein. (`CHEBI:00001`, get_cofactor_list())\n",
    "* `biological_process`: Biological process associated with the protein. (e.g `antiviral defense`, use `pyc.get_biological_process_list()` for full list)\n",
    "* `cellular_component`: Cellular component associated with the protein. (e.g `nucleus`, use `pyc.get_cellular_component_list()` for full list\n",
    "* `domain`: Domain associated with the protein. (e.g `zinc-finger`, use `pyc.get_domain_list()` for full list)\n",
    "* `ligand`: Ligand associated with the protein. (e.g `zinc`, use `pyc.get_ligand_list()` for full list\n",
    "* `molecular_function`: Molecular function associated with the protein. (e.g `antioxidant activity`, use `pyc.get_molecular_function_list()` for full list\n",
    "* `ptm`: Post-translational modification associated with the protein. (e.g `phosphoprotein`, use `pyc.get_ptm_list()` for full list"
   ]
  }
 ],
 "metadata": {
  "kernelspec": {
   "display_name": "Python 3-conda (ipykernel)",
   "language": "python",
   "name": "python3"
  },
  "language_info": {
   "codemirror_mode": {
    "name": "ipython",
    "version": 3
   },
   "file_extension": ".py",
   "mimetype": "text/x-python",
   "name": "python",
   "nbconvert_exporter": "python",
   "pygments_lexer": "ipython3",
   "version": "3.9.12"
  }
 },
 "nbformat": 4,
 "nbformat_minor": 4
}
