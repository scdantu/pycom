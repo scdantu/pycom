{
 "cells": [
  {
   "cell_type": "markdown",
   "metadata": {},
   "source": [
    "\n",
    " "
   ]
  },
  {
   "cell_type": "code",
   "execution_count": 1,
   "metadata": {
    "collapsed": false,
    "jupyter": {
     "outputs_hidden": false
    }
   },
   "outputs": [],
   "source": [
    "# importing all usefull classes from PyCoM\n",
    "from pycom import PyCom, ProteinParams,CoMAnalysis\n",
    "import pandas as pd\n",
    "import numpy as np\n",
    "# matplotlib\n",
    "import matplotlib\n",
    "import matplotlib.pyplot as plt\n",
    "matplotlib.rcParams['pdf.fonttype'] = 42\n",
    "matplotlib.rcParams['font.family'] = \"sans-serif\"\n",
    "matplotlib.rcParams['font.sans-serif'] = \"Arial\""
   ]
  },
  {
   "cell_type": "code",
   "execution_count": 2,
   "metadata": {
    "collapsed": false,
    "jupyter": {
     "outputs_hidden": false
    }
   },
   "outputs": [],
   "source": [
    "#set the path to the database\n",
    "database_folder_path=\"/Volumes/mason/Work/Sarath/Research/pycom/\"\n",
    "file_matrix_db = database_folder_path+\"pycom.mat\"\n",
    "file_protein_db= database_folder_path+\"pycom.db\"\n",
    "my_color=\"#3498DB\"\n",
    "my_color=\"#6495ED\""
   ]
  },
  {
   "cell_type": "code",
   "execution_count": 3,
   "metadata": {},
   "outputs": [],
   "source": [
    "obj_pycom = PyCom(db_path=file_protein_db, mat_path=file_matrix_db)"
   ]
  },
  {
   "cell_type": "code",
   "execution_count": 68,
   "metadata": {},
   "outputs": [],
   "source": [
    "#obj_pycom = PyCom(remote=True)"
   ]
  },
  {
   "cell_type": "markdown",
   "metadata": {},
   "source": [
    "Construct your query (its empty as I want all information)"
   ]
  },
  {
   "cell_type": "code",
   "execution_count": 6,
   "metadata": {
    "collapsed": false,
    "jupyter": {
     "outputs_hidden": false
    }
   },
   "outputs": [],
   "source": [
    "# Here we are asking for all the proteins that match the enzyme class 3 and have been associated with the disease cancer.\n",
    "query_parameters={}\n",
    "# executing the query returns a pandas dataframe with information about all the proteins which match the query"
   ]
  },
  {
   "cell_type": "markdown",
   "metadata": {
    "jp-MarkdownHeadingCollapsed": true,
    "tags": []
   },
   "source": [
    "Finding out dimensions of the dataframe:"
   ]
  },
  {
   "cell_type": "code",
   "execution_count": 7,
   "metadata": {},
   "outputs": [
    {
     "name": "stderr",
     "output_type": "stream",
     "text": [
      "/Users/sdantu/Work/pyc_wspace/pycom/pycom/pycom/interface/_find_helper.py:19: UserWarning: No constraints were passed to find(). This will return all proteins in the database.\n",
      "  warn('No constraints were passed to find(). This will return all proteins in the database.')\n"
     ]
    }
   ],
   "source": [
    "entries_data_frame=obj_pycom.find(query_parameters)"
   ]
  },
  {
   "cell_type": "markdown",
   "metadata": {},
   "source": [
    "### Save the query to a csv file"
   ]
  },
  {
   "cell_type": "code",
   "execution_count": 8,
   "metadata": {},
   "outputs": [],
   "source": [
    "entries_data_frame.to_csv(\"Full_DB_Query.csv\",index=False)"
   ]
  },
  {
   "cell_type": "markdown",
   "metadata": {},
   "source": [
    "### Read query data from csv file"
   ]
  },
  {
   "cell_type": "code",
   "execution_count": 90,
   "metadata": {},
   "outputs": [],
   "source": [
    "#entries_data_frame=pd.read_csv(\"Full_DB.csv\")"
   ]
  },
  {
   "cell_type": "markdown",
   "metadata": {},
   "source": [
    "Find unique entries in a column:"
   ]
  },
  {
   "cell_type": "code",
   "execution_count": 13,
   "metadata": {},
   "outputs": [
    {
     "data": {
      "text/plain": [
       "array([0, 1])"
      ]
     },
     "execution_count": 13,
     "metadata": {},
     "output_type": "execute_result"
    }
   ],
   "source": [
    "entries_data_frame['has_ptm'].unique()"
   ]
  },
  {
   "cell_type": "code",
   "execution_count": 10,
   "metadata": {},
   "outputs": [
    {
     "data": {
      "text/plain": [
       "has_pdb\n",
       "0    434632\n",
       "1     22990\n",
       "Name: count, dtype: int64"
      ]
     },
     "execution_count": 10,
     "metadata": {},
     "output_type": "execute_result"
    }
   ],
   "source": [
    "entries_data_frame['has_pdb'].value_counts()"
   ]
  },
  {
   "cell_type": "code",
   "execution_count": 34,
   "metadata": {},
   "outputs": [
    {
     "data": {
      "text/plain": [
       "1.0"
      ]
     },
     "execution_count": 34,
     "metadata": {},
     "output_type": "execute_result"
    }
   ],
   "source": [
    "entries_data_frame[\"neff\"].min()"
   ]
  },
  {
   "cell_type": "markdown",
   "metadata": {
    "tags": []
   },
   "source": [
    "### Supported query keywords:\n",
    "* `uniprot_id`: The UniProt ID of the protein.\n",
    "* `sequence`: The amino acid sequence of protein to search for. (full match)\n",
    "* `min_length` / `max_length`: Min/Max number of residues in the protein.\n",
    "* `min_helix` / `max_helix`: Min/Max percentage of helical structure in the protein.\n",
    "* `min_turn` / `max_turn`: Min/Max percentage of turn structure in the protein.\n",
    "* `min_strand` / `max_strand`: Min/Max percentage of beta strand structure in the protein.\n",
    "* `organism`: Taxonomic name of the genus / species of the protein. (case-insensitive)\n",
    "  * Species name or any parent taxonomic level can be used. (`pyc.get_organism_list()` for full list)\n",
    "  * Surround with `:` to get precise results\n",
    "    * `:homo:` returns `Homo sapiens` & `Homo sapiens neanderthalensis`)\n",
    "    * `homo` also returns **homo**eomma, t**homo**mys, and *hundreds* others\n",
    "* `organism_id`: Precise NCBI Taxonomy ID of the species of the protein. (prefer to use `organism` instead)\n",
    "* `cath`: CATH classification of the protein (`3.40.50.360` or `3.40.*.*` or `3.*`).\n",
    "* `enzyme`: Enzyme Commission number of the protein. (`1.3.1.3` or `1.3.*.*` or `1.*`).\n",
    "* `has_substrate`: Whether the protein has a known substrate. (`True`/`False`)\n",
    "* `has_ptm`: Whether the protein has a known post-translational modification. (`True`/`False`)\n",
    "* `has_pbd`: Whether the protein has a known PDB structure. (`True`/`False`)\n",
    "* `disease`: The disease associated with the protein. (name of disease, case-insensitive, e.g `cancer`)\n",
    "  * Use `pyc.get_disease_list()` for full list.\n",
    "  * `cancer` searches for `Ovarian cancer`, `Lung cancer`, ...\n",
    "* `disease_id`: The ID of the disease associated with the protein. (`DI-02205`, get_disease_list()\n",
    "* `has_disease`: Whether the protein is associated with a disease. (`True`/`False`)\n",
    "* `cofactor`: The cofactor associated with the protein. (name of cofactor, case-insensitive, e.g `Zn(2+)`])\n",
    "* `cofactor_id`: The ID of the cofactor associated with the protein. (`CHEBI:00001`, get_cofactor_list())\n",
    "* `biological_process`: Biological process associated with the protein. (e.g `antiviral defense`, use `pyc.get_biological_process_list()` for full list)\n",
    "* `cellular_component`: Cellular component associated with the protein. (e.g `nucleus`, use `pyc.get_cellular_component_list()` for full list\n",
    "* `domain`: Domain associated with the protein. (e.g `zinc-finger`, use `pyc.get_domain_list()` for full list)\n",
    "* `ligand`: Ligand associated with the protein. (e.g `zinc`, use `pyc.get_ligand_list()` for full list\n",
    "* `molecular_function`: Molecular function associated with the protein. (e.g `antioxidant activity`, use `pyc.get_molecular_function_list()` for full list\n",
    "* `ptm`: Post-translational modification associated with the protein. (e.g `phosphoprotein`, use `pyc.get_ptm_list()` for full list\n",
    "\n",
    "\n",
    "Here is an example of making a large query, then paginating the results:"
   ]
  },
  {
   "cell_type": "markdown",
   "metadata": {},
   "source": []
  },
  {
   "cell_type": "code",
   "execution_count": 88,
   "metadata": {
    "ExecuteTime": {
     "end_time": "2023-07-27T17:09:50.757400Z",
     "start_time": "2023-07-27T17:09:40.694026Z"
    },
    "collapsed": false,
    "jupyter": {
     "outputs_hidden": false
    }
   },
   "outputs": [
    {
     "data": {
      "text/html": [
       "<div>\n",
       "<style scoped>\n",
       "    .dataframe tbody tr th:only-of-type {\n",
       "        vertical-align: middle;\n",
       "    }\n",
       "\n",
       "    .dataframe tbody tr th {\n",
       "        vertical-align: top;\n",
       "    }\n",
       "\n",
       "    .dataframe thead th {\n",
       "        text-align: right;\n",
       "    }\n",
       "</style>\n",
       "<table border=\"1\" class=\"dataframe\">\n",
       "  <thead>\n",
       "    <tr style=\"text-align: right;\">\n",
       "      <th></th>\n",
       "      <th>uniprot_id</th>\n",
       "      <th>neff</th>\n",
       "      <th>sequence_length</th>\n",
       "      <th>sequence</th>\n",
       "      <th>organism_id</th>\n",
       "      <th>helix_frac</th>\n",
       "      <th>turn_frac</th>\n",
       "      <th>strand_frac</th>\n",
       "      <th>has_ptm</th>\n",
       "      <th>has_pdb</th>\n",
       "      <th>has_substrate</th>\n",
       "      <th>matrix</th>\n",
       "      <th>enzyme_commission</th>\n",
       "      <th>cath_class</th>\n",
       "      <th>pdb_id</th>\n",
       "      <th>cofactor</th>\n",
       "      <th>ptm</th>\n",
       "      <th>disease_name</th>\n",
       "      <th>disease_id</th>\n",
       "    </tr>\n",
       "  </thead>\n",
       "  <tbody>\n",
       "  </tbody>\n",
       "</table>\n",
       "</div>"
      ],
      "text/plain": [
       "Empty DataFrame\n",
       "Columns: [uniprot_id, neff, sequence_length, sequence, organism_id, helix_frac, turn_frac, strand_frac, has_ptm, has_pdb, has_substrate, matrix, enzyme_commission, cath_class, pdb_id, cofactor, ptm, disease_name, disease_id]\n",
       "Index: []"
      ]
     },
     "execution_count": 88,
     "metadata": {},
     "output_type": "execute_result"
    }
   ],
   "source": []
  },
  {
   "cell_type": "code",
   "execution_count": 75,
   "metadata": {},
   "outputs": [],
   "source": [
    "ticks_font=12\n",
    "labels_font=14"
   ]
  },
  {
   "cell_type": "markdown",
   "metadata": {},
   "source": [
    "### Plot N_eff"
   ]
  },
  {
   "cell_type": "code",
   "execution_count": 76,
   "metadata": {
    "ExecuteTime": {
     "end_time": "2023-07-27T17:10:24.136598Z",
     "start_time": "2023-07-27T17:10:11.777570Z"
    },
    "collapsed": false,
    "jupyter": {
     "outputs_hidden": false
    }
   },
   "outputs": [
    {
     "data": {
      "image/png": "[encoded data removed]",
      "text/plain": [
       "<Figure size 288x216 with 1 Axes>"
      ]
     },
     "metadata": {
      "needs_background": "light"
     },
     "output_type": "display_data"
    }
   ],
   "source": [
    "xlabel='$\\mathrm{N}_{eff}$'\n",
    "ylabel=\"Count\"\n",
    "plt.figure(figsize=(4,3))\n",
    "neff_hist=plt.hist(entries_data_frame[\"neff\"],bins=50,color=my_color,cumulative=False,density=False,alpha=0.5)\n",
    "plt.xlabel(xlabel,fontsize=labels_font)\n",
    "plt.ylabel(ylabel,fontsize=labels_font)\n",
    "plt.xticks(np.arange(0,18,2),fontsize=ticks_font)\n",
    "plt.yticks(fontsize=ticks_font)\n",
    "plt.grid(linestyle=\"--\",lw=1)\n",
    "plt.tight_layout()\n",
    "plt.savefig(\"Neff.png\",dpi=300,transparent=True)"
   ]
  },
  {
   "cell_type": "markdown",
   "metadata": {},
   "source": [
    "### Plot Sequence length distribution"
   ]
  },
  {
   "cell_type": "code",
   "execution_count": 80,
   "metadata": {},
   "outputs": [
    {
     "data": {
      "image/png": "[encoded data removed]",
      "text/plain": [
       "<Figure size 288x216 with 1 Axes>"
      ]
     },
     "metadata": {
      "needs_background": "light"
     },
     "output_type": "display_data"
    }
   ],
   "source": [
    "xlabel='Sequence length'\n",
    "ylabel=\"Count\"\n",
    "plt.figure(figsize=(4,3))\n",
    "seq_hist=plt.hist(entries_data_frame[\"sequence_length\"],bins=50,color=my_color,cumulative=False,density=False,alpha=0.5)\n",
    "plt.xlabel(xlabel,fontsize=labels_font)\n",
    "plt.ylabel(ylabel,fontsize=labels_font)\n",
    "plt.xticks(np.arange(0,550,100),fontsize=ticks_font)\n",
    "plt.yticks(fontsize=ticks_font)\n",
    "plt.grid(linestyle=\"--\",lw=1)\n",
    "plt.tight_layout()\n",
    "plt.savefig(\"seq_len.png\",dpi=300,transparent=True)"
   ]
  },
  {
   "cell_type": "code",
   "execution_count": 130,
   "metadata": {
    "tags": []
   },
   "outputs": [
    {
     "data": {
      "image/png": "[encoded data removed]",
      "text/plain": [
       "<Figure size 432x288 with 1 Axes>"
      ]
     },
     "metadata": {
      "needs_background": "light"
     },
     "output_type": "display_data"
    }
   ],
   "source": [
    "#This is not informative\n",
    "\n",
    "xlabel='Secondary structure (%)'\n",
    "ylabel=\"Count\"\n",
    "helix_hist=plt.hist(entries_has_pdb[\"helix_frac\"]*100,bins=50,color=\"#6495ED\",cumulative=False,density=False,alpha=0.4)\n",
    "strand_hist=plt.hist(entries_has_pdb[\"strand_frac\"]*100,bins=50,color=\"#FFBF00\",cumulative=False,density=False,alpha=0.4)\n",
    "turn_hist=plt.hist(entries_has_pdb[\"helix_frac\"]*100,bins=50,color=\"#DE3163\",cumulative=False,density=False,alpha=0.4)\n",
    "\n",
    "plt.xlabel(xlabel,fontsize=labels_font)\n",
    "plt.ylabel(ylabel,fontsize=labels_font)\n",
    "plt.xticks(np.arange(0,110,10),fontsize=ticks_font)\n",
    "plt.yticks(fontsize=ticks_font)\n",
    "plt.savefig(\"sstruc.png\",dpi=300,transparent=True)"
   ]
  },
  {
   "cell_type": "markdown",
   "metadata": {},
   "source": [
    "#### Get columns in the dataframe"
   ]
  },
  {
   "cell_type": "code",
   "execution_count": 27,
   "metadata": {},
   "outputs": [
    {
     "data": {
      "text/html": [
       "<div>\n",
       "<style scoped>\n",
       "    .dataframe tbody tr th:only-of-type {\n",
       "        vertical-align: middle;\n",
       "    }\n",
       "\n",
       "    .dataframe tbody tr th {\n",
       "        vertical-align: top;\n",
       "    }\n",
       "\n",
       "    .dataframe thead th {\n",
       "        text-align: right;\n",
       "    }\n",
       "</style>\n",
       "<table border=\"1\" class=\"dataframe\">\n",
       "  <thead>\n",
       "    <tr style=\"text-align: right;\">\n",
       "      <th></th>\n",
       "      <th>uniprot_id</th>\n",
       "      <th>neff</th>\n",
       "      <th>sequence_length</th>\n",
       "      <th>sequence</th>\n",
       "      <th>organism_id</th>\n",
       "      <th>helix_frac</th>\n",
       "      <th>turn_frac</th>\n",
       "      <th>strand_frac</th>\n",
       "      <th>has_ptm</th>\n",
       "      <th>has_pdb</th>\n",
       "      <th>has_substrate</th>\n",
       "      <th>matrix</th>\n",
       "      <th>enzyme_commission</th>\n",
       "      <th>cath_class</th>\n",
       "      <th>pdb_id</th>\n",
       "      <th>cofactor</th>\n",
       "      <th>ptm</th>\n",
       "      <th>disease_name</th>\n",
       "      <th>disease_id</th>\n",
       "    </tr>\n",
       "  </thead>\n",
       "  <tbody>\n",
       "    <tr>\n",
       "      <th>0</th>\n",
       "      <td>P0C9F0</td>\n",
       "      <td>8.814</td>\n",
       "      <td>122</td>\n",
       "      <td>MVRLFYNPIKYLFYRRSCKKRLRKALKKLNFYHPPKECCQIYRLLE...</td>\n",
       "      <td>561445</td>\n",
       "      <td>0.0</td>\n",
       "      <td>0.0</td>\n",
       "      <td>0.0</td>\n",
       "      <td>0</td>\n",
       "      <td>0</td>\n",
       "      <td>0</td>\n",
       "      <td>NaN</td>\n",
       "      <td>NaN</td>\n",
       "      <td>NaN</td>\n",
       "      <td>NaN</td>\n",
       "      <td>NaN</td>\n",
       "      <td>NaN</td>\n",
       "      <td>NaN</td>\n",
       "      <td>NaN</td>\n",
       "    </tr>\n",
       "    <tr>\n",
       "      <th>1</th>\n",
       "      <td>P0C9F1</td>\n",
       "      <td>8.668</td>\n",
       "      <td>126</td>\n",
       "      <td>MVRLFHNPIKCLFYRGSRKTREKKLRKSLKKLNFYHPPGDCCQIYR...</td>\n",
       "      <td>10500</td>\n",
       "      <td>0.0</td>\n",
       "      <td>0.0</td>\n",
       "      <td>0.0</td>\n",
       "      <td>0</td>\n",
       "      <td>0</td>\n",
       "      <td>0</td>\n",
       "      <td>NaN</td>\n",
       "      <td>NaN</td>\n",
       "      <td>NaN</td>\n",
       "      <td>NaN</td>\n",
       "      <td>NaN</td>\n",
       "      <td>NaN</td>\n",
       "      <td>NaN</td>\n",
       "      <td>NaN</td>\n",
       "    </tr>\n",
       "    <tr>\n",
       "      <th>2</th>\n",
       "      <td>P0C9F2</td>\n",
       "      <td>8.755</td>\n",
       "      <td>124</td>\n",
       "      <td>MVRLFRNPIKCIFYRRSRKIQEKKLRKSLKKLNFYHPPEDCCQIYR...</td>\n",
       "      <td>561443</td>\n",
       "      <td>0.0</td>\n",
       "      <td>0.0</td>\n",
       "      <td>0.0</td>\n",
       "      <td>0</td>\n",
       "      <td>0</td>\n",
       "      <td>0</td>\n",
       "      <td>NaN</td>\n",
       "      <td>NaN</td>\n",
       "      <td>NaN</td>\n",
       "      <td>NaN</td>\n",
       "      <td>NaN</td>\n",
       "      <td>NaN</td>\n",
       "      <td>NaN</td>\n",
       "      <td>NaN</td>\n",
       "    </tr>\n",
       "    <tr>\n",
       "      <th>3</th>\n",
       "      <td>P0C9E9</td>\n",
       "      <td>8.755</td>\n",
       "      <td>124</td>\n",
       "      <td>MVRLFRNPIKCIFYRRSRKIQEKKLRKSLKKLNFYHPPEDCCQIYR...</td>\n",
       "      <td>561444</td>\n",
       "      <td>0.0</td>\n",
       "      <td>0.0</td>\n",
       "      <td>0.0</td>\n",
       "      <td>0</td>\n",
       "      <td>0</td>\n",
       "      <td>0</td>\n",
       "      <td>NaN</td>\n",
       "      <td>NaN</td>\n",
       "      <td>NaN</td>\n",
       "      <td>NaN</td>\n",
       "      <td>NaN</td>\n",
       "      <td>NaN</td>\n",
       "      <td>NaN</td>\n",
       "      <td>NaN</td>\n",
       "    </tr>\n",
       "    <tr>\n",
       "      <th>4</th>\n",
       "      <td>Q65209</td>\n",
       "      <td>6.062</td>\n",
       "      <td>141</td>\n",
       "      <td>MGNKESKYLEMCSEEAWLNIPNIFKCIFIRKLFYNKWLKYQEKKLK...</td>\n",
       "      <td>10498</td>\n",
       "      <td>0.0</td>\n",
       "      <td>0.0</td>\n",
       "      <td>0.0</td>\n",
       "      <td>0</td>\n",
       "      <td>0</td>\n",
       "      <td>0</td>\n",
       "      <td>NaN</td>\n",
       "      <td>NaN</td>\n",
       "      <td>NaN</td>\n",
       "      <td>NaN</td>\n",
       "      <td>NaN</td>\n",
       "      <td>NaN</td>\n",
       "      <td>NaN</td>\n",
       "      <td>NaN</td>\n",
       "    </tr>\n",
       "  </tbody>\n",
       "</table>\n",
       "</div>"
      ],
      "text/plain": [
       "  uniprot_id   neff  sequence_length  \\\n",
       "0     P0C9F0  8.814              122   \n",
       "1     P0C9F1  8.668              126   \n",
       "2     P0C9F2  8.755              124   \n",
       "3     P0C9E9  8.755              124   \n",
       "4     Q65209  6.062              141   \n",
       "\n",
       "                                            sequence  organism_id  helix_frac  \\\n",
       "0  MVRLFYNPIKYLFYRRSCKKRLRKALKKLNFYHPPKECCQIYRLLE...       561445         0.0   \n",
       "1  MVRLFHNPIKCLFYRGSRKTREKKLRKSLKKLNFYHPPGDCCQIYR...        10500         0.0   \n",
       "2  MVRLFRNPIKCIFYRRSRKIQEKKLRKSLKKLNFYHPPEDCCQIYR...       561443         0.0   \n",
       "3  MVRLFRNPIKCIFYRRSRKIQEKKLRKSLKKLNFYHPPEDCCQIYR...       561444         0.0   \n",
       "4  MGNKESKYLEMCSEEAWLNIPNIFKCIFIRKLFYNKWLKYQEKKLK...        10498         0.0   \n",
       "\n",
       "   turn_frac  strand_frac  has_ptm  has_pdb  has_substrate  matrix  \\\n",
       "0        0.0          0.0        0        0              0     NaN   \n",
       "1        0.0          0.0        0        0              0     NaN   \n",
       "2        0.0          0.0        0        0              0     NaN   \n",
       "3        0.0          0.0        0        0              0     NaN   \n",
       "4        0.0          0.0        0        0              0     NaN   \n",
       "\n",
       "  enzyme_commission cath_class pdb_id cofactor  ptm disease_name disease_id  \n",
       "0               NaN        NaN    NaN      NaN  NaN          NaN        NaN  \n",
       "1               NaN        NaN    NaN      NaN  NaN          NaN        NaN  \n",
       "2               NaN        NaN    NaN      NaN  NaN          NaN        NaN  \n",
       "3               NaN        NaN    NaN      NaN  NaN          NaN        NaN  \n",
       "4               NaN        NaN    NaN      NaN  NaN          NaN        NaN  "
      ]
     },
     "execution_count": 27,
     "metadata": {},
     "output_type": "execute_result"
    }
   ],
   "source": [
    "entries_data_frame.head()"
   ]
  },
  {
   "cell_type": "markdown",
   "metadata": {},
   "source": [
    "### Add biological features to the dataframe for each protein\n",
    "\n",
    "Initialise the object loader class and then call each add function\n",
    "\n",
    "1. Add Enzyme Classification \n",
    "2. Add CATH Class\n",
    "3. Add Co-factors\n",
    "4. Add PTM\n",
    "5. Add Diseases\n"
   ]
  },
  {
   "cell_type": "code",
   "execution_count": 16,
   "metadata": {},
   "outputs": [],
   "source": [
    "obj_data_loader=obj_pycom.get_data_loader()\n",
    "entries_data_frame=obj_data_loader.add_enzyme_commission(entries_data_frame,force_single_entry=False)\n",
    "entries_data_frame=obj_data_loader.add_cath_class(entries_data_frame,force_single_entry=False)"
   ]
  },
  {
   "cell_type": "code",
   "execution_count": 18,
   "metadata": {},
   "outputs": [],
   "source": [
    "entries_data_frame=obj_data_loader.add_pdbs(entries_data_frame,force_single_entry=False)"
   ]
  },
  {
   "cell_type": "code",
   "execution_count": 17,
   "metadata": {},
   "outputs": [],
   "source": [
    "entries_data_frame=obj_data_loader.add_cofactors(entries_data_frame,force_single_entry=False)"
   ]
  },
  {
   "cell_type": "code",
   "execution_count": 19,
   "metadata": {},
   "outputs": [],
   "source": [
    "entries_data_frame=obj_data_loader.add_ptm(entries_data_frame,force_single_entry=False)"
   ]
  },
  {
   "cell_type": "code",
   "execution_count": 20,
   "metadata": {},
   "outputs": [],
   "source": [
    "entries_data_frame=obj_data_loader.add_diseases(entries_data_frame,force_single_entry=False)"
   ]
  },
  {
   "cell_type": "markdown",
   "metadata": {},
   "source": [
    "#### Save the progress to a csv file"
   ]
  },
  {
   "cell_type": "code",
   "execution_count": 21,
   "metadata": {},
   "outputs": [],
   "source": [
    "entries_data_frame.to_csv(\"Full_DB_With_Details.csv\",index=False)"
   ]
  },
  {
   "cell_type": "code",
   "execution_count": null,
   "metadata": {},
   "outputs": [],
   "source": [
    "entries_data_frame['sequence'].unique().sum()"
   ]
  },
  {
   "cell_type": "markdown",
   "metadata": {},
   "source": [
    "Number of entries with PDB files available"
   ]
  },
  {
   "cell_type": "code",
   "execution_count": 26,
   "metadata": {},
   "outputs": [
    {
     "data": {
      "text/plain": [
       "22990"
      ]
     },
     "execution_count": 26,
     "metadata": {},
     "output_type": "execute_result"
    }
   ],
   "source": [
    "entries_data_frame[\"pdb_id\"].notna().sum()"
   ]
  },
  {
   "cell_type": "code",
   "execution_count": null,
   "metadata": {},
   "outputs": [],
   "source": [
    "ec_full.describe(include=\"all\")"
   ]
  },
  {
   "cell_type": "code",
   "execution_count": 31,
   "metadata": {},
   "outputs": [
    {
     "data": {
      "text/plain": [
       "91097"
      ]
     },
     "execution_count": 31,
     "metadata": {},
     "output_type": "execute_result"
    }
   ],
   "source": [
    "entries_data_frame[\"cofactor\"].notna().sum()"
   ]
  },
  {
   "cell_type": "code",
   "execution_count": 32,
   "metadata": {},
   "outputs": [
    {
     "data": {
      "text/plain": [
       "285937"
      ]
     },
     "execution_count": 32,
     "metadata": {},
     "output_type": "execute_result"
    }
   ],
   "source": [
    "entries_data_frame[\"cath_class\"].notna().sum()"
   ]
  },
  {
   "cell_type": "code",
   "execution_count": 22,
   "metadata": {},
   "outputs": [],
   "source": [
    "entries_with_ec_data=entries_data_frame[entries_data_frame[\"enzyme_commission\"].notna()]\n",
    "entries_with_cath_data=entries_data_frame[entries_data_frame[\"cath_class\"].notna()]"
   ]
  },
  {
   "cell_type": "code",
   "execution_count": 26,
   "metadata": {},
   "outputs": [
    {
     "data": {
      "text/plain": [
       "cath_class\n",
       "False    285937\n",
       "Name: count, dtype: int64"
      ]
     },
     "execution_count": 26,
     "metadata": {},
     "output_type": "execute_result"
    }
   ],
   "source": [
    "entries_with_cath_data[\"cath_class\"].isna().value_counts()"
   ]
  },
  {
   "cell_type": "code",
   "execution_count": 33,
   "metadata": {},
   "outputs": [],
   "source": [
    "\n",
    "from collections import OrderedDict\n",
    "\n",
    "def group_data_by_class(data,data_type=1):\n",
    "    global dict_group_data\n",
    "    dict_group_data={}\n",
    "\n",
    "    data_class=\"enzyme_commission\"\n",
    "    if(data_type==1):\n",
    "        data_class=\"enzyme_commission\"\n",
    "    if(data_type==2):\n",
    "        data_class=\"cath_class\"\n",
    "\n",
    "    for i_data in data[data_class]:\n",
    "        n=len(i_data)\n",
    "        if(n==1):\n",
    "            classid=i_data[0].split('.')[0]\n",
    "            update_dict_group(classid)\n",
    "        if(n>1):\n",
    "            for j in i_data:\n",
    "                update_dict_group(j[0].split('.')[0])\n",
    "    dict_group_data=dict(sorted(dict_group_data.items()))    \n",
    "    return dict_group_data\n",
    "def update_dict_group(classid):\n",
    "    global dict_group_data\n",
    "\n",
    "    if(classid in dict_group_data.keys()):\n",
    "        dict_group_data[classid]=dict_group_data[classid]+1\n",
    "    else:\n",
    "        dict_group_data[classid]=1"
   ]
  },
  {
   "cell_type": "code",
   "execution_count": 34,
   "metadata": {},
   "outputs": [
    {
     "data": {
      "text/plain": [
       "{'1': 28581,\n",
       " '2': 80264,\n",
       " '3': 48572,\n",
       " '4': 22166,\n",
       " '5': 12752,\n",
       " '6': 16888,\n",
       " '7': 10333}"
      ]
     },
     "execution_count": 34,
     "metadata": {},
     "output_type": "execute_result"
    }
   ],
   "source": [
    "ec_numbers=group_data_by_class(entries_with_ec_data,data_type=1)\n",
    "ec_numbers"
   ]
  },
  {
   "cell_type": "code",
   "execution_count": 35,
   "metadata": {},
   "outputs": [
    {
     "data": {
      "text/plain": [
       "{'1': 69567, '2': 48531, '3': 225736, '4': 8556, '6': 1021}"
      ]
     },
     "execution_count": 35,
     "metadata": {},
     "output_type": "execute_result"
    }
   ],
   "source": [
    "cath_numbers=group_data_by_class(entries_with_cath_data,data_type=2)\n",
    "cath_numbers"
   ]
  },
  {
   "cell_type": "code",
   "execution_count": 59,
   "metadata": {},
   "outputs": [
    {
     "data": {
      "text/plain": [
       "0"
      ]
     },
     "execution_count": 59,
     "metadata": {},
     "output_type": "execute_result"
    }
   ],
   "source": [
    "entries_with_cath_data[\"cath_class\"].isna().sum()"
   ]
  },
  {
   "cell_type": "code",
   "execution_count": 52,
   "metadata": {},
   "outputs": [
    {
     "data": {
      "text/html": [
       "<div>\n",
       "<style scoped>\n",
       "    .dataframe tbody tr th:only-of-type {\n",
       "        vertical-align: middle;\n",
       "    }\n",
       "\n",
       "    .dataframe tbody tr th {\n",
       "        vertical-align: top;\n",
       "    }\n",
       "\n",
       "    .dataframe thead th {\n",
       "        text-align: right;\n",
       "    }\n",
       "</style>\n",
       "<table border=\"1\" class=\"dataframe\">\n",
       "  <thead>\n",
       "    <tr style=\"text-align: right;\">\n",
       "      <th></th>\n",
       "      <th>uniprot_id</th>\n",
       "      <th>neff</th>\n",
       "      <th>sequence_length</th>\n",
       "      <th>sequence</th>\n",
       "      <th>organism_id</th>\n",
       "      <th>helix_frac</th>\n",
       "      <th>turn_frac</th>\n",
       "      <th>strand_frac</th>\n",
       "      <th>has_ptm</th>\n",
       "      <th>has_pdb</th>\n",
       "      <th>has_substrate</th>\n",
       "      <th>matrix</th>\n",
       "      <th>enzyme_commission</th>\n",
       "      <th>cath_class</th>\n",
       "      <th>pdb_id</th>\n",
       "      <th>cofactor</th>\n",
       "      <th>ptm</th>\n",
       "      <th>disease_name</th>\n",
       "      <th>disease_id</th>\n",
       "    </tr>\n",
       "  </thead>\n",
       "  <tbody>\n",
       "    <tr>\n",
       "      <th>38</th>\n",
       "      <td>O96436</td>\n",
       "      <td>7.004</td>\n",
       "      <td>277</td>\n",
       "      <td>MIEDIKTLREEHVYRAKLAEQAERYDEMAEAMKNLVENCLDQNNSP...</td>\n",
       "      <td>5802</td>\n",
       "      <td>0.0</td>\n",
       "      <td>0.0</td>\n",
       "      <td>0.0</td>\n",
       "      <td>0</td>\n",
       "      <td>0</td>\n",
       "      <td>0</td>\n",
       "      <td>NaN</td>\n",
       "      <td>NaN</td>\n",
       "      <td>[1.20.190.20]</td>\n",
       "      <td>NaN</td>\n",
       "      <td>NaN</td>\n",
       "      <td>NaN</td>\n",
       "      <td>NaN</td>\n",
       "      <td>NaN</td>\n",
       "    </tr>\n",
       "    <tr>\n",
       "      <th>39</th>\n",
       "      <td>Q8SW28</td>\n",
       "      <td>7.216</td>\n",
       "      <td>258</td>\n",
       "      <td>MASKQYEEALQKANLSDMAERYDDMAKEMRLAVTLAHEDKHILNVM...</td>\n",
       "      <td>284813</td>\n",
       "      <td>0.0</td>\n",
       "      <td>0.0</td>\n",
       "      <td>0.0</td>\n",
       "      <td>0</td>\n",
       "      <td>0</td>\n",
       "      <td>0</td>\n",
       "      <td>NaN</td>\n",
       "      <td>NaN</td>\n",
       "      <td>[1.20.190.20]</td>\n",
       "      <td>NaN</td>\n",
       "      <td>NaN</td>\n",
       "      <td>NaN</td>\n",
       "      <td>NaN</td>\n",
       "      <td>NaN</td>\n",
       "    </tr>\n",
       "    <tr>\n",
       "      <th>40</th>\n",
       "      <td>Q39757</td>\n",
       "      <td>7.369</td>\n",
       "      <td>251</td>\n",
       "      <td>MASRDDLVYMAKLAEQAERFDEMVDHMKAVAQQPKELSVEERNLLS...</td>\n",
       "      <td>49266</td>\n",
       "      <td>0.0</td>\n",
       "      <td>0.0</td>\n",
       "      <td>0.0</td>\n",
       "      <td>0</td>\n",
       "      <td>0</td>\n",
       "      <td>0</td>\n",
       "      <td>NaN</td>\n",
       "      <td>NaN</td>\n",
       "      <td>[1.20.190.20]</td>\n",
       "      <td>NaN</td>\n",
       "      <td>NaN</td>\n",
       "      <td>NaN</td>\n",
       "      <td>NaN</td>\n",
       "      <td>NaN</td>\n",
       "    </tr>\n",
       "    <tr>\n",
       "      <th>41</th>\n",
       "      <td>E2RU97</td>\n",
       "      <td>7.283</td>\n",
       "      <td>248</td>\n",
       "      <td>MAEAFTREDYVFMAQLNENAERYDEMVETMRKISGMEGELSDKERN...</td>\n",
       "      <td>184922</td>\n",
       "      <td>0.0</td>\n",
       "      <td>0.0</td>\n",
       "      <td>0.0</td>\n",
       "      <td>1</td>\n",
       "      <td>1</td>\n",
       "      <td>0</td>\n",
       "      <td>NaN</td>\n",
       "      <td>NaN</td>\n",
       "      <td>[1.20.190.20]</td>\n",
       "      <td>[4F7R, 4ZQ0, 5BY9]</td>\n",
       "      <td>NaN</td>\n",
       "      <td>NaN</td>\n",
       "      <td>NaN</td>\n",
       "      <td>NaN</td>\n",
       "    </tr>\n",
       "    <tr>\n",
       "      <th>42</th>\n",
       "      <td>O65352</td>\n",
       "      <td>7.388</td>\n",
       "      <td>259</td>\n",
       "      <td>MAAASSPREENVYLAKLAEQAERYEEMVEFMEKVVAAADGGEELTI...</td>\n",
       "      <td>4232</td>\n",
       "      <td>0.0</td>\n",
       "      <td>0.0</td>\n",
       "      <td>0.0</td>\n",
       "      <td>0</td>\n",
       "      <td>0</td>\n",
       "      <td>0</td>\n",
       "      <td>NaN</td>\n",
       "      <td>NaN</td>\n",
       "      <td>[1.20.190.20]</td>\n",
       "      <td>NaN</td>\n",
       "      <td>NaN</td>\n",
       "      <td>NaN</td>\n",
       "      <td>NaN</td>\n",
       "      <td>NaN</td>\n",
       "    </tr>\n",
       "    <tr>\n",
       "      <th>...</th>\n",
       "      <td>...</td>\n",
       "      <td>...</td>\n",
       "      <td>...</td>\n",
       "      <td>...</td>\n",
       "      <td>...</td>\n",
       "      <td>...</td>\n",
       "      <td>...</td>\n",
       "      <td>...</td>\n",
       "      <td>...</td>\n",
       "      <td>...</td>\n",
       "      <td>...</td>\n",
       "      <td>...</td>\n",
       "      <td>...</td>\n",
       "      <td>...</td>\n",
       "      <td>...</td>\n",
       "      <td>...</td>\n",
       "      <td>...</td>\n",
       "      <td>...</td>\n",
       "      <td>...</td>\n",
       "    </tr>\n",
       "    <tr>\n",
       "      <th>457597</th>\n",
       "      <td>Q4UJW5</td>\n",
       "      <td>12.375</td>\n",
       "      <td>233</td>\n",
       "      <td>MEKPIIEFRNVSKKFGNKLPINNVSFTVKKNNITTLIGPNGAGKTT...</td>\n",
       "      <td>315456</td>\n",
       "      <td>0.0</td>\n",
       "      <td>0.0</td>\n",
       "      <td>0.0</td>\n",
       "      <td>0</td>\n",
       "      <td>0</td>\n",
       "      <td>1</td>\n",
       "      <td>NaN</td>\n",
       "      <td>[7.2.2.20]</td>\n",
       "      <td>[3.40.50.300]</td>\n",
       "      <td>NaN</td>\n",
       "      <td>NaN</td>\n",
       "      <td>NaN</td>\n",
       "      <td>NaN</td>\n",
       "      <td>NaN</td>\n",
       "    </tr>\n",
       "    <tr>\n",
       "      <th>457598</th>\n",
       "      <td>Q9ZCC4</td>\n",
       "      <td>12.387</td>\n",
       "      <td>233</td>\n",
       "      <td>MQKPIIEFRNVSKKFGNKTPISKVSFIVKKNNITTLIGPNGAGKTT...</td>\n",
       "      <td>272947</td>\n",
       "      <td>0.0</td>\n",
       "      <td>0.0</td>\n",
       "      <td>0.0</td>\n",
       "      <td>0</td>\n",
       "      <td>0</td>\n",
       "      <td>1</td>\n",
       "      <td>NaN</td>\n",
       "      <td>[7.2.2.20]</td>\n",
       "      <td>[3.40.50.300]</td>\n",
       "      <td>NaN</td>\n",
       "      <td>NaN</td>\n",
       "      <td>NaN</td>\n",
       "      <td>NaN</td>\n",
       "      <td>NaN</td>\n",
       "    </tr>\n",
       "    <tr>\n",
       "      <th>457607</th>\n",
       "      <td>P47917</td>\n",
       "      <td>11.045</td>\n",
       "      <td>364</td>\n",
       "      <td>MELSPNNSTDQSLLDAQLELWHTTFAFMKSMALKSAIHLRIADAIH...</td>\n",
       "      <td>4577</td>\n",
       "      <td>0.0</td>\n",
       "      <td>0.0</td>\n",
       "      <td>0.0</td>\n",
       "      <td>0</td>\n",
       "      <td>0</td>\n",
       "      <td>0</td>\n",
       "      <td>NaN</td>\n",
       "      <td>[2.1.1.-]</td>\n",
       "      <td>[1.10.10.10, 3.40.50.150]</td>\n",
       "      <td>NaN</td>\n",
       "      <td>NaN</td>\n",
       "      <td>NaN</td>\n",
       "      <td>NaN</td>\n",
       "      <td>NaN</td>\n",
       "    </tr>\n",
       "    <tr>\n",
       "      <th>457608</th>\n",
       "      <td>F8DT24</td>\n",
       "      <td>11.203</td>\n",
       "      <td>153</td>\n",
       "      <td>MIDYRDRHILSLLQANAEMPLAEIAERVALSVSACSRRVARLREEG...</td>\n",
       "      <td>555217</td>\n",
       "      <td>0.0</td>\n",
       "      <td>0.0</td>\n",
       "      <td>0.0</td>\n",
       "      <td>0</td>\n",
       "      <td>0</td>\n",
       "      <td>0</td>\n",
       "      <td>NaN</td>\n",
       "      <td>NaN</td>\n",
       "      <td>[1.10.10.10]</td>\n",
       "      <td>NaN</td>\n",
       "      <td>NaN</td>\n",
       "      <td>NaN</td>\n",
       "      <td>NaN</td>\n",
       "      <td>NaN</td>\n",
       "    </tr>\n",
       "    <tr>\n",
       "      <th>457609</th>\n",
       "      <td>P0DJA6</td>\n",
       "      <td>11.309</td>\n",
       "      <td>153</td>\n",
       "      <td>MIDYRDRHILSLLQANAEMPLSEIAERVALSVSACSRRVARLREEG...</td>\n",
       "      <td>264203</td>\n",
       "      <td>0.0</td>\n",
       "      <td>0.0</td>\n",
       "      <td>0.0</td>\n",
       "      <td>0</td>\n",
       "      <td>0</td>\n",
       "      <td>0</td>\n",
       "      <td>NaN</td>\n",
       "      <td>NaN</td>\n",
       "      <td>[1.10.10.10]</td>\n",
       "      <td>NaN</td>\n",
       "      <td>NaN</td>\n",
       "      <td>NaN</td>\n",
       "      <td>NaN</td>\n",
       "      <td>NaN</td>\n",
       "    </tr>\n",
       "  </tbody>\n",
       "</table>\n",
       "<p>285937 rows × 19 columns</p>\n",
       "</div>"
      ],
      "text/plain": [
       "       uniprot_id    neff  sequence_length  \\\n",
       "38         O96436   7.004              277   \n",
       "39         Q8SW28   7.216              258   \n",
       "40         Q39757   7.369              251   \n",
       "41         E2RU97   7.283              248   \n",
       "42         O65352   7.388              259   \n",
       "...           ...     ...              ...   \n",
       "457597     Q4UJW5  12.375              233   \n",
       "457598     Q9ZCC4  12.387              233   \n",
       "457607     P47917  11.045              364   \n",
       "457608     F8DT24  11.203              153   \n",
       "457609     P0DJA6  11.309              153   \n",
       "\n",
       "                                                 sequence  organism_id  \\\n",
       "38      MIEDIKTLREEHVYRAKLAEQAERYDEMAEAMKNLVENCLDQNNSP...         5802   \n",
       "39      MASKQYEEALQKANLSDMAERYDDMAKEMRLAVTLAHEDKHILNVM...       284813   \n",
       "40      MASRDDLVYMAKLAEQAERFDEMVDHMKAVAQQPKELSVEERNLLS...        49266   \n",
       "41      MAEAFTREDYVFMAQLNENAERYDEMVETMRKISGMEGELSDKERN...       184922   \n",
       "42      MAAASSPREENVYLAKLAEQAERYEEMVEFMEKVVAAADGGEELTI...         4232   \n",
       "...                                                   ...          ...   \n",
       "457597  MEKPIIEFRNVSKKFGNKLPINNVSFTVKKNNITTLIGPNGAGKTT...       315456   \n",
       "457598  MQKPIIEFRNVSKKFGNKTPISKVSFIVKKNNITTLIGPNGAGKTT...       272947   \n",
       "457607  MELSPNNSTDQSLLDAQLELWHTTFAFMKSMALKSAIHLRIADAIH...         4577   \n",
       "457608  MIDYRDRHILSLLQANAEMPLAEIAERVALSVSACSRRVARLREEG...       555217   \n",
       "457609  MIDYRDRHILSLLQANAEMPLSEIAERVALSVSACSRRVARLREEG...       264203   \n",
       "\n",
       "        helix_frac  turn_frac  strand_frac  has_ptm  has_pdb  has_substrate  \\\n",
       "38             0.0        0.0          0.0        0        0              0   \n",
       "39             0.0        0.0          0.0        0        0              0   \n",
       "40             0.0        0.0          0.0        0        0              0   \n",
       "41             0.0        0.0          0.0        1        1              0   \n",
       "42             0.0        0.0          0.0        0        0              0   \n",
       "...            ...        ...          ...      ...      ...            ...   \n",
       "457597         0.0        0.0          0.0        0        0              1   \n",
       "457598         0.0        0.0          0.0        0        0              1   \n",
       "457607         0.0        0.0          0.0        0        0              0   \n",
       "457608         0.0        0.0          0.0        0        0              0   \n",
       "457609         0.0        0.0          0.0        0        0              0   \n",
       "\n",
       "        matrix enzyme_commission                 cath_class  \\\n",
       "38         NaN               NaN              [1.20.190.20]   \n",
       "39         NaN               NaN              [1.20.190.20]   \n",
       "40         NaN               NaN              [1.20.190.20]   \n",
       "41         NaN               NaN              [1.20.190.20]   \n",
       "42         NaN               NaN              [1.20.190.20]   \n",
       "...        ...               ...                        ...   \n",
       "457597     NaN        [7.2.2.20]              [3.40.50.300]   \n",
       "457598     NaN        [7.2.2.20]              [3.40.50.300]   \n",
       "457607     NaN         [2.1.1.-]  [1.10.10.10, 3.40.50.150]   \n",
       "457608     NaN               NaN               [1.10.10.10]   \n",
       "457609     NaN               NaN               [1.10.10.10]   \n",
       "\n",
       "                    pdb_id cofactor  ptm disease_name disease_id  \n",
       "38                     NaN      NaN  NaN          NaN        NaN  \n",
       "39                     NaN      NaN  NaN          NaN        NaN  \n",
       "40                     NaN      NaN  NaN          NaN        NaN  \n",
       "41      [4F7R, 4ZQ0, 5BY9]      NaN  NaN          NaN        NaN  \n",
       "42                     NaN      NaN  NaN          NaN        NaN  \n",
       "...                    ...      ...  ...          ...        ...  \n",
       "457597                 NaN      NaN  NaN          NaN        NaN  \n",
       "457598                 NaN      NaN  NaN          NaN        NaN  \n",
       "457607                 NaN      NaN  NaN          NaN        NaN  \n",
       "457608                 NaN      NaN  NaN          NaN        NaN  \n",
       "457609                 NaN      NaN  NaN          NaN        NaN  \n",
       "\n",
       "[285937 rows x 19 columns]"
      ]
     },
     "execution_count": 52,
     "metadata": {},
     "output_type": "execute_result"
    }
   ],
   "source": [
    "entries_with_cath_data"
   ]
  },
  {
   "cell_type": "code",
   "execution_count": 37,
   "metadata": {},
   "outputs": [
    {
     "data": {
      "image/png": "[encoded data removed]",
      "text/plain": [
       "<Figure size 432x288 with 1 Axes>"
      ]
     },
     "metadata": {},
     "output_type": "display_data"
    }
   ],
   "source": [
    "ec_pie=plt.pie(ec_numbers.values(),\n",
    "               labels=ec_numbers.keys(),\n",
    "               autopct='%1.1f%%',\n",
    "               textprops=dict(color=\"w\",fontsize=10),\n",
    "               startangle=90)\n",
    "plt.savefig(\"ecdata.png\",dpi=300,transparent=True)"
   ]
  },
  {
   "cell_type": "code",
   "execution_count": 40,
   "metadata": {},
   "outputs": [
    {
     "data": {
      "image/png": "[encoded data removed]",
      "text/plain": [
       "<Figure size 432x288 with 1 Axes>"
      ]
     },
     "metadata": {},
     "output_type": "display_data"
    }
   ],
   "source": [
    "cath_pie=plt.pie(cath_numbers.values(),\n",
    "               labels=cath_numbers.keys(),\n",
    "               autopct='%1.1f%%',\n",
    "               textprops=dict(color=\"black\",fontsize=10),\n",
    "               startangle=90)\n",
    "plt.tight_layout()\n",
    "plt.savefig(\"cathdata.png\",dpi=300,transparent=True)"
   ]
  },
  {
   "cell_type": "code",
   "execution_count": 79,
   "metadata": {
    "ExecuteTime": {
     "end_time": "2023-07-27T17:15:43.086844Z",
     "start_time": "2023-07-27T17:15:05.298653Z"
    }
   },
   "outputs": [
    {
     "data": {
      "image/png": "[encoded data removed]",
      "text/plain": [
       "<Figure size 288x216 with 1 Axes>"
      ]
     },
     "metadata": {
      "needs_background": "light"
     },
     "output_type": "display_data"
    }
   ],
   "source": [
    "plt.figure(figsize=(4,3))\n",
    "plt.bar(cath_numbers.keys(),\n",
    "                 height=cath_numbers.values(),\n",
    "                 color=my_color         \n",
    "                )\n",
    "plt.xlabel(\"CATH Class\",fontsize=labels_font)\n",
    "plt.ylabel(\"Count\",fontsize=labels_font)\n",
    "plt.xticks(fontsize=ticks_font)\n",
    "plt.yticks(fontsize=ticks_font)\n",
    "plt.grid(axis='y',ls=\"--\",lw=1)\n",
    "plt.tight_layout()\n",
    "plt.savefig(\"cathdata.png\",dpi=300,transparent=True)"
   ]
  },
  {
   "cell_type": "code",
   "execution_count": 78,
   "metadata": {},
   "outputs": [
    {
     "data": {
      "image/png": "[encoded data removed]",
      "text/plain": [
       "<Figure size 288x216 with 1 Axes>"
      ]
     },
     "metadata": {
      "needs_background": "light"
     },
     "output_type": "display_data"
    }
   ],
   "source": [
    "\n",
    "plt.figure(figsize=(4,3))\n",
    "plt.bar(ec_numbers.keys(),\n",
    "        height=ec_numbers.values(),\n",
    "        color=my_color\n",
    "       )\n",
    "plt.xlabel(\"Enzyme Commission Class\",fontsize=labels_font)\n",
    "plt.ylabel(\"Count\",fontsize=labels_font)\n",
    "plt.xticks(fontsize=ticks_font)\n",
    "plt.yticks(fontsize=ticks_font)\n",
    "plt.grid(axis='y',ls=\"--\",lw=1)\n",
    "plt.tight_layout()\n",
    "plt.savefig(\"ecdata.png\",dpi=300,transparent=True)"
   ]
  },
  {
   "cell_type": "code",
   "execution_count": 120,
   "metadata": {},
   "outputs": [],
   "source": [
    "dis=entries_data_frame[entries_data_frame['enzyme_commission'].notna()]"
   ]
  },
  {
   "cell_type": "code",
   "execution_count": 122,
   "metadata": {},
   "outputs": [
    {
     "data": {
      "text/plain": [
       "array([\"['3.5.99.7']\", \"['1.1.1.31']\", \"['5.1.1.-']\", ..., \"['1.2.1.67']\",\n",
       "       \"['1.4.1.23']\", \"['2.4.1.56']\"], dtype=object)"
      ]
     },
     "execution_count": 122,
     "metadata": {},
     "output_type": "execute_result"
    }
   ],
   "source": [
    "dis[\"enzyme_commission\"].unique()"
   ]
  },
  {
   "cell_type": "code",
   "execution_count": null,
   "metadata": {},
   "outputs": [],
   "source": [
    "Protein"
   ]
  }
 ],
 "metadata": {
  "kernelspec": {
   "display_name": "Python 3-conda (ipykernel)",
   "language": "python",
   "name": "python3"
  },
  "language_info": {
   "codemirror_mode": {
    "name": "ipython",
    "version": 3
   },
   "file_extension": ".py",
   "mimetype": "text/x-python",
   "name": "python",
   "nbconvert_exporter": "python",
   "pygments_lexer": "ipython3",
   "version": "3.9.12"
  }
 },
 "nbformat": 4,
 "nbformat_minor": 4
}
