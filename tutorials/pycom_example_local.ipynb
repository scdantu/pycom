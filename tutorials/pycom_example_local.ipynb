{
 "cells": [
  {
   "cell_type": "markdown",
   "metadata": {
    "collapsed": false
   },
   "source": [
    "# Getting started: PyCoM Local\n",
    "\n",
    "PyCoM, the Python interface for PyCoMDB can both run locally and remotely.\n",
    "- Run locally to run large-scale analyses. Requires 115GB of disk space for the database. \n",
    "- Run remotely to run small-scale analyses. No disk space required. Follow this tutorial `Getting_started_PyCoM_Local.ipynb`.\n",
    "\n",
    "This is a crash course on how to use the local variant of the Python interface for the PyCoM database.\n",
    "1. [Installation](#installation)\n",
    "2. [Initialise Pycom object](#initialise-pycom-object)\n",
    "3. [Supported query keywords](#supported-query-keywords)\n",
    "4. [Paginate the results](#paginate-the-results)\n",
    "5. [Load coevolution matrices](#load-coevolution-matrices)\n",
    "6. [Adding biological data to dataframe](#adding-biological-data-to-dataframe)\n",
    "\n",
    "More indepth tutorials are available here: [https://pycom.brunel.ac.uk/tutorials.html](https://pycom.brunel.ac.uk/tutorials.html)"
   ]
  },
  {
   "cell_type": "markdown",
   "metadata": {},
   "source": [
    "\n",
    "### Installation\n",
    "\n",
    "Install the PyCom package:\n",
    "\n",
    "`pip install git+https://github.com/scdantu/pycom`\n",
    "\n",
    "Note: **Requires Python 3.8 or higher**\n",
    "\n",
    "Download the `pycom.db` and `pycom.mat` files from [https://pycom.brunel.ac.uk/downloads](https://pycom.brunel.ac.uk/downloads)"
   ]
  },
  {
   "cell_type": "markdown",
   "metadata": {},
   "source": [
    "### Initialise PyCom object\n",
    "\n",
    "Import the required classes and create a PyCom object:"
   ]
  },
  {
   "cell_type": "code",
   "execution_count": 1,
   "metadata": {
    "ExecuteTime": {
     "end_time": "2023-07-15T16:43:49.476196Z",
     "start_time": "2023-07-15T16:43:49.178452Z"
    }
   },
   "outputs": [],
   "source": [
    "from pycom import PyCom, ProteinParams\n",
    "\n",
    "pyc = PyCom(db_path='~/docs/pycom.db', mat_path='~/docs/pycom.mat')"
   ]
  },
  {
   "cell_type": "markdown",
   "metadata": {},
   "source": [
    "### Query the database\n",
    "\n",
    "Query the database by passing a dictionary of keywords:"
   ]
  },
  {
   "cell_type": "code",
   "execution_count": 2,
   "metadata": {
    "ExecuteTime": {
     "end_time": "2023-07-15T16:43:49.543273Z",
     "start_time": "2023-07-15T16:43:49.477430Z"
    }
   },
   "outputs": [
    {
     "data": {
      "text/html": [
       "<div>\n",
       "<style scoped>\n",
       "    .dataframe tbody tr th:only-of-type {\n",
       "        vertical-align: middle;\n",
       "    }\n",
       "\n",
       "    .dataframe tbody tr th {\n",
       "        vertical-align: top;\n",
       "    }\n",
       "\n",
       "    .dataframe thead th {\n",
       "        text-align: right;\n",
       "    }\n",
       "</style>\n",
       "<table border=\"1\" class=\"dataframe\">\n",
       "  <thead>\n",
       "    <tr style=\"text-align: right;\">\n",
       "      <th></th>\n",
       "      <th>uniprot_id</th>\n",
       "      <th>neff</th>\n",
       "      <th>sequence_length</th>\n",
       "      <th>sequence</th>\n",
       "      <th>organism_id</th>\n",
       "      <th>helix_frac</th>\n",
       "      <th>turn_frac</th>\n",
       "      <th>strand_frac</th>\n",
       "      <th>has_ptm</th>\n",
       "      <th>has_pdb</th>\n",
       "      <th>has_substrate</th>\n",
       "      <th>matrix</th>\n",
       "    </tr>\n",
       "  </thead>\n",
       "  <tbody>\n",
       "    <tr>\n",
       "      <th>0</th>\n",
       "      <td>P01111</td>\n",
       "      <td>12.817</td>\n",
       "      <td>189</td>\n",
       "      <td>MTEYKLVVVGAGGVGKSALTIQLIQNHFVDEYDPTIEDSYRKQVVI...</td>\n",
       "      <td>9606</td>\n",
       "      <td>0.349206</td>\n",
       "      <td>0.015873</td>\n",
       "      <td>0.227513</td>\n",
       "      <td>1</td>\n",
       "      <td>1</td>\n",
       "      <td>1</td>\n",
       "      <td>None</td>\n",
       "    </tr>\n",
       "    <tr>\n",
       "      <th>1</th>\n",
       "      <td>P01112</td>\n",
       "      <td>12.841</td>\n",
       "      <td>189</td>\n",
       "      <td>MTEYKLVVVGAGGVGKSALTIQLIQNHFVDEYDPTIEDSYRKQVVI...</td>\n",
       "      <td>9606</td>\n",
       "      <td>0.317460</td>\n",
       "      <td>0.031746</td>\n",
       "      <td>0.359788</td>\n",
       "      <td>1</td>\n",
       "      <td>1</td>\n",
       "      <td>1</td>\n",
       "      <td>None</td>\n",
       "    </tr>\n",
       "    <tr>\n",
       "      <th>2</th>\n",
       "      <td>P01116</td>\n",
       "      <td>12.626</td>\n",
       "      <td>189</td>\n",
       "      <td>MTEYKLVVVGAGGVGKSALTIQLIQNHFVDEYDPTIEDSYRKQVVI...</td>\n",
       "      <td>9606</td>\n",
       "      <td>0.375661</td>\n",
       "      <td>0.031746</td>\n",
       "      <td>0.328042</td>\n",
       "      <td>1</td>\n",
       "      <td>1</td>\n",
       "      <td>1</td>\n",
       "      <td>None</td>\n",
       "    </tr>\n",
       "    <tr>\n",
       "      <th>3</th>\n",
       "      <td>P62070</td>\n",
       "      <td>12.754</td>\n",
       "      <td>204</td>\n",
       "      <td>MAAAGWRDGSGQEKYRLVVVGGGGVGKSALTIQFIQSYFVTDYDPT...</td>\n",
       "      <td>9606</td>\n",
       "      <td>0.299020</td>\n",
       "      <td>0.019608</td>\n",
       "      <td>0.220588</td>\n",
       "      <td>1</td>\n",
       "      <td>1</td>\n",
       "      <td>1</td>\n",
       "      <td>None</td>\n",
       "    </tr>\n",
       "    <tr>\n",
       "      <th>4</th>\n",
       "      <td>Q9UNW1</td>\n",
       "      <td>9.554</td>\n",
       "      <td>487</td>\n",
       "      <td>MLRAPGCLLRTSVAPAAALAAALLSSLARCSLLEPRDPVASSLSPY...</td>\n",
       "      <td>9606</td>\n",
       "      <td>0.000000</td>\n",
       "      <td>0.000000</td>\n",
       "      <td>0.000000</td>\n",
       "      <td>0</td>\n",
       "      <td>0</td>\n",
       "      <td>1</td>\n",
       "      <td>None</td>\n",
       "    </tr>\n",
       "  </tbody>\n",
       "</table>\n",
       "</div>"
      ],
      "text/plain": [
       "  uniprot_id    neff  sequence_length  \\\n",
       "0     P01111  12.817              189   \n",
       "1     P01112  12.841              189   \n",
       "2     P01116  12.626              189   \n",
       "3     P62070  12.754              204   \n",
       "4     Q9UNW1   9.554              487   \n",
       "\n",
       "                                            sequence organism_id  helix_frac  \\\n",
       "0  MTEYKLVVVGAGGVGKSALTIQLIQNHFVDEYDPTIEDSYRKQVVI...        9606    0.349206   \n",
       "1  MTEYKLVVVGAGGVGKSALTIQLIQNHFVDEYDPTIEDSYRKQVVI...        9606    0.317460   \n",
       "2  MTEYKLVVVGAGGVGKSALTIQLIQNHFVDEYDPTIEDSYRKQVVI...        9606    0.375661   \n",
       "3  MAAAGWRDGSGQEKYRLVVVGGGGVGKSALTIQFIQSYFVTDYDPT...        9606    0.299020   \n",
       "4  MLRAPGCLLRTSVAPAAALAAALLSSLARCSLLEPRDPVASSLSPY...        9606    0.000000   \n",
       "\n",
       "   turn_frac  strand_frac  has_ptm  has_pdb  has_substrate matrix  \n",
       "0   0.015873     0.227513        1        1              1   None  \n",
       "1   0.031746     0.359788        1        1              1   None  \n",
       "2   0.031746     0.328042        1        1              1   None  \n",
       "3   0.019608     0.220588        1        1              1   None  \n",
       "4   0.000000     0.000000        0        0              1   None  "
      ]
     },
     "execution_count": 2,
     "metadata": {},
     "output_type": "execute_result"
    }
   ],
   "source": [
    "entries = pyc.find({\n",
    "    ProteinParams.ENZYME: '3.*.*.*',\n",
    "    ProteinParams.DISEASE: 'cancer',  # string search, case-insensitive\n",
    "})\n",
    "\n",
    "entries"
   ]
  },
  {
   "cell_type": "markdown",
   "metadata": {},
   "source": [
    "Alternatively, query the database by passing keyword arguments:"
   ]
  },
  {
   "cell_type": "code",
   "execution_count": 3,
   "metadata": {
    "ExecuteTime": {
     "end_time": "2023-07-15T16:43:49.742472Z",
     "start_time": "2023-07-15T16:43:49.544060Z"
    }
   },
   "outputs": [
    {
     "data": {
      "text/html": [
       "<div>\n",
       "<style scoped>\n",
       "    .dataframe tbody tr th:only-of-type {\n",
       "        vertical-align: middle;\n",
       "    }\n",
       "\n",
       "    .dataframe tbody tr th {\n",
       "        vertical-align: top;\n",
       "    }\n",
       "\n",
       "    .dataframe thead th {\n",
       "        text-align: right;\n",
       "    }\n",
       "</style>\n",
       "<table border=\"1\" class=\"dataframe\">\n",
       "  <thead>\n",
       "    <tr style=\"text-align: right;\">\n",
       "      <th></th>\n",
       "      <th>uniprot_id</th>\n",
       "      <th>neff</th>\n",
       "      <th>sequence_length</th>\n",
       "      <th>sequence</th>\n",
       "      <th>organism_id</th>\n",
       "      <th>helix_frac</th>\n",
       "      <th>turn_frac</th>\n",
       "      <th>strand_frac</th>\n",
       "      <th>has_ptm</th>\n",
       "      <th>has_pdb</th>\n",
       "      <th>has_substrate</th>\n",
       "      <th>matrix</th>\n",
       "    </tr>\n",
       "  </thead>\n",
       "  <tbody>\n",
       "    <tr>\n",
       "      <th>0</th>\n",
       "      <td>P11310</td>\n",
       "      <td>9.930</td>\n",
       "      <td>421</td>\n",
       "      <td>MAAGFGRCCRVLRSISRFHWRSQHTKANRQREPGLGFSFEFTEQQK...</td>\n",
       "      <td>9606</td>\n",
       "      <td>0.517815</td>\n",
       "      <td>0.016627</td>\n",
       "      <td>0.180523</td>\n",
       "      <td>1</td>\n",
       "      <td>1</td>\n",
       "      <td>1</td>\n",
       "      <td>None</td>\n",
       "    </tr>\n",
       "    <tr>\n",
       "      <th>1</th>\n",
       "      <td>Q658P3</td>\n",
       "      <td>9.677</td>\n",
       "      <td>488</td>\n",
       "      <td>MPEEMDKPLISLHLVDSDSSLAKVPDEAPKVGILGSGDFARSLATR...</td>\n",
       "      <td>9606</td>\n",
       "      <td>0.157787</td>\n",
       "      <td>0.000000</td>\n",
       "      <td>0.086066</td>\n",
       "      <td>1</td>\n",
       "      <td>1</td>\n",
       "      <td>0</td>\n",
       "      <td>None</td>\n",
       "    </tr>\n",
       "    <tr>\n",
       "      <th>2</th>\n",
       "      <td>Q16795</td>\n",
       "      <td>10.997</td>\n",
       "      <td>377</td>\n",
       "      <td>MAAAAQSRVVRVLSMSRSAITAIATSVCHGPPCRQLHHALMPHGKG...</td>\n",
       "      <td>9606</td>\n",
       "      <td>0.363395</td>\n",
       "      <td>0.037135</td>\n",
       "      <td>0.124668</td>\n",
       "      <td>1</td>\n",
       "      <td>1</td>\n",
       "      <td>0</td>\n",
       "      <td>None</td>\n",
       "    </tr>\n",
       "    <tr>\n",
       "      <th>3</th>\n",
       "      <td>O95299</td>\n",
       "      <td>9.244</td>\n",
       "      <td>355</td>\n",
       "      <td>MALRLLKLAATSASARVVAAGAQRVRGIHSSVQCKLRYGMWHFLLG...</td>\n",
       "      <td>9606</td>\n",
       "      <td>0.000000</td>\n",
       "      <td>0.000000</td>\n",
       "      <td>0.000000</td>\n",
       "      <td>1</td>\n",
       "      <td>1</td>\n",
       "      <td>0</td>\n",
       "      <td>None</td>\n",
       "    </tr>\n",
       "    <tr>\n",
       "      <th>4</th>\n",
       "      <td>P13804</td>\n",
       "      <td>8.627</td>\n",
       "      <td>333</td>\n",
       "      <td>MFRAAAPGQLRRAASLLRFQSTLVIAEHANDSLAPITLNTITAATR...</td>\n",
       "      <td>9606</td>\n",
       "      <td>0.300300</td>\n",
       "      <td>0.027027</td>\n",
       "      <td>0.333333</td>\n",
       "      <td>1</td>\n",
       "      <td>1</td>\n",
       "      <td>0</td>\n",
       "      <td>None</td>\n",
       "    </tr>\n",
       "  </tbody>\n",
       "</table>\n",
       "</div>"
      ],
      "text/plain": [
       "  uniprot_id    neff  sequence_length  \\\n",
       "0     P11310   9.930              421   \n",
       "1     Q658P3   9.677              488   \n",
       "2     Q16795  10.997              377   \n",
       "3     O95299   9.244              355   \n",
       "4     P13804   8.627              333   \n",
       "\n",
       "                                            sequence organism_id  helix_frac  \\\n",
       "0  MAAGFGRCCRVLRSISRFHWRSQHTKANRQREPGLGFSFEFTEQQK...        9606    0.517815   \n",
       "1  MPEEMDKPLISLHLVDSDSSLAKVPDEAPKVGILGSGDFARSLATR...        9606    0.157787   \n",
       "2  MAAAAQSRVVRVLSMSRSAITAIATSVCHGPPCRQLHHALMPHGKG...        9606    0.363395   \n",
       "3  MALRLLKLAATSASARVVAAGAQRVRGIHSSVQCKLRYGMWHFLLG...        9606    0.000000   \n",
       "4  MFRAAAPGQLRRAASLLRFQSTLVIAEHANDSLAPITLNTITAATR...        9606    0.300300   \n",
       "\n",
       "   turn_frac  strand_frac  has_ptm  has_pdb  has_substrate matrix  \n",
       "0   0.016627     0.180523        1        1              1   None  \n",
       "1   0.000000     0.086066        1        1              0   None  \n",
       "2   0.037135     0.124668        1        1              0   None  \n",
       "3   0.000000     0.000000        1        1              0   None  \n",
       "4   0.027027     0.333333        1        1              0   None  "
      ]
     },
     "execution_count": 3,
     "metadata": {},
     "output_type": "execute_result"
    }
   ],
   "source": [
    "entries = pyc.find(\n",
    "    cofactor='FAD',  # string search, case-insensitive\n",
    "    has_ptm=True,\n",
    "    has_disease=True,\n",
    ")\n",
    "\n",
    "entries"
   ]
  },
  {
   "cell_type": "markdown",
   "metadata": {},
   "source": [
    "### Supported query keywords\n",
    "* `uniprot_id`: The UniProt ID of the protein.\n",
    "* `sequence`: The amino acid sequence of protein to search for. (full match)\n",
    "* `min_length` / `max_length`: Min/Max number of residues in the protein.\n",
    "* `min_helix` / `max_helix`: Min/Max percentage of helical structure in the protein.\n",
    "* `min_turn` / `max_turn`: Min/Max percentage of turn structure in the protein.\n",
    "* `min_strand` / `max_strand`: Min/Max percentage of beta strand structure in the protein.\n",
    "* `organism`: Taxonomic name of the genus / species of the protein. (case-insensitive)\n",
    "  * Species name or any parent taxonomic level can be used. (`pyc.get_organism_list()` for full list)\n",
    "  * Surround with `:` to get precise results\n",
    "    * `:homo:` returns `Homo sapiens` & `Homo sapiens neanderthalensis`)\n",
    "    * `homo` also returns **homo**eomma, t**homo**mys, and *hundreds* others\n",
    "* `organism_id`: Precise NCBI Taxonomy ID of the species of the protein. (prefer to use `organism` instead)\n",
    "* `cath`: CATH classification of the protein (`3.40.50.360` or `3.40.*.*` or `3.*`).\n",
    "* `enzyme`: Enzyme Commission number of the protein. (`1.3.1.3` or `1.3.*.*` or `1.*`).\n",
    "* `has_substrate`: Whether the protein has a known substrate. (`True`/`False`)\n",
    "* `has_ptm`: Whether the protein has a known post-translational modification. (`True`/`False`)\n",
    "* `has_pbd`: Whether the protein has a known PDB structure. (`True`/`False`)\n",
    "* `disease`: The disease associated with the protein. (name of disease, case-insensitive, e.g `cancer`)\n",
    "  * Use `pyc.get_disease_list()` for full list.\n",
    "  * `cancer` searches for `Ovarian cancer`, `Lung cancer`, ...\n",
    "* `disease_id`: The ID of the disease associated with the protein. (`DI-02205`, get_disease_list()\n",
    "* `has_disease`: Whether the protein is associated with a disease. (`True`/`False`)\n",
    "* `cofactor`: The cofactor associated with the protein. (name of cofactor, case-insensitive, e.g `Zn(2+)`])\n",
    "* `cofactor_id`: The ID of the cofactor associated with the protein. (`CHEBI:00001`, get_cofactor_list())\n",
    "* `biological_process`: Biological process associated with the protein. (e.g `antiviral defense`, use `pyc.get_biological_process_list()` for full list)\n",
    "* `cellular_component`: Cellular component associated with the protein. (e.g `nucleus`, use `pyc.get_cellular_component_list()` for full list\n",
    "* `domain`: Domain associated with the protein. (e.g `zinc-finger`, use `pyc.get_domain_list()` for full list)\n",
    "* `ligand`: Ligand associated with the protein. (e.g `zinc`, use `pyc.get_ligand_list()` for full list\n",
    "* `molecular_function`: Molecular function associated with the protein. (e.g `antioxidant activity`, use `pyc.get_molecular_function_list()` for full list\n",
    "* `ptm`: Post-translational modification associated with the protein. (e.g `phosphoprotein`, use `pyc.get_ptm_list()` for full list\n",
    "\n"
   ]
  },
  {
   "cell_type": "markdown",
   "metadata": {},
   "source": [
    "### Paginate the results\n",
    "\n",
    "Before loading coevolution matrices, it is recommended to paginate the results, as the matrices can take up a lot of memory.\n",
    "\n",
    "Here is an example of making a large query, then paginating the results:"
   ]
  },
  {
   "cell_type": "code",
   "execution_count": 4,
   "metadata": {
    "ExecuteTime": {
     "end_time": "2023-07-15T16:43:49.766123Z",
     "start_time": "2023-07-15T16:43:49.742886Z"
    },
    "collapsed": false
   },
   "outputs": [
    {
     "name": "stdout",
     "output_type": "stream",
     "text": [
      "Found 2958 entries with length <= 20\n",
      "Found 100 entries on page 1\n"
     ]
    }
   ],
   "source": [
    "entries = pyc.find(max_length=20)\n",
    "print(f'Found {len(entries)} entries with length <= 20')\n",
    "\n",
    "page = pyc.paginate(entries, page=1, per_page=100)  # get first n entries (default 100)\n",
    "print(f'Found {len(page)} entries on page 1')"
   ]
  },
  {
   "cell_type": "markdown",
   "metadata": {
    "collapsed": false
   },
   "source": [
    "### Load coevolution matrices\n",
    "\n",
    "Now the coevolution matrices can be loaded for the paginated results.\n",
    "\n",
    "This loads them into the `matrix` column of the dataframe."
   ]
  },
  {
   "cell_type": "code",
   "execution_count": 5,
   "metadata": {
    "ExecuteTime": {
     "end_time": "2023-07-15T16:43:49.885056Z",
     "start_time": "2023-07-15T16:43:49.782638Z"
    },
    "collapsed": false
   },
   "outputs": [
    {
     "data": {
      "text/plain": [
       "array([[0.00000000e+00, 2.16066837e-07, 1.56462193e-07, 0.00000000e+00,\n",
       "        0.00000000e+00],\n",
       "       [2.16066837e-07, 0.00000000e+00, 4.61935997e-07, 4.54485416e-07,\n",
       "        4.54485416e-07],\n",
       "       [1.56462193e-07, 4.61935997e-07, 0.00000000e+00, 2.98023224e-07,\n",
       "        2.98023224e-07],\n",
       "       [0.00000000e+00, 4.54485416e-07, 2.98023224e-07, 0.00000000e+00,\n",
       "        2.23517418e-07],\n",
       "       [0.00000000e+00, 4.54485416e-07, 2.98023224e-07, 2.23517418e-07,\n",
       "        0.00000000e+00]])"
      ]
     },
     "execution_count": 5,
     "metadata": {},
     "output_type": "execute_result"
    }
   ],
   "source": [
    "pyc.load_matrices(page)\n",
    "\n",
    "page.iloc[0].matrix  # show the coevolution matrix for the first entry"
   ]
  },
  {
   "cell_type": "markdown",
   "metadata": {
    "collapsed": false
   },
   "source": [
    "By default, the matrices are loaded as a `numpy.ndarray`. Different formats can be specified.\n",
    "\n",
    "Here is an example of the matrices being loaded as Pandas DataFrames and 2d-lists:"
   ]
  },
  {
   "cell_type": "code",
   "execution_count": 6,
   "metadata": {
    "ExecuteTime": {
     "end_time": "2023-07-15T16:43:49.910673Z",
     "start_time": "2023-07-15T16:43:49.891298Z"
    },
    "collapsed": false
   },
   "outputs": [
    {
     "name": "stdout",
     "output_type": "stream",
     "text": [
      "Pandas: <class 'list'>\n",
      "List: <class 'list'>\n"
     ]
    }
   ],
   "source": [
    "from pycom import MatrixFormat\n",
    "\n",
    "resultsPandas = pyc.load_matrices(page, mat_format=MatrixFormat.PANDAS)\n",
    "resultsList = pyc.load_matrices(page, mat_format=MatrixFormat.LIST)\n",
    "\n",
    "print(f'Pandas: {type(resultsPandas.iloc[0].matrix)}')\n",
    "print(f'List: {type(resultsList.iloc[0].matrix)}')"
   ]
  },
  {
   "cell_type": "markdown",
   "metadata": {
    "collapsed": false
   },
   "source": [
    "### Adding biological data to dataframe\n",
    "\n",
    "**This is supported in the local variant only!**\n",
    "\n",
    "PyCom contains a lot of additional protein annotation info. This is not loaded by default, but can be added it needed.\n",
    "\n",
    "The list of cofactors, diseases, and organisms can loaded by calling:"
   ]
  },
  {
   "cell_type": "code",
   "execution_count": 7,
   "metadata": {
    "ExecuteTime": {
     "end_time": "2023-07-15T16:43:49.927594Z",
     "start_time": "2023-07-15T16:43:49.911153Z"
    }
   },
   "outputs": [
    {
     "data": {
      "text/html": [
       "<div>\n",
       "<style scoped>\n",
       "    .dataframe tbody tr th:only-of-type {\n",
       "        vertical-align: middle;\n",
       "    }\n",
       "\n",
       "    .dataframe tbody tr th {\n",
       "        vertical-align: top;\n",
       "    }\n",
       "\n",
       "    .dataframe thead th {\n",
       "        text-align: right;\n",
       "    }\n",
       "</style>\n",
       "<table border=\"1\" class=\"dataframe\">\n",
       "  <thead>\n",
       "    <tr style=\"text-align: right;\">\n",
       "      <th></th>\n",
       "      <th>cofactorId</th>\n",
       "      <th>cofactorName</th>\n",
       "    </tr>\n",
       "  </thead>\n",
       "  <tbody>\n",
       "    <tr>\n",
       "      <th>0</th>\n",
       "      <td>CHEBI:597326</td>\n",
       "      <td>pyridoxal 5'-phosphate</td>\n",
       "    </tr>\n",
       "    <tr>\n",
       "      <th>1</th>\n",
       "      <td>CHEBI:18420</td>\n",
       "      <td>Mg(2+)</td>\n",
       "    </tr>\n",
       "    <tr>\n",
       "      <th>2</th>\n",
       "      <td>CHEBI:60240</td>\n",
       "      <td>a divalent metal cation</td>\n",
       "    </tr>\n",
       "    <tr>\n",
       "      <th>3</th>\n",
       "      <td>CHEBI:30413</td>\n",
       "      <td>heme</td>\n",
       "    </tr>\n",
       "    <tr>\n",
       "      <th>4</th>\n",
       "      <td>CHEBI:29105</td>\n",
       "      <td>Zn(2+)</td>\n",
       "    </tr>\n",
       "    <tr>\n",
       "      <th>...</th>\n",
       "      <td>...</td>\n",
       "      <td>...</td>\n",
       "    </tr>\n",
       "    <tr>\n",
       "      <th>109</th>\n",
       "      <td>CHEBI:61721</td>\n",
       "      <td>chlorophyll b</td>\n",
       "    </tr>\n",
       "    <tr>\n",
       "      <th>110</th>\n",
       "      <td>CHEBI:73095</td>\n",
       "      <td>divinyl chlorophyll a</td>\n",
       "    </tr>\n",
       "    <tr>\n",
       "      <th>111</th>\n",
       "      <td>CHEBI:73096</td>\n",
       "      <td>divinyl chlorophyll b</td>\n",
       "    </tr>\n",
       "    <tr>\n",
       "      <th>112</th>\n",
       "      <td>CHEBI:57453</td>\n",
       "      <td>(6S)-5,6,7,8-tetrahydrofolate</td>\n",
       "    </tr>\n",
       "    <tr>\n",
       "      <th>113</th>\n",
       "      <td>CHEBI:30402</td>\n",
       "      <td>tungstopterin</td>\n",
       "    </tr>\n",
       "  </tbody>\n",
       "</table>\n",
       "<p>114 rows × 2 columns</p>\n",
       "</div>"
      ],
      "text/plain": [
       "       cofactorId                   cofactorName\n",
       "0    CHEBI:597326         pyridoxal 5'-phosphate\n",
       "1     CHEBI:18420                         Mg(2+)\n",
       "2     CHEBI:60240        a divalent metal cation\n",
       "3     CHEBI:30413                           heme\n",
       "4     CHEBI:29105                         Zn(2+)\n",
       "..            ...                            ...\n",
       "109   CHEBI:61721                  chlorophyll b\n",
       "110   CHEBI:73095          divinyl chlorophyll a\n",
       "111   CHEBI:73096          divinyl chlorophyll b\n",
       "112   CHEBI:57453  (6S)-5,6,7,8-tetrahydrofolate\n",
       "113   CHEBI:30402                  tungstopterin\n",
       "\n",
       "[114 rows x 2 columns]"
      ]
     },
     "execution_count": 7,
     "metadata": {},
     "output_type": "execute_result"
    }
   ],
   "source": [
    "cofactors = pyc.get_cofactor_list()\n",
    "diseases = pyc.get_disease_list()\n",
    "organisms = pyc.get_organism_list()\n",
    "\n",
    "cofactors"
   ]
  },
  {
   "cell_type": "code",
   "execution_count": null,
   "metadata": {
    "collapsed": false
   },
   "outputs": [],
   "source": [
    "loader = pyc.get_data_loader()\n",
    "\n",
    "entries = pyc.find(min_length=250, max_length=300)\n",
    "\n",
    "# Add the protein's cofactors to the dataframe\n",
    "loader.add_cofactors(entries)\n",
    "\n",
    "# The following functions are supported, data taken directly from UniProt\n",
    "loader.add_biological_processes(entries)\n",
    "loader.add_cath_class(entries)  # Protein's CATH\n",
    "loader.add_coding_sequence_diversity(entries)  # https://www.uniprot.org/help/keywords\n",
    "loader.add_cofactors(entries)  # Cofactors\n",
    "loader.add_developmental_stage(entries)\n",
    "loader.add_diseases(entries)  # The diseases associated with the protein\n",
    "loader.add_enzyme_commission(entries)  # Protein's EC\n",
    "loader.add_ligand(entries)  # Ligands\n",
    "loader.add_molecular_function(entries)\n",
    "loader.add_organism_name(entries)\n",
    "loader.add_organism_taxonomy(entries)\n",
    "loader.add_pdbs(entries)  # Experimental PDB IDs of protein\n",
    "loader.add_protein_cellular_component(entries)\n",
    "loader.add_protein_domain(entries)\n",
    "loader.add_ptm(entries)  # Protein's Post-translational modifications\n",
    "loader.add_substrates(entries)  # Protein's substrates"
   ]
  }
 ],
 "metadata": {
  "kernelspec": {
   "display_name": "Python 3 (ipykernel)",
   "language": "python",
   "name": "python3"
  },
  "language_info": {
   "codemirror_mode": {
    "name": "ipython",
    "version": 3
   },
   "file_extension": ".py",
   "mimetype": "text/x-python",
   "name": "python",
   "nbconvert_exporter": "python",
   "pygments_lexer": "ipython3",
   "version": "3.10.10"
  }
 },
 "nbformat": 4,
 "nbformat_minor": 1
}
