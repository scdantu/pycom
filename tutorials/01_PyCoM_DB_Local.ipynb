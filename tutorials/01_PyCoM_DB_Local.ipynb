{
 "cells": [
  {
   "cell_type": "markdown",
   "metadata": {},
   "source": [
    "## Working with PyCoM (locally)\n",
    "\n",
    "PyCoM database (PyCoMdb) consists of two files:\n",
    "1. Curated protein database from SwissProt. (pycom.db, 700MB)\n",
    "2. Corresponding Coevolution Matrices of all proteins in hd5fy format. (pycom.mat, 114GB)\n",
    "\n",
    "There are two ways of working with the PyCoMdb database using the PyCoM API.\n",
    "1. Downloading the PyCoMdb files locally and working with them. This option requires 115GB of disk space for the two database files listed above. \n",
    "2. Using PyCoM API and working with the database located on the pycom.brunel.ac.uk. a tutorial for that is available in `01_Basics_DB_Remote.ipynb`.\n",
    "\n",
    "### Installation\n",
    "\n",
    "Install the PyCoM package:\n",
    "\n",
    "* `pip install git+https://github.com/scdantu/pycom`\n",
    "* Requires Python 3.8 or higher\n",
    "\n",
    "Download the `pycom.db` and `pycom.mat` files from:\n",
    "\n",
    "* [https://pycom.brunel.ac.uk/downloads](https://pycom.brunel.ac.uk/downloads) into your favourite folder for example [/Volumes/Data/PyCoMdb/]\n",
    "\n",
    "\n",
    "## Tutorial \n",
    "\n",
    "First, lets import all the libraries and classes we need from pycom, pandas, matplotlib, and numpy"
   ]
  },
  {
   "cell_type": "code",
   "execution_count": null,
   "metadata": {
    "collapsed": false,
    "jupyter": {
     "outputs_hidden": false
    }
   },
   "outputs": [],
   "source": [
    "# importing all usefull classes from PyCoM\n",
    "from pycom import PyCom, ProteinParams,CoMAnalysis\n",
    "import pandas as pd\n",
    "import numpy as np\n",
    "# matplotlib\n",
    "import matplotlib\n",
    "import matplotlib.pyplot as plt\n",
    "#setting matplotlib parameters\n",
    "matplotlib.rcParams['pdf.fonttype'] = 42\n",
    "matplotlib.rcParams['font.family'] = \"sans-serif\"\n",
    "matplotlib.rcParams['font.sans-serif'] = \"Arial\""
   ]
  },
  {
   "cell_type": "code",
   "execution_count": 1,
   "metadata": {
    "collapsed": false,
    "jupyter": {
     "outputs_hidden": false
    }
   },
   "outputs": [],
   "source": [
    "#set the path to the database \n",
    "database_folder_path=\"/Volumes/mason/Work/Sarath/Research/pycom/\"\n",
    "#matrix file name and path\n",
    "file_matrix_db = database_folder_path+\"pycom.mat\"\n",
    "#protein database file name and path\n",
    "file_protein_db= database_folder_path+\"pycom.db\""
   ]
  },
  {
   "cell_type": "code",
   "execution_count": 3,
   "metadata": {},
   "outputs": [],
   "source": [
    "#variables to set fontsize and color parameters for plotting\n",
    "ticks_font=12\n",
    "labels_font=14\n",
    "my_color=\"#6495ED\""
   ]
  },
  {
   "cell_type": "markdown",
   "metadata": {},
   "source": [
    "#### How to use PyCom with local database\n",
    "If you have a copy of both `pycom.mat` and `pycom.db` on a local disk you will have access to all the features of PyCoM.\n",
    "The code below shows you how to intialise and create a 'PyCom' object by specifying location of the database files.\n",
    "\n",
    "Comment (add # at the beginning of the line) the code below if you do not have the database files."
   ]
  },
  {
   "cell_type": "code",
   "execution_count": null,
   "metadata": {},
   "outputs": [],
   "source": []
  },
  {
   "cell_type": "code",
   "execution_count": 3,
   "metadata": {},
   "outputs": [],
   "source": [
    "obj_pycom = PyCom(db_path=file_protein_db, mat_path=file_matrix_db)"
   ]
  },
  {
   "cell_type": "markdown",
   "metadata": {},
   "source": [
    "#### How to use PyCom with remote database\n",
    "\n",
    "If you do not have a local copy of the pycom database files (see above), please uncomment (delete # at the beginning of the line) the code below.\n",
    "\n",
    "For the complete pycom tutorial on how to use it remotely see `01_BASICS`"
   ]
  },
  {
   "cell_type": "code",
   "execution_count": 68,
   "metadata": {},
   "outputs": [],
   "source": [
    "#obj_pycom = PyCom(remote=True)"
   ]
  },
  {
   "cell_type": "code",
   "execution_count": null,
   "metadata": {},
   "outputs": [],
   "source": []
  },
  {
   "cell_type": "markdown",
   "metadata": {},
   "source": [
    "Construct your query (its empty as I want all information)"
   ]
  },
  {
   "cell_type": "code",
   "execution_count": 6,
   "metadata": {
    "collapsed": false,
    "jupyter": {
     "outputs_hidden": false
    }
   },
   "outputs": [],
   "source": [
    "# Here we are asking for all the proteins that match the enzyme class 3 and have been associated with the disease cancer.\n",
    "query_parameters={ProteinParams.DI}\n",
    "# executing the query returns a pandas dataframe with information about all the proteins which match the query"
   ]
  },
  {
   "cell_type": "markdown",
   "metadata": {
    "tags": []
   },
   "source": [
    "### Supported query keywords:\n",
    "* `uniprot_id`: The UniProt ID of the protein.\n",
    "* `sequence`: The amino acid sequence of protein to search for. (full match)\n",
    "* `min_length` / `max_length`: Min/Max number of residues in the protein.\n",
    "* `min_helix` / `max_helix`: Min/Max percentage of helical structure in the protein.\n",
    "* `min_turn` / `max_turn`: Min/Max percentage of turn structure in the protein.\n",
    "* `min_strand` / `max_strand`: Min/Max percentage of beta strand structure in the protein.\n",
    "* `organism`: Taxonomic name of the genus / species of the protein. (case-insensitive)\n",
    "  * Species name or any parent taxonomic level can be used. (`pyc.get_organism_list()` for full list)\n",
    "  * Surround with `:` to get precise results\n",
    "    * `:homo:` returns `Homo sapiens` & `Homo sapiens neanderthalensis`)\n",
    "    * `homo` also returns **homo**eomma, t**homo**mys, and *hundreds* others\n",
    "* `organism_id`: Precise NCBI Taxonomy ID of the species of the protein. (prefer to use `organism` instead)\n",
    "* `cath`: CATH classification of the protein (`3.40.50.360` or `3.40.*.*` or `3.*`).\n",
    "* `enzyme`: Enzyme Commission number of the protein. (`1.3.1.3` or `1.3.*.*` or `1.*`).\n",
    "* `has_substrate`: Whether the protein has a known substrate. (`True`/`False`)\n",
    "* `has_ptm`: Whether the protein has a known post-translational modification. (`True`/`False`)\n",
    "* `has_pbd`: Whether the protein has a known PDB structure. (`True`/`False`)\n",
    "* `disease`: The disease associated with the protein. (name of disease, case-insensitive, e.g `cancer`)\n",
    "  * Use `pyc.get_disease_list()` for full list.\n",
    "  * `cancer` searches for `Ovarian cancer`, `Lung cancer`, ...\n",
    "* `disease_id`: The ID of the disease associated with the protein. (`DI-02205`, get_disease_list()\n",
    "* `has_disease`: Whether the protein is associated with a disease. (`True`/`False`)\n",
    "* `cofactor`: The cofactor associated with the protein. (name of cofactor, case-insensitive, e.g `Zn(2+)`])\n",
    "* `cofactor_id`: The ID of the cofactor associated with the protein. (`CHEBI:00001`, get_cofactor_list())\n",
    "* `biological_process`: Biological process associated with the protein. (e.g `antiviral defense`, use `pyc.get_biological_process_list()` for full list)\n",
    "* `cellular_component`: Cellular component associated with the protein. (e.g `nucleus`, use `pyc.get_cellular_component_list()` for full list\n",
    "* `domain`: Domain associated with the protein. (e.g `zinc-finger`, use `pyc.get_domain_list()` for full list)\n",
    "* `ligand`: Ligand associated with the protein. (e.g `zinc`, use `pyc.get_ligand_list()` for full list\n",
    "* `molecular_function`: Molecular function associated with the protein. (e.g `antioxidant activity`, use `pyc.get_molecular_function_list()` for full list\n",
    "* `ptm`: Post-translational modification associated with the protein. (e.g `phosphoprotein`, use `pyc.get_ptm_list()` for full list"
   ]
  },
  {
   "cell_type": "markdown",
   "metadata": {
    "jp-MarkdownHeadingCollapsed": true,
    "tags": []
   },
   "source": [
    "Finding out dimensions of the dataframe:"
   ]
  },
  {
   "cell_type": "code",
   "execution_count": 5,
   "metadata": {},
   "outputs": [
    {
     "ename": "NameError",
     "evalue": "name 'obj_pycom' is not defined",
     "output_type": "error",
     "traceback": [
      "\u001b[0;31m---------------------------------------------------------------------------\u001b[0m",
      "\u001b[0;31mNameError\u001b[0m                                 Traceback (most recent call last)",
      "Input \u001b[0;32mIn [5]\u001b[0m, in \u001b[0;36m<cell line: 1>\u001b[0;34m()\u001b[0m\n\u001b[0;32m----> 1\u001b[0m entries_data_frame\u001b[38;5;241m=\u001b[39m\u001b[43mobj_pycom\u001b[49m\u001b[38;5;241m.\u001b[39mfind(query_parameters)\n",
      "\u001b[0;31mNameError\u001b[0m: name 'obj_pycom' is not defined"
     ]
    }
   ],
   "source": [
    "entries_data_frame=obj_pycom.find(query_parameters)"
   ]
  },
  {
   "cell_type": "code",
   "execution_count": 4,
   "metadata": {},
   "outputs": [
    {
     "ename": "NameError",
     "evalue": "name 'entries_data_frame' is not defined",
     "output_type": "error",
     "traceback": [
      "\u001b[0;31m---------------------------------------------------------------------------\u001b[0m",
      "\u001b[0;31mNameError\u001b[0m                                 Traceback (most recent call last)",
      "Input \u001b[0;32mIn [4]\u001b[0m, in \u001b[0;36m<cell line: 1>\u001b[0;34m()\u001b[0m\n\u001b[0;32m----> 1\u001b[0m \u001b[43mentries_data_frame\u001b[49m[\u001b[38;5;124m\"\u001b[39m\u001b[38;5;124mneff\u001b[39m\u001b[38;5;124m\"\u001b[39m]\u001b[38;5;241m.\u001b[39mmean\n",
      "\u001b[0;31mNameError\u001b[0m: name 'entries_data_frame' is not defined"
     ]
    }
   ],
   "source": [
    "entries_data_frame[\"neff\"].mean"
   ]
  },
  {
   "cell_type": "markdown",
   "metadata": {},
   "source": [
    "### Save the query to a csv file"
   ]
  },
  {
   "cell_type": "code",
   "execution_count": 8,
   "metadata": {},
   "outputs": [],
   "source": [
    "entries_data_frame.to_csv(\"Full_DB_Query.csv\",index=False)"
   ]
  },
  {
   "cell_type": "markdown",
   "metadata": {},
   "source": [
    "### Read query data from csv file"
   ]
  },
  {
   "cell_type": "code",
   "execution_count": 90,
   "metadata": {},
   "outputs": [],
   "source": [
    "#entries_data_frame=pd.read_csv(\"Full_DB.csv\")"
   ]
  },
  {
   "cell_type": "markdown",
   "metadata": {},
   "source": [
    "Find unique entries in a column:"
   ]
  },
  {
   "cell_type": "code",
   "execution_count": 13,
   "metadata": {},
   "outputs": [
    {
     "data": {
      "text/plain": [
       "array([0, 1])"
      ]
     },
     "execution_count": 13,
     "metadata": {},
     "output_type": "execute_result"
    }
   ],
   "source": [
    "entries_data_frame['has_ptm'].unique()"
   ]
  },
  {
   "cell_type": "markdown",
   "metadata": {},
   "source": [
    "Get counts of categorical data in the column, for example number of proteins with a known PDB structure"
   ]
  },
  {
   "cell_type": "code",
   "execution_count": 10,
   "metadata": {},
   "outputs": [
    {
     "data": {
      "text/plain": [
       "has_pdb\n",
       "0    434632\n",
       "1     22990\n",
       "Name: count, dtype: int64"
      ]
     },
     "execution_count": 10,
     "metadata": {},
     "output_type": "execute_result"
    }
   ],
   "source": [
    "entries_data_frame['has_pdb'].value_counts()"
   ]
  },
  {
   "cell_type": "code",
   "execution_count": null,
   "metadata": {},
   "outputs": [],
   "source": [
    "What is the minimum and maximum value of a column?"
   ]
  },
  {
   "cell_type": "code",
   "execution_count": 34,
   "metadata": {},
   "outputs": [
    {
     "data": {
      "text/plain": [
       "1.0"
      ]
     },
     "execution_count": 34,
     "metadata": {},
     "output_type": "execute_result"
    }
   ],
   "source": [
    "entries_data_frame[\"neff\"].min()"
   ]
  },
  {
   "cell_type": "markdown",
   "metadata": {},
   "source": [
    "We can also use `describe()` function to get more detailed statistics:"
   ]
  },
  {
   "cell_type": "code",
   "execution_count": null,
   "metadata": {},
   "outputs": [],
   "source": [
    "entries_data_frame[\"neff\"].describe()"
   ]
  },
  {
   "cell_type": "markdown",
   "metadata": {},
   "source": [
    "### Plot N_eff\n",
    "\n",
    "Lets look at the distribution of $ N_{eff} $ in our query"
   ]
  },
  {
   "cell_type": "code",
   "execution_count": 76,
   "metadata": {
    "ExecuteTime": {
     "end_time": "2023-07-27T17:10:24.136598Z",
     "start_time": "2023-07-27T17:10:11.777570Z"
    },
    "collapsed": false,
    "jupyter": {
     "outputs_hidden": false
    }
   },
   "outputs": [
    {
     "data": {
      "image/png": "[encoded data removed]",
      "text/plain": [
       "<Figure size 288x216 with 1 Axes>"
      ]
     },
     "metadata": {
      "needs_background": "light"
     },
     "output_type": "display_data"
    }
   ],
   "source": [
    "xlabel='$\\mathrm{N}_{eff}$'\n",
    "ylabel=\"Count\"\n",
    "plt.figure(figsize=(4,3))\n",
    "neff_hist=plt.hist(entries_data_frame[\"neff\"],bins=50,color=my_color,cumulative=False,density=False,alpha=0.5)\n",
    "plt.xlabel(xlabel,fontsize=labels_font)\n",
    "plt.ylabel(ylabel,fontsize=labels_font)\n",
    "plt.xticks(np.arange(0,18,2),fontsize=ticks_font)\n",
    "plt.yticks(fontsize=ticks_font)\n",
    "plt.grid(linestyle=\"--\",lw=1)\n",
    "plt.tight_layout()\n",
    "plt.savefig(\"Neff.png\",dpi=300,transparent=True)"
   ]
  },
  {
   "cell_type": "code",
   "execution_count": 27,
   "metadata": {},
   "outputs": [
    {
     "data": {
      "text/html": [
       "<div>\n",
       "<style scoped>\n",
       "    .dataframe tbody tr th:only-of-type {\n",
       "        vertical-align: middle;\n",
       "    }\n",
       "\n",
       "    .dataframe tbody tr th {\n",
       "        vertical-align: top;\n",
       "    }\n",
       "\n",
       "    .dataframe thead th {\n",
       "        text-align: right;\n",
       "    }\n",
       "</style>\n",
       "<table border=\"1\" class=\"dataframe\">\n",
       "  <thead>\n",
       "    <tr style=\"text-align: right;\">\n",
       "      <th></th>\n",
       "      <th>uniprot_id</th>\n",
       "      <th>neff</th>\n",
       "      <th>sequence_length</th>\n",
       "      <th>sequence</th>\n",
       "      <th>organism_id</th>\n",
       "      <th>helix_frac</th>\n",
       "      <th>turn_frac</th>\n",
       "      <th>strand_frac</th>\n",
       "      <th>has_ptm</th>\n",
       "      <th>has_pdb</th>\n",
       "      <th>has_substrate</th>\n",
       "      <th>matrix</th>\n",
       "      <th>enzyme_commission</th>\n",
       "      <th>cath_class</th>\n",
       "      <th>pdb_id</th>\n",
       "      <th>cofactor</th>\n",
       "      <th>ptm</th>\n",
       "      <th>disease_name</th>\n",
       "      <th>disease_id</th>\n",
       "    </tr>\n",
       "  </thead>\n",
       "  <tbody>\n",
       "    <tr>\n",
       "      <th>0</th>\n",
       "      <td>P0C9F0</td>\n",
       "      <td>8.814</td>\n",
       "      <td>122</td>\n",
       "      <td>MVRLFYNPIKYLFYRRSCKKRLRKALKKLNFYHPPKECCQIYRLLE...</td>\n",
       "      <td>561445</td>\n",
       "      <td>0.0</td>\n",
       "      <td>0.0</td>\n",
       "      <td>0.0</td>\n",
       "      <td>0</td>\n",
       "      <td>0</td>\n",
       "      <td>0</td>\n",
       "      <td>NaN</td>\n",
       "      <td>NaN</td>\n",
       "      <td>NaN</td>\n",
       "      <td>NaN</td>\n",
       "      <td>NaN</td>\n",
       "      <td>NaN</td>\n",
       "      <td>NaN</td>\n",
       "      <td>NaN</td>\n",
       "    </tr>\n",
       "    <tr>\n",
       "      <th>1</th>\n",
       "      <td>P0C9F1</td>\n",
       "      <td>8.668</td>\n",
       "      <td>126</td>\n",
       "      <td>MVRLFHNPIKCLFYRGSRKTREKKLRKSLKKLNFYHPPGDCCQIYR...</td>\n",
       "      <td>10500</td>\n",
       "      <td>0.0</td>\n",
       "      <td>0.0</td>\n",
       "      <td>0.0</td>\n",
       "      <td>0</td>\n",
       "      <td>0</td>\n",
       "      <td>0</td>\n",
       "      <td>NaN</td>\n",
       "      <td>NaN</td>\n",
       "      <td>NaN</td>\n",
       "      <td>NaN</td>\n",
       "      <td>NaN</td>\n",
       "      <td>NaN</td>\n",
       "      <td>NaN</td>\n",
       "      <td>NaN</td>\n",
       "    </tr>\n",
       "    <tr>\n",
       "      <th>2</th>\n",
       "      <td>P0C9F2</td>\n",
       "      <td>8.755</td>\n",
       "      <td>124</td>\n",
       "      <td>MVRLFRNPIKCIFYRRSRKIQEKKLRKSLKKLNFYHPPEDCCQIYR...</td>\n",
       "      <td>561443</td>\n",
       "      <td>0.0</td>\n",
       "      <td>0.0</td>\n",
       "      <td>0.0</td>\n",
       "      <td>0</td>\n",
       "      <td>0</td>\n",
       "      <td>0</td>\n",
       "      <td>NaN</td>\n",
       "      <td>NaN</td>\n",
       "      <td>NaN</td>\n",
       "      <td>NaN</td>\n",
       "      <td>NaN</td>\n",
       "      <td>NaN</td>\n",
       "      <td>NaN</td>\n",
       "      <td>NaN</td>\n",
       "    </tr>\n",
       "    <tr>\n",
       "      <th>3</th>\n",
       "      <td>P0C9E9</td>\n",
       "      <td>8.755</td>\n",
       "      <td>124</td>\n",
       "      <td>MVRLFRNPIKCIFYRRSRKIQEKKLRKSLKKLNFYHPPEDCCQIYR...</td>\n",
       "      <td>561444</td>\n",
       "      <td>0.0</td>\n",
       "      <td>0.0</td>\n",
       "      <td>0.0</td>\n",
       "      <td>0</td>\n",
       "      <td>0</td>\n",
       "      <td>0</td>\n",
       "      <td>NaN</td>\n",
       "      <td>NaN</td>\n",
       "      <td>NaN</td>\n",
       "      <td>NaN</td>\n",
       "      <td>NaN</td>\n",
       "      <td>NaN</td>\n",
       "      <td>NaN</td>\n",
       "      <td>NaN</td>\n",
       "    </tr>\n",
       "    <tr>\n",
       "      <th>4</th>\n",
       "      <td>Q65209</td>\n",
       "      <td>6.062</td>\n",
       "      <td>141</td>\n",
       "      <td>MGNKESKYLEMCSEEAWLNIPNIFKCIFIRKLFYNKWLKYQEKKLK...</td>\n",
       "      <td>10498</td>\n",
       "      <td>0.0</td>\n",
       "      <td>0.0</td>\n",
       "      <td>0.0</td>\n",
       "      <td>0</td>\n",
       "      <td>0</td>\n",
       "      <td>0</td>\n",
       "      <td>NaN</td>\n",
       "      <td>NaN</td>\n",
       "      <td>NaN</td>\n",
       "      <td>NaN</td>\n",
       "      <td>NaN</td>\n",
       "      <td>NaN</td>\n",
       "      <td>NaN</td>\n",
       "      <td>NaN</td>\n",
       "    </tr>\n",
       "  </tbody>\n",
       "</table>\n",
       "</div>"
      ],
      "text/plain": [
       "  uniprot_id   neff  sequence_length  \\\n",
       "0     P0C9F0  8.814              122   \n",
       "1     P0C9F1  8.668              126   \n",
       "2     P0C9F2  8.755              124   \n",
       "3     P0C9E9  8.755              124   \n",
       "4     Q65209  6.062              141   \n",
       "\n",
       "                                            sequence  organism_id  helix_frac  \\\n",
       "0  MVRLFYNPIKYLFYRRSCKKRLRKALKKLNFYHPPKECCQIYRLLE...       561445         0.0   \n",
       "1  MVRLFHNPIKCLFYRGSRKTREKKLRKSLKKLNFYHPPGDCCQIYR...        10500         0.0   \n",
       "2  MVRLFRNPIKCIFYRRSRKIQEKKLRKSLKKLNFYHPPEDCCQIYR...       561443         0.0   \n",
       "3  MVRLFRNPIKCIFYRRSRKIQEKKLRKSLKKLNFYHPPEDCCQIYR...       561444         0.0   \n",
       "4  MGNKESKYLEMCSEEAWLNIPNIFKCIFIRKLFYNKWLKYQEKKLK...        10498         0.0   \n",
       "\n",
       "   turn_frac  strand_frac  has_ptm  has_pdb  has_substrate  matrix  \\\n",
       "0        0.0          0.0        0        0              0     NaN   \n",
       "1        0.0          0.0        0        0              0     NaN   \n",
       "2        0.0          0.0        0        0              0     NaN   \n",
       "3        0.0          0.0        0        0              0     NaN   \n",
       "4        0.0          0.0        0        0              0     NaN   \n",
       "\n",
       "  enzyme_commission cath_class pdb_id cofactor  ptm disease_name disease_id  \n",
       "0               NaN        NaN    NaN      NaN  NaN          NaN        NaN  \n",
       "1               NaN        NaN    NaN      NaN  NaN          NaN        NaN  \n",
       "2               NaN        NaN    NaN      NaN  NaN          NaN        NaN  \n",
       "3               NaN        NaN    NaN      NaN  NaN          NaN        NaN  \n",
       "4               NaN        NaN    NaN      NaN  NaN          NaN        NaN  "
      ]
     },
     "execution_count": 27,
     "metadata": {},
     "output_type": "execute_result"
    }
   ],
   "source": [
    "entries_data_frame.head()"
   ]
  },
  {
   "cell_type": "markdown",
   "metadata": {},
   "source": [
    "### Plot Sequence length distribution\n",
    "\n",
    "Lets look at the distribution of sequence sizes in our query"
   ]
  },
  {
   "cell_type": "code",
   "execution_count": 80,
   "metadata": {},
   "outputs": [
    {
     "data": {
      "image/png": "[encoded data removed]",
      "text/plain": [
       "<Figure size 288x216 with 1 Axes>"
      ]
     },
     "metadata": {
      "needs_background": "light"
     },
     "output_type": "display_data"
    }
   ],
   "source": [
    "xlabel='Sequence length'\n",
    "ylabel=\"Count\"\n",
    "plt.figure(figsize=(4,3))\n",
    "seq_hist=plt.hist(entries_data_frame[\"sequence_length\"],bins=50,color=my_color,cumulative=False,density=False,alpha=0.5)\n",
    "plt.xlabel(xlabel,fontsize=labels_font)\n",
    "plt.ylabel(ylabel,fontsize=labels_font)\n",
    "plt.xticks(np.arange(0,550,100),fontsize=ticks_font)\n",
    "plt.yticks(fontsize=ticks_font)\n",
    "plt.grid(linestyle=\"--\",lw=1)\n",
    "plt.tight_layout()\n",
    "plt.savefig(\"seq_len.png\",dpi=300,transparent=True)"
   ]
  },
  {
   "cell_type": "markdown",
   "metadata": {},
   "source": [
    "#### Get columns in the dataframe"
   ]
  },
  {
   "cell_type": "markdown",
   "metadata": {},
   "source": [
    "### Add biological features to the dataframe for each protein\n",
    "\n",
    "Initialise the object loader class and then call each add function\n",
    "\n",
    "1. Add Enzyme Classification \n",
    "2. Add CATH Class\n",
    "3. Add Co-factors\n",
    "4. Add PTM\n",
    "5. Add Diseases\n",
    "\n",
    "For a protein entry if the requested data (EC/CATH/Cofactors...) does not exist, corresponding entry in that column will be `nan`. We can filter such rows as shown further below.\n",
    "\n",
    "**Please note the dataloader functions will not work with remote version of PyCom**"
   ]
  },
  {
   "cell_type": "code",
   "execution_count": 16,
   "metadata": {},
   "outputs": [],
   "source": [
    "#initialise the object for data loader class\n",
    "obj_data_loader=obj_pycom.get_data_loader()"
   ]
  },
  {
   "cell_type": "code",
   "execution_count": null,
   "metadata": {},
   "outputs": [],
   "source": [
    "#add enzyme commission data to the dataframe\n",
    "entries_data_frame=obj_data_loader.add_enzyme_commission(entries_data_frame,force_single_entry=False)\n",
    "#add CATH data to the dataframe\n",
    "entries_data_frame=obj_data_loader.add_cath_class(entries_data_frame,force_single_entry=False)\n",
    "#add CATH data to the dataframe\n",
    "entries_data_frame=obj_data_loader.add_pdbs(entries_data_frame,force_single_entry=False)\n",
    "#get list of all cofactors for each protein\n",
    "entries_data_frame=obj_data_loader.add_cofactors(entries_data_frame,force_single_entry=False)\n",
    "#get list of all PTM's for each protein\n",
    "entries_data_frame=obj_data_loader.add_ptm(entries_data_frame,force_single_entry=False)\n",
    "#get list of all diseases for each protein\n",
    "entries_data_frame=obj_data_loader.add_diseases(entries_data_frame,force_single_entry=False)"
   ]
  },
  {
   "cell_type": "markdown",
   "metadata": {},
   "source": [
    "#### Save the progress to a csv file\n",
    "\n",
    "As we have added a lot of information to our dataframe, let's save our progress so that we can restart from this point, in future, if required."
   ]
  },
  {
   "cell_type": "code",
   "execution_count": 21,
   "metadata": {},
   "outputs": [],
   "source": [
    "entries_data_frame.to_csv(\"Full_DB_With_Details.csv\",index=False)"
   ]
  },
  {
   "cell_type": "markdown",
   "metadata": {},
   "source": [
    "### Statistics\n",
    "\n",
    "Let's look at some statistics for all the columns in the dataframe. Below are some examples of how you can do some fun things with the dataframe."
   ]
  },
  {
   "cell_type": "code",
   "execution_count": null,
   "metadata": {},
   "outputs": [],
   "source": [
    "#include=all will also include columns with 'nan' entries\n",
    "ec_full.describe(include=\"all\")"
   ]
  },
  {
   "cell_type": "markdown",
   "metadata": {},
   "source": [
    "Find unique entries in a column and count them:"
   ]
  },
  {
   "cell_type": "code",
   "execution_count": null,
   "metadata": {},
   "outputs": [],
   "source": [
    "entries_data_frame['sequence'].unique().sum()"
   ]
  },
  {
   "cell_type": "markdown",
   "metadata": {},
   "source": [
    "Count columns without 'nan' entries"
   ]
  },
  {
   "cell_type": "code",
   "execution_count": 26,
   "metadata": {},
   "outputs": [
    {
     "data": {
      "text/plain": [
       "22990"
      ]
     },
     "execution_count": 26,
     "metadata": {},
     "output_type": "execute_result"
    }
   ],
   "source": [
    "#Number of proteins with pdb data\n",
    "entries_data_frame[\"pdb_id\"].notna().sum()"
   ]
  },
  {
   "cell_type": "code",
   "execution_count": 31,
   "metadata": {},
   "outputs": [
    {
     "data": {
      "text/plain": [
       "91097"
      ]
     },
     "execution_count": 31,
     "metadata": {},
     "output_type": "execute_result"
    }
   ],
   "source": [
    "#number of proteins with cofactors\n",
    "entries_data_frame[\"cofactor\"].notna().sum()"
   ]
  },
  {
   "cell_type": "code",
   "execution_count": 32,
   "metadata": {},
   "outputs": [
    {
     "data": {
      "text/plain": [
       "285937"
      ]
     },
     "execution_count": 32,
     "metadata": {},
     "output_type": "execute_result"
    }
   ],
   "source": [
    "#number of proteins with a known CATH class\n",
    "entries_data_frame[\"cath_class\"].notna().sum()"
   ]
  },
  {
   "cell_type": "markdown",
   "metadata": {},
   "source": [
    "Filter the dataframe by removing entries without any EC/CATH data"
   ]
  },
  {
   "cell_type": "code",
   "execution_count": 22,
   "metadata": {},
   "outputs": [],
   "source": [
    "#removing all entries without any EC class\n",
    "entries_with_ec_data=entries_data_frame[entries_data_frame[\"enzyme_commission\"].notna()]\n",
    "\n",
    "#removing all entries without any CATH class\n",
    "entries_with_cath_data=entries_data_frame[entries_data_frame[\"cath_class\"].notna()]"
   ]
  },
  {
   "cell_type": "code",
   "execution_count": 26,
   "metadata": {},
   "outputs": [
    {
     "data": {
      "text/plain": [
       "cath_class\n",
       "False    285937\n",
       "Name: count, dtype: int64"
      ]
     },
     "execution_count": 26,
     "metadata": {},
     "output_type": "execute_result"
    }
   ],
   "source": [
    "#count frequency of items with 'nan' value\n",
    "entries_with_cath_data[\"cath_class\"].isna().value_counts()"
   ]
  },
  {
   "cell_type": "markdown",
   "metadata": {},
   "source": [
    "Functions to group CATH/EC data and count the frequency of top class"
   ]
  },
  {
   "cell_type": "code",
   "execution_count": 33,
   "metadata": {},
   "outputs": [],
   "source": [
    "from collections import OrderedDict\n",
    "\n",
    "dict_group_data={}\n",
    "\n",
    "# function to count the frequency of super class\n",
    "def group_data_by_class(data,data_type=1):\n",
    "    global dict_group_data\n",
    "    dict_group_data={}\n",
    "    data_class=\"enzyme_commission\"\n",
    "    if(data_type==1):\n",
    "        data_class=\"enzyme_commission\"\n",
    "    if(data_type==2):\n",
    "        data_class=\"cath_class\"\n",
    "\n",
    "    for i_data in data[data_class]:\n",
    "        n=len(i_data)\n",
    "        if(n==1):\n",
    "            classid=i_data[0].split('.')[0]\n",
    "            update_dict_group(classid)\n",
    "        if(n>1):\n",
    "            for j in i_data:\n",
    "                update_dict_group(j[0].split('.')[0])\n",
    "    \n",
    "    dict_group_data=dict(sorted(dict_group_data.items()))    \n",
    "    return dict_group_data\n",
    "\n",
    "# function to update the dictionary \n",
    "def update_dict_group(classid):\n",
    "    global dict_group_data\n",
    "\n",
    "    if(classid in dict_group_data.keys()):\n",
    "        dict_group_data[classid]=dict_group_data[classid]+1\n",
    "    else:\n",
    "        dict_group_data[classid]=1"
   ]
  },
  {
   "cell_type": "markdown",
   "metadata": {
    "tags": []
   },
   "source": [
    "#### Plot Enzyme Commission data"
   ]
  },
  {
   "cell_type": "code",
   "execution_count": 34,
   "metadata": {},
   "outputs": [
    {
     "data": {
      "text/plain": [
       "{'1': 28581,\n",
       " '2': 80264,\n",
       " '3': 48572,\n",
       " '4': 22166,\n",
       " '5': 12752,\n",
       " '6': 16888,\n",
       " '7': 10333}"
      ]
     },
     "execution_count": 34,
     "metadata": {},
     "output_type": "execute_result"
    }
   ],
   "source": [
    "#get a dictionary with frequency of each EC super class\n",
    "ec_numbers=group_data_by_class(entries_with_ec_data,data_type=1)\n",
    "ec_numbers"
   ]
  },
  {
   "cell_type": "code",
   "execution_count": null,
   "metadata": {},
   "outputs": [],
   "source": [
    "plt.figure(figsize=(4,3))\n",
    "plt.bar(ec_numbers.keys(),\n",
    "        height=ec_numbers.values(),\n",
    "        color=my_color\n",
    "       )\n",
    "plt.xlabel(\"Enzyme Commission Class\",fontsize=labels_font)\n",
    "plt.ylabel(\"Count\",fontsize=labels_font)\n",
    "plt.xticks(fontsize=ticks_font)\n",
    "plt.yticks(fontsize=ticks_font)\n",
    "plt.grid(axis='y',ls=\"--\",lw=1)\n",
    "plt.tight_layout()\n",
    "plt.savefig(\"ecdata.png\",dpi=300,transparent=True)"
   ]
  },
  {
   "cell_type": "markdown",
   "metadata": {},
   "source": [
    "#### Plot CATH data"
   ]
  },
  {
   "cell_type": "code",
   "execution_count": 35,
   "metadata": {},
   "outputs": [
    {
     "data": {
      "text/plain": [
       "{'1': 69567, '2': 48531, '3': 225736, '4': 8556, '6': 1021}"
      ]
     },
     "execution_count": 35,
     "metadata": {},
     "output_type": "execute_result"
    }
   ],
   "source": [
    "#get a dictionary with frequency of each CATH super class\n",
    "cath_numbers=group_data_by_class(entries_with_cath_data,data_type=2)\n",
    "cath_numbers"
   ]
  },
  {
   "cell_type": "code",
   "execution_count": 79,
   "metadata": {
    "ExecuteTime": {
     "end_time": "2023-07-27T17:15:43.086844Z",
     "start_time": "2023-07-27T17:15:05.298653Z"
    }
   },
   "outputs": [
    {
     "data": {
      "image/png": "[encoded data removed]",
      "text/plain": [
       "<Figure size 288x216 with 1 Axes>"
      ]
     },
     "metadata": {
      "needs_background": "light"
     },
     "output_type": "display_data"
    }
   ],
   "source": [
    "plt.figure(figsize=(4,3))\n",
    "plt.bar(cath_numbers.keys(),\n",
    "                 height=cath_numbers.values(),\n",
    "                 color=my_color         \n",
    "                )\n",
    "plt.xlabel(\"CATH Class\",fontsize=labels_font)\n",
    "plt.ylabel(\"Count\",fontsize=labels_font)\n",
    "plt.xticks(fontsize=ticks_font)\n",
    "plt.yticks(fontsize=ticks_font)\n",
    "plt.grid(axis='y',ls=\"--\",lw=1)\n",
    "plt.tight_layout()\n",
    "plt.savefig(\"cathdata.png\",dpi=300,transparent=True)"
   ]
  },
  {
   "cell_type": "markdown",
   "metadata": {},
   "source": [
    "# Load coevolution matrix"
   ]
  },
  {
   "cell_type": "code",
   "execution_count": null,
   "metadata": {},
   "outputs": [],
   "source": []
  },
  {
   "cell_type": "markdown",
   "metadata": {},
   "source": [
    "# Plot the matrix and save it"
   ]
  },
  {
   "cell_type": "code",
   "execution_count": null,
   "metadata": {},
   "outputs": [],
   "source": []
  },
  {
   "cell_type": "code",
   "execution_count": null,
   "metadata": {},
   "outputs": [],
   "source": [
    "# Save the list of top coevolution pairs"
   ]
  }
 ],
 "metadata": {
  "kernelspec": {
   "display_name": "Python 3-conda (ipykernel)",
   "language": "python",
   "name": "python3"
  },
  "language_info": {
   "codemirror_mode": {
    "name": "ipython",
    "version": 3
   },
   "file_extension": ".py",
   "mimetype": "text/x-python",
   "name": "python",
   "nbconvert_exporter": "python",
   "pygments_lexer": "ipython3",
   "version": "3.9.12"
  }
 },
 "nbformat": 4,
 "nbformat_minor": 4
}
