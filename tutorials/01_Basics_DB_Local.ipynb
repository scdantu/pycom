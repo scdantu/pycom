{
 "cells": [
  {
   "cell_type": "markdown",
   "metadata": {},
   "source": [
    "## Working with PyCoM (locally)\n",
    "\n",
    "PyCoM database (PyCoMdb) consists of two files:\n",
    "1. Curated protein database from SwissProt. (pycom.db, 700MB)\n",
    "2. Corresponding Coevolution Matrices of all proteins in hd5fy format. (pycom.mat, 114GB)\n",
    "\n",
    "There are two ways of working with the PyCoMdb database using the PyCoM API.\n",
    "1. Downloading the PyCoMdb files locally and working with them. This option requires 115GB of disk space for the two database files listed above. \n",
    "2. Using PyCoM API and working with the database located on the pycom.brunel.ac.uk. a tutorial for that is available in `example_remote.ipynb`.\n",
    "\n",
    "### Installation\n",
    "\n",
    "Install the PyCoM package:\n",
    "\n",
    "* `pip install git+https://github.com/scdantu/pycom`\n",
    "* Requires Python 3.8 or higher\n",
    "\n",
    "Download the `pycom.db` and `pycom.mat` files from:\n",
    "\n",
    "* [https://pycom.brunel.ac.uk/downloads](https://pycom.brunel.ac.uk/downloads) into your favourite folder for example [/Volumes/Data/PyCoMdb/]\n",
    "\n",
    "\n",
    "## Tutorial\n",
    "\n",
    "The first step is to create a pycom object `obj_pycom` for the class PyCom. You need to provide the full path pointing to the location of both the database files.\n",
    " "
   ]
  },
  {
   "cell_type": "code",
   "execution_count": null,
   "metadata": {
    "collapsed": false,
    "jupyter": {
     "outputs_hidden": false
    }
   },
   "outputs": [],
   "source": [
    "from pycom import PyCom, ProteinParams\n",
    "\n",
    "#database_folder_path=\"/Volumes/Data/PyCoMdb/\"\n",
    "database_folder_path=\"/Volumes/mason/Work/Sarath/Research/pycom/\"\n",
    "\n",
    "obj_pycom = PyCom(db_path=database_folder_path+'pycom.db', mat_path=database_folder_path+'pycom.mat')"
   ]
  },
  {
   "cell_type": "markdown",
   "metadata": {},
   "source": [
    "### Construct the query parameters\n",
    "\n",
    "Now the fun part, to find the proteins of your interest you can either construct a `query_parameters` dictionary using `ProteinParams` or directly using the 'keywords' listed below. \n",
    " \n",
    "The example below shows you how to use `ProteinParams`. Please note, if you type in `ProteinParams.` and press TAB, you will see the list of possible parameters (in CAPITALS e.g.: HAS_PTM or DISEASE).\n",
    "\n",
    "#### `query_parameters` using `ProteinParams`"
   ]
  },
  {
   "cell_type": "code",
   "execution_count": null,
   "metadata": {
    "collapsed": false,
    "jupyter": {
     "outputs_hidden": false
    }
   },
   "outputs": [],
   "source": [
    "# Here we are asking for all the proteins that match the enzyme class 3 and have been associated with the disease cancer.\n",
    "query_parameters={\n",
    "    ProteinParams.ENZYME: '3.*.*.*',\n",
    "    ProteinParams.DISEASE: 'cancer',  # string search, case-insensitive\n",
    "}\n",
    "# executing the query returns a pandas dataframe with information about all the proteins which match the query\n",
    "entries_data_frame = obj_pycom.find(query_parameters)"
   ]
  },
  {
   "cell_type": "markdown",
   "metadata": {},
   "source": [
    "#### Empty`query_parameters`\n",
    "Note 1: *** Supplying an empty `query_parameters` to `obj_pycom.find()` will return the full protein database with 457,622 entries as pan *** "
   ]
  },
  {
   "cell_type": "code",
   "execution_count": 1,
   "metadata": {
    "collapsed": false,
    "jupyter": {
     "outputs_hidden": false
    }
   },
   "outputs": [
    {
     "ename": "NameError",
     "evalue": "name 'obj_pycom' is not defined",
     "output_type": "error",
     "traceback": [
      "\u001b[0;31m---------------------------------------------------------------------------\u001b[0m",
      "\u001b[0;31mNameError\u001b[0m                                 Traceback (most recent call last)",
      "Input \u001b[0;32mIn [1]\u001b[0m, in \u001b[0;36m<cell line: 2>\u001b[0;34m()\u001b[0m\n\u001b[1;32m      1\u001b[0m \u001b[38;5;66;03m#executing the query using the query_parameters\u001b[39;00m\n\u001b[0;32m----> 2\u001b[0m entries_data_frame \u001b[38;5;241m=\u001b[39m \u001b[43mobj_pycom\u001b[49m\u001b[38;5;241m.\u001b[39mfind(query_parameters)\n\u001b[1;32m      3\u001b[0m \u001b[38;5;66;03m#printing the contents of the dataframe\u001b[39;00m\n\u001b[1;32m      4\u001b[0m entries_data_frame\n",
      "\u001b[0;31mNameError\u001b[0m: name 'obj_pycom' is not defined"
     ]
    }
   ],
   "source": [
    "#executing the query using the query_parameters\n",
    "entries_data_frame = obj_pycom.find(query_parameters)\n",
    "#printing the contents of the dataframe\n",
    "entries_data_frame"
   ]
  },
  {
   "cell_type": "markdown",
   "metadata": {},
   "source": [
    "*** Note 2: At this stage we have not yet loaded the coevolution matrices in the dataframe. ***\n",
    "\n",
    "\n",
    "# Query using keyword arguments:"
   ]
  },
  {
   "cell_type": "code",
   "execution_count": null,
   "metadata": {},
   "outputs": [],
   "source": [
    "#executing the query using keywords\n",
    "entries_data_frame = obj_pycom.find(\n",
    "    cofactor='FAD',  # string search, case-insensitive\n",
    "    has_ptm=True,\n",
    "    has_disease=False,\n",
    "    min_length=200,\n",
    ")\n",
    "# printing the contents of the dataframe\n",
    "entries_data_frame"
   ]
  },
  {
   "cell_type": "markdown",
   "metadata": {},
   "source": [
    "### Supported query keywords:\n",
    "* `uniprot_id`: The UniProt ID of the protein.\n",
    "* `sequence`: The amino acid sequence of protein to search for. (full match)\n",
    "* `min_length` / `max_length`: Min/Max number of residues in the protein.\n",
    "* `min_helix` / `max_helix`: Min/Max percentage of helical structure in the protein.\n",
    "* `min_turn` / `max_turn`: Min/Max percentage of turn structure in the protein.\n",
    "* `min_strand` / `max_strand`: Min/Max percentage of beta strand structure in the protein.\n",
    "* `organism`: Taxonomic name of the genus / species of the protein. (case-insensitive)\n",
    "  * Species name or any parent taxonomic level can be used. (`pyc.get_organism_list()` for full list)\n",
    "  * Surround with `:` to get precise results\n",
    "    * `:homo:` returns `Homo sapiens` & `Homo sapiens neanderthalensis`)\n",
    "    * `homo` also returns **homo**eomma, t**homo**mys, and *hundreds* others\n",
    "* `organism_id`: Precise NCBI Taxonomy ID of the species of the protein. (prefer to use `organism` instead)\n",
    "* `cath`: CATH classification of the protein (`3.40.50.360` or `3.40.*.*` or `3.*`).\n",
    "* `enzyme`: Enzyme Commission number of the protein. (`1.3.1.3` or `1.3.*.*` or `1.*`).\n",
    "* `has_substrate`: Whether the protein has a known substrate. (`True`/`False`)\n",
    "* `has_ptm`: Whether the protein has a known post-translational modification. (`True`/`False`)\n",
    "* `has_pdb`: Whether the protein has a known PDB structure. (`True`/`False`)\n",
    "* `disease`: The disease associated with the protein. (name of disease, case-insensitive, e.g `cancer`)\n",
    "  * Use `pyc.get_disease_list()` for full list.\n",
    "  * `cancer` searches for `Ovarian cancer`, `Lung cancer`, ...\n",
    "* `disease_id`: The ID of the disease associated with the protein. (`DI-02205`, get_disease_list()\n",
    "* `has_disease`: Whether the protein is associated with a disease. (`True`/`False`)\n",
    "* `cofactor`: The cofactor associated with the protein. (name of cofactor, case-insensitive, e.g `Zn(2+)`])\n",
    "* `cofactor_id`: The ID of the cofactor associated with the protein. (`CHEBI:00001`, get_cofactor_list())\n",
    "* `biological_process`: Biological process associated with the protein. (e.g `antiviral defense`, use `pyc.get_biological_process_list()` for full list)\n",
    "* `cellular_component`: Cellular component associated with the protein. (e.g `nucleus`, use `pyc.get_cellular_component_list()` for full list\n",
    "* `domain`: Domain associated with the protein. (e.g `zinc-finger`, use `pyc.get_domain_list()` for full list)\n",
    "* `ligand`: Ligand associated with the protein. (e.g `zinc`, use `pyc.get_ligand_list()` for full list\n",
    "* `molecular_function`: Molecular function associated with the protein. (e.g `antioxidant activity`, use `pyc.get_molecular_function_list()` for full list\n",
    "* `ptm`: Post-translational modification associated with the protein. (e.g `phosphoprotein`, use `pyc.get_ptm_list()` for full list\n",
    "\n",
    "\n",
    "Here is an example of making a large query, then paginating the results:"
   ]
  },
  {
   "cell_type": "markdown",
   "metadata": {},
   "source": [
    "### Paginate the results\n",
    "\n",
    "Before loading coevolution matrices, it is recommended to paginate the results, as the matrices can take up a lot of memory."
   ]
  },
  {
   "cell_type": "code",
   "execution_count": 13,
   "metadata": {
    "ExecuteTime": {
     "end_time": "2023-07-27T17:09:50.757400Z",
     "start_time": "2023-07-27T17:09:40.694026Z"
    },
    "collapsed": false,
    "jupyter": {
     "outputs_hidden": false
    }
   },
   "outputs": [
    {
     "name": "stdout",
     "output_type": "stream",
     "text": [
      "Found 280391 entries with length >= 200\n",
      "Found 100 entries on page 1\n"
     ]
    }
   ],
   "source": [
    "entries_data_frame = obj_pycom.find(min_length=200)\n",
    "print(f'Found {len(entries_data_frame)} entries with length >= 200')\n",
    "\n",
    "page = obj_pycom.paginate(entries_data_frame, page=1, per_page=100)  # get first n entries (default 100)\n",
    "print(f'Found {len(page)} entries on page 1')"
   ]
  },
  {
   "cell_type": "markdown",
   "metadata": {},
   "source": [
    "### Load coevolution matrices\n",
    "\n",
    "Now the coevolution matrices can be loaded for the paginated results.\n",
    "\n",
    "This loads them into the `matrix` column of the dataframe."
   ]
  },
  {
   "cell_type": "code",
   "execution_count": 14,
   "metadata": {
    "ExecuteTime": {
     "end_time": "2023-07-27T17:10:24.136598Z",
     "start_time": "2023-07-27T17:10:11.777570Z"
    },
    "collapsed": false,
    "jupyter": {
     "outputs_hidden": false
    }
   },
   "outputs": [
    {
     "data": {
      "text/plain": [
       "array([[0.        , 0.1006002 , 0.09838662, ..., 0.0467115 , 0.06828113,\n",
       "        0.08706232],\n",
       "       [0.10060021, 0.        , 0.10724315, ..., 0.04788237, 0.06594779,\n",
       "        0.08771347],\n",
       "       [0.09838659, 0.10724315, 0.        , ..., 0.04391594, 0.05695503,\n",
       "        0.08397543],\n",
       "       ...,\n",
       "       [0.04671153, 0.04788237, 0.04391595, ..., 0.        , 0.07415783,\n",
       "        0.06841787],\n",
       "       [0.06828113, 0.06594782, 0.05695501, ..., 0.07415782, 0.        ,\n",
       "        0.08349027],\n",
       "       [0.08706234, 0.08771349, 0.08397545, ..., 0.06841787, 0.08349026,\n",
       "        0.        ]])"
      ]
     },
     "execution_count": 14,
     "metadata": {},
     "output_type": "execute_result"
    }
   ],
   "source": [
    "obj_pycom.load_matrices(page)\n",
    "\n",
    "page.iloc[0].matrix  # show the coevolution matrix for the first entry"
   ]
  },
  {
   "cell_type": "markdown",
   "metadata": {},
   "source": [
    "By default, the matrices are loaded as a `numpy.ndarray`. Different formats can be specified.\n",
    "\n",
    "Here is an example of the matrices being loaded as Pandas DataFrames and 2d-lists:"
   ]
  },
  {
   "cell_type": "code",
   "execution_count": null,
   "metadata": {
    "collapsed": false,
    "jupyter": {
     "outputs_hidden": false
    }
   },
   "outputs": [],
   "source": [
    "from pycom import MatrixFormat\n",
    "\n",
    "resultsPandas = pyc.load_matrices(page, mat_format=MatrixFormat.PANDAS)\n",
    "resultsList = pyc.load_matrices(page, mat_format=MatrixFormat.LIST)\n",
    "\n",
    "print(f'Pandas: {type(resultsPandas.iloc[0].matrix)}')\n",
    "print(f'List: {type(resultsList.iloc[0].matrix)}')"
   ]
  },
  {
   "cell_type": "markdown",
   "metadata": {},
   "source": [
    "### Load additional information\n",
    "\n",
    "The list of cofactors, diseases, and organisms can loaded by calling:"
   ]
  },
  {
   "cell_type": "markdown",
   "metadata": {},
   "source": []
  },
  {
   "cell_type": "code",
   "execution_count": 17,
   "metadata": {
    "ExecuteTime": {
     "end_time": "2023-07-27T17:15:43.086844Z",
     "start_time": "2023-07-27T17:15:05.298653Z"
    }
   },
   "outputs": [
    {
     "data": {
      "text/html": [
       "<div>\n",
       "<style scoped>\n",
       "    .dataframe tbody tr th:only-of-type {\n",
       "        vertical-align: middle;\n",
       "    }\n",
       "\n",
       "    .dataframe tbody tr th {\n",
       "        vertical-align: top;\n",
       "    }\n",
       "\n",
       "    .dataframe thead th {\n",
       "        text-align: right;\n",
       "    }\n",
       "</style>\n",
       "<table border=\"1\" class=\"dataframe\">\n",
       "  <thead>\n",
       "    <tr style=\"text-align: right;\">\n",
       "      <th></th>\n",
       "      <th>organismId</th>\n",
       "      <th>nameScientific</th>\n",
       "      <th>nameCommon</th>\n",
       "      <th>taxonomy</th>\n",
       "    </tr>\n",
       "  </thead>\n",
       "  <tbody>\n",
       "    <tr>\n",
       "      <th>0</th>\n",
       "      <td>561445</td>\n",
       "      <td>African swine fever virus (isolate Pig/Kenya/K...</td>\n",
       "      <td>ASFV</td>\n",
       "      <td>:Viruses:Varidnaviria:Bamfordvirae:Nucleocytov...</td>\n",
       "    </tr>\n",
       "    <tr>\n",
       "      <th>1</th>\n",
       "      <td>10500</td>\n",
       "      <td>African swine fever virus (isolate Tick/Malawi...</td>\n",
       "      <td>ASFV</td>\n",
       "      <td>:Viruses:Varidnaviria:Bamfordvirae:Nucleocytov...</td>\n",
       "    </tr>\n",
       "    <tr>\n",
       "      <th>2</th>\n",
       "      <td>561443</td>\n",
       "      <td>African swine fever virus (isolate Tick/South ...</td>\n",
       "      <td>ASFV</td>\n",
       "      <td>:Viruses:Varidnaviria:Bamfordvirae:Nucleocytov...</td>\n",
       "    </tr>\n",
       "    <tr>\n",
       "      <th>3</th>\n",
       "      <td>561444</td>\n",
       "      <td>African swine fever virus (isolate Warthog/Nam...</td>\n",
       "      <td>ASFV</td>\n",
       "      <td>:Viruses:Varidnaviria:Bamfordvirae:Nucleocytov...</td>\n",
       "    </tr>\n",
       "    <tr>\n",
       "      <th>4</th>\n",
       "      <td>10498</td>\n",
       "      <td>African swine fever virus (strain Badajoz 1971...</td>\n",
       "      <td>Ba71V</td>\n",
       "      <td>:Viruses:Varidnaviria:Bamfordvirae:Nucleocytov...</td>\n",
       "    </tr>\n",
       "    <tr>\n",
       "      <th>...</th>\n",
       "      <td>...</td>\n",
       "      <td>...</td>\n",
       "      <td>...</td>\n",
       "      <td>...</td>\n",
       "    </tr>\n",
       "    <tr>\n",
       "      <th>14316</th>\n",
       "      <td>31581</td>\n",
       "      <td>Rotavirus A (isolate RVA/Pig/Australia/TFR-41/...</td>\n",
       "      <td>RV-A</td>\n",
       "      <td>:Viruses:Riboviria:Orthornavirae:Duplornaviric...</td>\n",
       "    </tr>\n",
       "    <tr>\n",
       "      <th>14317</th>\n",
       "      <td>31579</td>\n",
       "      <td>Rotavirus A (isolate RVA/Pig/Australia/BEN144/...</td>\n",
       "      <td>RV-A</td>\n",
       "      <td>:Viruses:Riboviria:Orthornavirae:Duplornaviric...</td>\n",
       "    </tr>\n",
       "    <tr>\n",
       "      <th>14318</th>\n",
       "      <td>10918</td>\n",
       "      <td>Rotavirus A (strain RVA/Pig/Russia/K/1987)</td>\n",
       "      <td>RV-A</td>\n",
       "      <td>:Viruses:Riboviria:Orthornavirae:Duplornaviric...</td>\n",
       "    </tr>\n",
       "    <tr>\n",
       "      <th>14319</th>\n",
       "      <td>31580</td>\n",
       "      <td>Rotavirus A (isolate RVA/Pig/Australia/BMI-1/1...</td>\n",
       "      <td>RV-A</td>\n",
       "      <td>:Viruses:Riboviria:Orthornavirae:Duplornaviric...</td>\n",
       "    </tr>\n",
       "    <tr>\n",
       "      <th>14320</th>\n",
       "      <td>47664</td>\n",
       "      <td>Populus tremula x Populus tremuloides</td>\n",
       "      <td>Hybrid aspen</td>\n",
       "      <td>:Eukaryota:Viridiplantae:Streptophyta:Embryoph...</td>\n",
       "    </tr>\n",
       "  </tbody>\n",
       "</table>\n",
       "<p>14321 rows × 4 columns</p>\n",
       "</div>"
      ],
      "text/plain": [
       "      organismId                                     nameScientific  \\\n",
       "0         561445  African swine fever virus (isolate Pig/Kenya/K...   \n",
       "1          10500  African swine fever virus (isolate Tick/Malawi...   \n",
       "2         561443  African swine fever virus (isolate Tick/South ...   \n",
       "3         561444  African swine fever virus (isolate Warthog/Nam...   \n",
       "4          10498  African swine fever virus (strain Badajoz 1971...   \n",
       "...          ...                                                ...   \n",
       "14316      31581  Rotavirus A (isolate RVA/Pig/Australia/TFR-41/...   \n",
       "14317      31579  Rotavirus A (isolate RVA/Pig/Australia/BEN144/...   \n",
       "14318      10918         Rotavirus A (strain RVA/Pig/Russia/K/1987)   \n",
       "14319      31580  Rotavirus A (isolate RVA/Pig/Australia/BMI-1/1...   \n",
       "14320      47664              Populus tremula x Populus tremuloides   \n",
       "\n",
       "         nameCommon                                           taxonomy  \n",
       "0              ASFV  :Viruses:Varidnaviria:Bamfordvirae:Nucleocytov...  \n",
       "1              ASFV  :Viruses:Varidnaviria:Bamfordvirae:Nucleocytov...  \n",
       "2              ASFV  :Viruses:Varidnaviria:Bamfordvirae:Nucleocytov...  \n",
       "3              ASFV  :Viruses:Varidnaviria:Bamfordvirae:Nucleocytov...  \n",
       "4             Ba71V  :Viruses:Varidnaviria:Bamfordvirae:Nucleocytov...  \n",
       "...             ...                                                ...  \n",
       "14316          RV-A  :Viruses:Riboviria:Orthornavirae:Duplornaviric...  \n",
       "14317          RV-A  :Viruses:Riboviria:Orthornavirae:Duplornaviric...  \n",
       "14318          RV-A  :Viruses:Riboviria:Orthornavirae:Duplornaviric...  \n",
       "14319          RV-A  :Viruses:Riboviria:Orthornavirae:Duplornaviric...  \n",
       "14320  Hybrid aspen  :Eukaryota:Viridiplantae:Streptophyta:Embryoph...  \n",
       "\n",
       "[14321 rows x 4 columns]"
      ]
     },
     "execution_count": 17,
     "metadata": {},
     "output_type": "execute_result"
    }
   ],
   "source": [
    "entries_data_frame = obj_pycom.find(max_length=200)\n",
    "cofactors = obj_pycom.get_cofactor_list()\n",
    "diseases = obj_pycom.get_disease_list()\n",
    "organisms = obj_pycom.get_organism_list()\n",
    "organisms"
   ]
  },
  {
   "cell_type": "markdown",
   "metadata": {},
   "source": [
    "Congratulations on completing this tutorial. If you wish to now learn the basics of how to analyse the coevolution matricies please refer to 02_Analysis.ipynb."
   ]
  }
 ],
 "metadata": {
  "kernelspec": {
   "display_name": "Python 3-conda (ipykernel)",
   "language": "python",
   "name": "python3"
  },
  "language_info": {
   "codemirror_mode": {
    "name": "ipython",
    "version": 3
   },
   "file_extension": ".py",
   "mimetype": "text/x-python",
   "name": "python",
   "nbconvert_exporter": "python",
   "pygments_lexer": "ipython3",
   "version": "3.9.12"
  }
 },
 "nbformat": 4,
 "nbformat_minor": 4
}
