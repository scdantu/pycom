{
 "cells": [
  {
   "cell_type": "markdown",
   "id": "f3a4f5ad-d96d-4db0-a765-ff0099fd4600",
   "metadata": {},
   "source": [
    "# Tutorial 2: Use cases\n",
    "\n",
    "Here are some more examples on how you can query the PyCoMdb using either a keyword or combination of keywords, followed by one example of how to interpret coevolution matrix data.\n",
    "\n",
    "Query by:\n",
    "\n",
    "1. [UniProtID](#uniprotid)\n",
    "2. [Sequence](#sequence)\n",
    "3. [EC/CATH](#ec-and-cath)\n",
    "4. [Disease](#disease)\n",
    "4. [Multiple Keywords](#multiple-keywords)\n",
    "5. [Interpreting coevolution matrix](#interpreting-coevolution-matrix)"
   ]
  },
  {
   "cell_type": "markdown",
   "id": "452c02dd",
   "metadata": {},
   "source": [
    "Import all the essential PyCoM classes..."
   ]
  },
  {
   "cell_type": "code",
   "execution_count": 1,
   "id": "6e6f8b9f-6a1d-4950-808d-84493c7b9ffd",
   "metadata": {
    "ExecuteTime": {
     "end_time": "2024-02-06T12:11:53.819787Z",
     "start_time": "2024-02-06T12:11:53.106266Z"
    }
   },
   "outputs": [],
   "source": [
    "from pycom import PyCom, ProteinParams,CoMAnalysis\n",
    "import matplotlib.pyplot as plt"
   ]
  },
  {
   "cell_type": "markdown",
   "id": "ca267c4c",
   "metadata": {},
   "source": [
    "Setup the paths to the local database files if you are using PyCoM (local) i.e. with PyCoMdb on your computer."
   ]
  },
  {
   "cell_type": "code",
   "execution_count": null,
   "id": "01334d01-d5c3-45c8-8348-ebb46a22e61c",
   "metadata": {
    "ExecuteTime": {
     "end_time": "2024-02-06T12:11:53.832676Z",
     "start_time": "2024-02-06T12:11:53.820297Z"
    }
   },
   "outputs": [],
   "source": [
    "# Set the paths to the Database files\n",
    "# obj_pycom = PyCom(db_path='~/pycom.db', mat_path='/Volumes/SuperSpeedBoi/pycom.mat')"
   ]
  },
  {
   "cell_type": "markdown",
   "id": "4e6091e3",
   "metadata": {},
   "source": [
    "or you can use PyCoM with the remote version of PyCoMdb, uncomment or comment the code as per the right scenario."
   ]
  },
  {
   "cell_type": "code",
   "execution_count": 2,
   "id": "aa3340c0-cbe6-4748-806f-0f7edc5b2b90",
   "metadata": {
    "ExecuteTime": {
     "end_time": "2024-02-06T12:11:53.833188Z",
     "start_time": "2024-02-06T12:11:53.821718Z"
    }
   },
   "outputs": [],
   "source": [
    "obj_pycom = PyCom(remote=True)"
   ]
  },
  {
   "cell_type": "markdown",
   "id": "fd819741-7fb9-4ba0-ae39-47fbf8c5d777",
   "metadata": {},
   "source": [
    "### UniProtID\n",
    "\n",
    "Using the UniProtID"
   ]
  },
  {
   "cell_type": "code",
   "execution_count": 3,
   "id": "3de90948-0d04-440c-9e70-8da35421e449",
   "metadata": {
    "ExecuteTime": {
     "end_time": "2024-02-06T12:11:53.874363Z",
     "start_time": "2024-02-06T12:11:53.823929Z"
    }
   },
   "outputs": [
    {
     "data": {
      "text/html": [
       "<div>\n",
       "<style scoped>\n",
       "    .dataframe tbody tr th:only-of-type {\n",
       "        vertical-align: middle;\n",
       "    }\n",
       "\n",
       "    .dataframe tbody tr th {\n",
       "        vertical-align: top;\n",
       "    }\n",
       "\n",
       "    .dataframe thead th {\n",
       "        text-align: right;\n",
       "    }\n",
       "</style>\n",
       "<table border=\"1\" class=\"dataframe\">\n",
       "  <thead>\n",
       "    <tr style=\"text-align: right;\">\n",
       "      <th></th>\n",
       "      <th>uniprot_id</th>\n",
       "      <th>neff</th>\n",
       "      <th>sequence_length</th>\n",
       "      <th>sequence</th>\n",
       "      <th>organism_id</th>\n",
       "      <th>helix_frac</th>\n",
       "      <th>turn_frac</th>\n",
       "      <th>strand_frac</th>\n",
       "      <th>has_ptm</th>\n",
       "      <th>has_pdb</th>\n",
       "      <th>has_substrate</th>\n",
       "    </tr>\n",
       "  </thead>\n",
       "  <tbody>\n",
       "    <tr>\n",
       "      <th>0</th>\n",
       "      <td>Q65209</td>\n",
       "      <td>6.062</td>\n",
       "      <td>141</td>\n",
       "      <td>MGNKESKYLEMCSEEAWLNIPNIFKCIFIRKLFYNKWLKYQEKKLK...</td>\n",
       "      <td>10498</td>\n",
       "      <td>0.0</td>\n",
       "      <td>0.0</td>\n",
       "      <td>0.0</td>\n",
       "      <td>0</td>\n",
       "      <td>0</td>\n",
       "      <td>0</td>\n",
       "    </tr>\n",
       "  </tbody>\n",
       "</table>\n",
       "</div>"
      ],
      "text/plain": [
       "  uniprot_id   neff  sequence_length  \\\n",
       "0     Q65209  6.062              141   \n",
       "\n",
       "                                            sequence organism_id  helix_frac  \\\n",
       "0  MGNKESKYLEMCSEEAWLNIPNIFKCIFIRKLFYNKWLKYQEKKLK...       10498         0.0   \n",
       "\n",
       "   turn_frac  strand_frac  has_ptm  has_pdb  has_substrate  \n",
       "0        0.0          0.0        0        0              0  "
      ]
     },
     "execution_count": 3,
     "metadata": {},
     "output_type": "execute_result"
    }
   ],
   "source": [
    "query_parameters={ProteinParams.ID:\"Q65209\"}\n",
    "# use for remote mode\n",
    "entries_data_frame=obj_pycom.find(query_parameters,page=1)\n",
    "# entries_data_frame=obj_pycom.find(query_parameters)\n",
    "entries_data_frame"
   ]
  },
  {
   "cell_type": "markdown",
   "id": "8e1dd40a-ca28-47a5-b57c-c1e9560a38ab",
   "metadata": {},
   "source": [
    "### Sequence\n",
    "\n",
    "Using the **complete** protein sequence, *using partial protein sequence will not yield any or incorrect result.*"
   ]
  },
  {
   "cell_type": "code",
   "execution_count": 4,
   "id": "c9b3aba9-4e24-4152-92ea-010b5e9c1856",
   "metadata": {
    "ExecuteTime": {
     "end_time": "2024-02-06T12:11:54.543741Z",
     "start_time": "2024-02-06T12:11:53.873060Z"
    }
   },
   "outputs": [
    {
     "data": {
      "text/html": [
       "<div>\n",
       "<style scoped>\n",
       "    .dataframe tbody tr th:only-of-type {\n",
       "        vertical-align: middle;\n",
       "    }\n",
       "\n",
       "    .dataframe tbody tr th {\n",
       "        vertical-align: top;\n",
       "    }\n",
       "\n",
       "    .dataframe thead th {\n",
       "        text-align: right;\n",
       "    }\n",
       "</style>\n",
       "<table border=\"1\" class=\"dataframe\">\n",
       "  <thead>\n",
       "    <tr style=\"text-align: right;\">\n",
       "      <th></th>\n",
       "    </tr>\n",
       "  </thead>\n",
       "  <tbody>\n",
       "  </tbody>\n",
       "</table>\n",
       "</div>"
      ],
      "text/plain": [
       "Empty DataFrame\n",
       "Columns: []\n",
       "Index: []"
      ]
     },
     "execution_count": 4,
     "metadata": {},
     "output_type": "execute_result"
    }
   ],
   "source": [
    "entries_data_frame=obj_pycom.find({\n",
    "   ProteinParams.SEQUENCE:\"MGNKESKYLEMCSEEAWLNIPNIFKCIFIRKLFYNKWLKYQEKKLK\"\n",
    "}, page=1)\n",
    "\n",
    "entries_data_frame"
   ]
  },
  {
   "cell_type": "markdown",
   "id": "3c1c8cf4-5019-4d81-a556-7283e9f40ee9",
   "metadata": {},
   "source": [
    "### EC and CATH\n",
    "\n",
    "Using a combination of Enzyme Commission number and CATH ID. "
   ]
  },
  {
   "cell_type": "code",
   "execution_count": 5,
   "id": "eccc8c62-d70a-434b-b371-dde0ab5f507d",
   "metadata": {
    "ExecuteTime": {
     "end_time": "2024-02-06T12:11:54.750314Z",
     "start_time": "2024-02-06T12:11:53.903188Z"
    }
   },
   "outputs": [
    {
     "data": {
      "text/html": [
       "<div>\n",
       "<style scoped>\n",
       "    .dataframe tbody tr th:only-of-type {\n",
       "        vertical-align: middle;\n",
       "    }\n",
       "\n",
       "    .dataframe tbody tr th {\n",
       "        vertical-align: top;\n",
       "    }\n",
       "\n",
       "    .dataframe thead th {\n",
       "        text-align: right;\n",
       "    }\n",
       "</style>\n",
       "<table border=\"1\" class=\"dataframe\">\n",
       "  <thead>\n",
       "    <tr style=\"text-align: right;\">\n",
       "      <th></th>\n",
       "      <th>uniprot_id</th>\n",
       "      <th>neff</th>\n",
       "      <th>sequence_length</th>\n",
       "      <th>sequence</th>\n",
       "      <th>organism_id</th>\n",
       "      <th>helix_frac</th>\n",
       "      <th>turn_frac</th>\n",
       "      <th>strand_frac</th>\n",
       "      <th>has_ptm</th>\n",
       "      <th>has_pdb</th>\n",
       "      <th>has_substrate</th>\n",
       "    </tr>\n",
       "  </thead>\n",
       "  <tbody>\n",
       "    <tr>\n",
       "      <th>0</th>\n",
       "      <td>A0A0S2UQQ5</td>\n",
       "      <td>8.393</td>\n",
       "      <td>380</td>\n",
       "      <td>MNITGKGAYDTGTYANLFQRSGYREDEIKARLEQTWNDLFYGDEHT...</td>\n",
       "      <td>198119</td>\n",
       "      <td>0.505263</td>\n",
       "      <td>0.052632</td>\n",
       "      <td>0.131579</td>\n",
       "      <td>0</td>\n",
       "      <td>1</td>\n",
       "      <td>1</td>\n",
       "    </tr>\n",
       "    <tr>\n",
       "      <th>1</th>\n",
       "      <td>A0A168WVR6</td>\n",
       "      <td>8.987</td>\n",
       "      <td>382</td>\n",
       "      <td>MDESNLLQGISMIDLRSPDAILSDYAKRYAHLLPELSPQLQQRMAY...</td>\n",
       "      <td>1081940</td>\n",
       "      <td>0.000000</td>\n",
       "      <td>0.000000</td>\n",
       "      <td>0.000000</td>\n",
       "      <td>0</td>\n",
       "      <td>0</td>\n",
       "      <td>1</td>\n",
       "    </tr>\n",
       "    <tr>\n",
       "      <th>2</th>\n",
       "      <td>A0R567</td>\n",
       "      <td>8.089</td>\n",
       "      <td>293</td>\n",
       "      <td>MSISPVELLSWYDHARRDLPWRRPGVSAWQILVSEFMLQQTPVSRV...</td>\n",
       "      <td>246196</td>\n",
       "      <td>0.000000</td>\n",
       "      <td>0.000000</td>\n",
       "      <td>0.000000</td>\n",
       "      <td>0</td>\n",
       "      <td>0</td>\n",
       "      <td>1</td>\n",
       "    </tr>\n",
       "    <tr>\n",
       "      <th>3</th>\n",
       "      <td>A1A048</td>\n",
       "      <td>8.357</td>\n",
       "      <td>379</td>\n",
       "      <td>MTNATDTNKTLGESMFAQCGYAQDAIDKRVSQVWHEIFEGPNKFYW...</td>\n",
       "      <td>367928</td>\n",
       "      <td>0.000000</td>\n",
       "      <td>0.000000</td>\n",
       "      <td>0.000000</td>\n",
       "      <td>0</td>\n",
       "      <td>0</td>\n",
       "      <td>1</td>\n",
       "    </tr>\n",
       "    <tr>\n",
       "      <th>4</th>\n",
       "      <td>A1D1W1</td>\n",
       "      <td>7.956</td>\n",
       "      <td>493</td>\n",
       "      <td>MHLPSLSVALALVSSSLALPQTVLPESDVSSHAAAVKEAFSHAWDG...</td>\n",
       "      <td>331117</td>\n",
       "      <td>0.000000</td>\n",
       "      <td>0.000000</td>\n",
       "      <td>0.000000</td>\n",
       "      <td>0</td>\n",
       "      <td>0</td>\n",
       "      <td>1</td>\n",
       "    </tr>\n",
       "    <tr>\n",
       "      <th>5</th>\n",
       "      <td>A3DBX3</td>\n",
       "      <td>10.164</td>\n",
       "      <td>334</td>\n",
       "      <td>MKNRVISLLMASLLLVLSVIVAPFYKAEAATVVNTPFVAVFSNFDS...</td>\n",
       "      <td>203119</td>\n",
       "      <td>0.038922</td>\n",
       "      <td>0.008982</td>\n",
       "      <td>0.365269</td>\n",
       "      <td>0</td>\n",
       "      <td>1</td>\n",
       "      <td>1</td>\n",
       "    </tr>\n",
       "    <tr>\n",
       "      <th>6</th>\n",
       "      <td>A3DC29</td>\n",
       "      <td>8.316</td>\n",
       "      <td>477</td>\n",
       "      <td>MKNVKKRVGVVLLILAVLGVYMLAMPANTVSAAGVPFNTKYPYGPT...</td>\n",
       "      <td>203119</td>\n",
       "      <td>0.379455</td>\n",
       "      <td>0.031447</td>\n",
       "      <td>0.058700</td>\n",
       "      <td>0</td>\n",
       "      <td>1</td>\n",
       "      <td>1</td>\n",
       "    </tr>\n",
       "    <tr>\n",
       "      <th>7</th>\n",
       "      <td>A7M7B9</td>\n",
       "      <td>8.207</td>\n",
       "      <td>281</td>\n",
       "      <td>MCAAAPRGGGRAARRLGAATAGSRVPSAAPRYSRRTRRVPIAYEAE...</td>\n",
       "      <td>9031</td>\n",
       "      <td>0.000000</td>\n",
       "      <td>0.000000</td>\n",
       "      <td>0.000000</td>\n",
       "      <td>0</td>\n",
       "      <td>0</td>\n",
       "      <td>1</td>\n",
       "    </tr>\n",
       "    <tr>\n",
       "      <th>8</th>\n",
       "      <td>A8GG79</td>\n",
       "      <td>9.140</td>\n",
       "      <td>366</td>\n",
       "      <td>MIDLREDTWTLQLYAQRYKGLSPKNSRELQLRMEYDPLKPNLPTSG...</td>\n",
       "      <td>399741</td>\n",
       "      <td>0.571038</td>\n",
       "      <td>0.035519</td>\n",
       "      <td>0.027322</td>\n",
       "      <td>0</td>\n",
       "      <td>1</td>\n",
       "      <td>1</td>\n",
       "    </tr>\n",
       "    <tr>\n",
       "      <th>9</th>\n",
       "      <td>B0KTG8</td>\n",
       "      <td>9.132</td>\n",
       "      <td>371</td>\n",
       "      <td>MIDLRSPNALLSDYVERYAHLSPEPSRQLQQRMDYNVRADAPAEPA...</td>\n",
       "      <td>76869</td>\n",
       "      <td>0.000000</td>\n",
       "      <td>0.000000</td>\n",
       "      <td>0.000000</td>\n",
       "      <td>0</td>\n",
       "      <td>0</td>\n",
       "      <td>1</td>\n",
       "    </tr>\n",
       "  </tbody>\n",
       "</table>\n",
       "</div>"
      ],
      "text/plain": [
       "   uniprot_id    neff  sequence_length  \\\n",
       "0  A0A0S2UQQ5   8.393              380   \n",
       "1  A0A168WVR6   8.987              382   \n",
       "2      A0R567   8.089              293   \n",
       "3      A1A048   8.357              379   \n",
       "4      A1D1W1   7.956              493   \n",
       "5      A3DBX3  10.164              334   \n",
       "6      A3DC29   8.316              477   \n",
       "7      A7M7B9   8.207              281   \n",
       "8      A8GG79   9.140              366   \n",
       "9      B0KTG8   9.132              371   \n",
       "\n",
       "                                            sequence organism_id  helix_frac  \\\n",
       "0  MNITGKGAYDTGTYANLFQRSGYREDEIKARLEQTWNDLFYGDEHT...      198119    0.505263   \n",
       "1  MDESNLLQGISMIDLRSPDAILSDYAKRYAHLLPELSPQLQQRMAY...     1081940    0.000000   \n",
       "2  MSISPVELLSWYDHARRDLPWRRPGVSAWQILVSEFMLQQTPVSRV...      246196    0.000000   \n",
       "3  MTNATDTNKTLGESMFAQCGYAQDAIDKRVSQVWHEIFEGPNKFYW...      367928    0.000000   \n",
       "4  MHLPSLSVALALVSSSLALPQTVLPESDVSSHAAAVKEAFSHAWDG...      331117    0.000000   \n",
       "5  MKNRVISLLMASLLLVLSVIVAPFYKAEAATVVNTPFVAVFSNFDS...      203119    0.038922   \n",
       "6  MKNVKKRVGVVLLILAVLGVYMLAMPANTVSAAGVPFNTKYPYGPT...      203119    0.379455   \n",
       "7  MCAAAPRGGGRAARRLGAATAGSRVPSAAPRYSRRTRRVPIAYEAE...        9031    0.000000   \n",
       "8  MIDLREDTWTLQLYAQRYKGLSPKNSRELQLRMEYDPLKPNLPTSG...      399741    0.571038   \n",
       "9  MIDLRSPNALLSDYVERYAHLSPEPSRQLQQRMDYNVRADAPAEPA...       76869    0.000000   \n",
       "\n",
       "   turn_frac  strand_frac  has_ptm  has_pdb  has_substrate  \n",
       "0   0.052632     0.131579        0        1              1  \n",
       "1   0.000000     0.000000        0        0              1  \n",
       "2   0.000000     0.000000        0        0              1  \n",
       "3   0.000000     0.000000        0        0              1  \n",
       "4   0.000000     0.000000        0        0              1  \n",
       "5   0.008982     0.365269        0        1              1  \n",
       "6   0.031447     0.058700        0        1              1  \n",
       "7   0.000000     0.000000        0        0              1  \n",
       "8   0.035519     0.027322        0        1              1  \n",
       "9   0.000000     0.000000        0        0              1  "
      ]
     },
     "execution_count": 5,
     "metadata": {},
     "output_type": "execute_result"
    }
   ],
   "source": [
    "entries_data_frame=obj_pycom.find({\n",
    "   ProteinParams.CATH:\"1.*\",\n",
    "   ProteinParams.ENZYME:\"3.2.*\"\n",
    "}, page=1)\n",
    "\n",
    "entries_data_frame"
   ]
  },
  {
   "cell_type": "markdown",
   "id": "cff7bdff",
   "metadata": {},
   "source": [
    "We have found 153 proteins that match our search criteria i.e., proteins from CATH class `1.*` and EC class `3.2.*`."
   ]
  },
  {
   "cell_type": "markdown",
   "id": "7252b0fa-cc7b-482c-81fe-d74a37b16bf7",
   "metadata": {},
   "source": [
    "### Disease\n",
    "\n",
    "Getting proteins linked to a particular disease."
   ]
  },
  {
   "cell_type": "code",
   "execution_count": 6,
   "id": "d95e1d98-d272-4bf7-8258-0f7f899c94df",
   "metadata": {
    "ExecuteTime": {
     "end_time": "2024-02-06T12:11:54.794093Z",
     "start_time": "2024-02-06T12:11:54.747408Z"
    }
   },
   "outputs": [
    {
     "data": {
      "text/html": [
       "<div>\n",
       "<style scoped>\n",
       "    .dataframe tbody tr th:only-of-type {\n",
       "        vertical-align: middle;\n",
       "    }\n",
       "\n",
       "    .dataframe tbody tr th {\n",
       "        vertical-align: top;\n",
       "    }\n",
       "\n",
       "    .dataframe thead th {\n",
       "        text-align: right;\n",
       "    }\n",
       "</style>\n",
       "<table border=\"1\" class=\"dataframe\">\n",
       "  <thead>\n",
       "    <tr style=\"text-align: right;\">\n",
       "      <th></th>\n",
       "      <th>uniprot_id</th>\n",
       "      <th>neff</th>\n",
       "      <th>sequence_length</th>\n",
       "      <th>sequence</th>\n",
       "      <th>organism_id</th>\n",
       "      <th>helix_frac</th>\n",
       "      <th>turn_frac</th>\n",
       "      <th>strand_frac</th>\n",
       "      <th>has_ptm</th>\n",
       "      <th>has_pdb</th>\n",
       "      <th>has_substrate</th>\n",
       "    </tr>\n",
       "  </thead>\n",
       "  <tbody>\n",
       "    <tr>\n",
       "      <th>0</th>\n",
       "      <td>O00358</td>\n",
       "      <td>5.065</td>\n",
       "      <td>373</td>\n",
       "      <td>MTAESGPPPPQPEVLATVKEERGETAAGAGVPGEATGRGAGGRRRK...</td>\n",
       "      <td>9606</td>\n",
       "      <td>0.000000</td>\n",
       "      <td>0.000000</td>\n",
       "      <td>0.000000</td>\n",
       "      <td>1</td>\n",
       "      <td>0</td>\n",
       "      <td>0</td>\n",
       "    </tr>\n",
       "    <tr>\n",
       "      <th>1</th>\n",
       "      <td>O15105</td>\n",
       "      <td>6.671</td>\n",
       "      <td>426</td>\n",
       "      <td>MFRTKRSALVRRLWRSRAPGGEDEEEGAGGGGGGGELRGEGATDSR...</td>\n",
       "      <td>9606</td>\n",
       "      <td>0.000000</td>\n",
       "      <td>0.000000</td>\n",
       "      <td>0.014085</td>\n",
       "      <td>1</td>\n",
       "      <td>1</td>\n",
       "      <td>0</td>\n",
       "    </tr>\n",
       "    <tr>\n",
       "      <th>2</th>\n",
       "      <td>O43502</td>\n",
       "      <td>9.997</td>\n",
       "      <td>376</td>\n",
       "      <td>MRGKTFRFEMQRDLVSFPLSPAVRVKLVSAGFQTAEELLEVKPSEL...</td>\n",
       "      <td>9606</td>\n",
       "      <td>0.000000</td>\n",
       "      <td>0.000000</td>\n",
       "      <td>0.000000</td>\n",
       "      <td>0</td>\n",
       "      <td>0</td>\n",
       "      <td>0</td>\n",
       "    </tr>\n",
       "    <tr>\n",
       "      <th>3</th>\n",
       "      <td>O43542</td>\n",
       "      <td>10.237</td>\n",
       "      <td>346</td>\n",
       "      <td>MDLDLLDLNPRIIAAIKKAKLKSVKEVLHFSGPDLKRLTNLSSPEV...</td>\n",
       "      <td>9606</td>\n",
       "      <td>0.000000</td>\n",
       "      <td>0.000000</td>\n",
       "      <td>0.000000</td>\n",
       "      <td>0</td>\n",
       "      <td>0</td>\n",
       "      <td>0</td>\n",
       "    </tr>\n",
       "    <tr>\n",
       "      <th>4</th>\n",
       "      <td>O75771</td>\n",
       "      <td>10.597</td>\n",
       "      <td>328</td>\n",
       "      <td>MGVLRVGLCPGLTEEMIQLLRSHRIKTVVDLVSADLEEVAQKCGLS...</td>\n",
       "      <td>9606</td>\n",
       "      <td>0.109756</td>\n",
       "      <td>0.000000</td>\n",
       "      <td>0.000000</td>\n",
       "      <td>0</td>\n",
       "      <td>1</td>\n",
       "      <td>0</td>\n",
       "    </tr>\n",
       "    <tr>\n",
       "      <th>5</th>\n",
       "      <td>P01111</td>\n",
       "      <td>12.817</td>\n",
       "      <td>189</td>\n",
       "      <td>MTEYKLVVVGAGGVGKSALTIQLIQNHFVDEYDPTIEDSYRKQVVI...</td>\n",
       "      <td>9606</td>\n",
       "      <td>0.349206</td>\n",
       "      <td>0.015873</td>\n",
       "      <td>0.227513</td>\n",
       "      <td>1</td>\n",
       "      <td>1</td>\n",
       "      <td>1</td>\n",
       "    </tr>\n",
       "    <tr>\n",
       "      <th>6</th>\n",
       "      <td>P01112</td>\n",
       "      <td>12.841</td>\n",
       "      <td>189</td>\n",
       "      <td>MTEYKLVVVGAGGVGKSALTIQLIQNHFVDEYDPTIEDSYRKQVVI...</td>\n",
       "      <td>9606</td>\n",
       "      <td>0.317460</td>\n",
       "      <td>0.031746</td>\n",
       "      <td>0.359788</td>\n",
       "      <td>1</td>\n",
       "      <td>1</td>\n",
       "      <td>1</td>\n",
       "    </tr>\n",
       "    <tr>\n",
       "      <th>7</th>\n",
       "      <td>P01116</td>\n",
       "      <td>12.626</td>\n",
       "      <td>189</td>\n",
       "      <td>MTEYKLVVVGAGGVGKSALTIQLIQNHFVDEYDPTIEDSYRKQVVI...</td>\n",
       "      <td>9606</td>\n",
       "      <td>0.375661</td>\n",
       "      <td>0.031746</td>\n",
       "      <td>0.328042</td>\n",
       "      <td>1</td>\n",
       "      <td>1</td>\n",
       "      <td>1</td>\n",
       "    </tr>\n",
       "    <tr>\n",
       "      <th>8</th>\n",
       "      <td>P04637</td>\n",
       "      <td>5.749</td>\n",
       "      <td>393</td>\n",
       "      <td>MEEPQSDPSVEPPLSQETFSDLWKLLPENNVLSPLPSQAMDDLMLS...</td>\n",
       "      <td>9606</td>\n",
       "      <td>0.206107</td>\n",
       "      <td>0.066158</td>\n",
       "      <td>0.262087</td>\n",
       "      <td>1</td>\n",
       "      <td>1</td>\n",
       "      <td>0</td>\n",
       "    </tr>\n",
       "    <tr>\n",
       "      <th>9</th>\n",
       "      <td>P08118</td>\n",
       "      <td>7.621</td>\n",
       "      <td>114</td>\n",
       "      <td>MNVLLGSVVIFATFVTLCNASCYFIPNEGVPGDSTRKCMDLKGNKH...</td>\n",
       "      <td>9606</td>\n",
       "      <td>0.026316</td>\n",
       "      <td>0.026316</td>\n",
       "      <td>0.421053</td>\n",
       "      <td>0</td>\n",
       "      <td>1</td>\n",
       "      <td>0</td>\n",
       "    </tr>\n",
       "  </tbody>\n",
       "</table>\n",
       "</div>"
      ],
      "text/plain": [
       "  uniprot_id    neff  sequence_length  \\\n",
       "0     O00358   5.065              373   \n",
       "1     O15105   6.671              426   \n",
       "2     O43502   9.997              376   \n",
       "3     O43542  10.237              346   \n",
       "4     O75771  10.597              328   \n",
       "5     P01111  12.817              189   \n",
       "6     P01112  12.841              189   \n",
       "7     P01116  12.626              189   \n",
       "8     P04637   5.749              393   \n",
       "9     P08118   7.621              114   \n",
       "\n",
       "                                            sequence organism_id  helix_frac  \\\n",
       "0  MTAESGPPPPQPEVLATVKEERGETAAGAGVPGEATGRGAGGRRRK...        9606    0.000000   \n",
       "1  MFRTKRSALVRRLWRSRAPGGEDEEEGAGGGGGGGELRGEGATDSR...        9606    0.000000   \n",
       "2  MRGKTFRFEMQRDLVSFPLSPAVRVKLVSAGFQTAEELLEVKPSEL...        9606    0.000000   \n",
       "3  MDLDLLDLNPRIIAAIKKAKLKSVKEVLHFSGPDLKRLTNLSSPEV...        9606    0.000000   \n",
       "4  MGVLRVGLCPGLTEEMIQLLRSHRIKTVVDLVSADLEEVAQKCGLS...        9606    0.109756   \n",
       "5  MTEYKLVVVGAGGVGKSALTIQLIQNHFVDEYDPTIEDSYRKQVVI...        9606    0.349206   \n",
       "6  MTEYKLVVVGAGGVGKSALTIQLIQNHFVDEYDPTIEDSYRKQVVI...        9606    0.317460   \n",
       "7  MTEYKLVVVGAGGVGKSALTIQLIQNHFVDEYDPTIEDSYRKQVVI...        9606    0.375661   \n",
       "8  MEEPQSDPSVEPPLSQETFSDLWKLLPENNVLSPLPSQAMDDLMLS...        9606    0.206107   \n",
       "9  MNVLLGSVVIFATFVTLCNASCYFIPNEGVPGDSTRKCMDLKGNKH...        9606    0.026316   \n",
       "\n",
       "   turn_frac  strand_frac  has_ptm  has_pdb  has_substrate  \n",
       "0   0.000000     0.000000        1        0              0  \n",
       "1   0.000000     0.014085        1        1              0  \n",
       "2   0.000000     0.000000        0        0              0  \n",
       "3   0.000000     0.000000        0        0              0  \n",
       "4   0.000000     0.000000        0        1              0  \n",
       "5   0.015873     0.227513        1        1              1  \n",
       "6   0.031746     0.359788        1        1              1  \n",
       "7   0.031746     0.328042        1        1              1  \n",
       "8   0.066158     0.262087        1        1              0  \n",
       "9   0.026316     0.421053        0        1              0  "
      ]
     },
     "execution_count": 6,
     "metadata": {},
     "output_type": "execute_result"
    }
   ],
   "source": [
    "entries_data_frame = obj_pycom.find({\n",
    "   ProteinParams.DISEASE:\"Cancer\"\n",
    "}, page=1)\n",
    "\n",
    "entries_data_frame"
   ]
  },
  {
   "cell_type": "markdown",
   "id": "9461f25b-8dd5-42dc-8b15-98fe3cc12eb4",
   "metadata": {},
   "source": [
    "That's 29 proteins with known association to cancer."
   ]
  },
  {
   "cell_type": "markdown",
   "id": "96c7cc4a",
   "metadata": {},
   "source": [
    "### Multiple Keywords"
   ]
  },
  {
   "cell_type": "code",
   "execution_count": 7,
   "id": "894189c9",
   "metadata": {
    "ExecuteTime": {
     "end_time": "2024-02-06T12:11:54.985992Z",
     "start_time": "2024-02-06T12:11:54.783504Z"
    }
   },
   "outputs": [
    {
     "data": {
      "text/html": [
       "<div>\n",
       "<style scoped>\n",
       "    .dataframe tbody tr th:only-of-type {\n",
       "        vertical-align: middle;\n",
       "    }\n",
       "\n",
       "    .dataframe tbody tr th {\n",
       "        vertical-align: top;\n",
       "    }\n",
       "\n",
       "    .dataframe thead th {\n",
       "        text-align: right;\n",
       "    }\n",
       "</style>\n",
       "<table border=\"1\" class=\"dataframe\">\n",
       "  <thead>\n",
       "    <tr style=\"text-align: right;\">\n",
       "      <th></th>\n",
       "      <th>uniprot_id</th>\n",
       "      <th>neff</th>\n",
       "      <th>sequence_length</th>\n",
       "      <th>sequence</th>\n",
       "      <th>organism_id</th>\n",
       "      <th>helix_frac</th>\n",
       "      <th>turn_frac</th>\n",
       "      <th>strand_frac</th>\n",
       "      <th>has_ptm</th>\n",
       "      <th>has_pdb</th>\n",
       "      <th>has_substrate</th>\n",
       "    </tr>\n",
       "  </thead>\n",
       "  <tbody>\n",
       "    <tr>\n",
       "      <th>0</th>\n",
       "      <td>O00358</td>\n",
       "      <td>5.065</td>\n",
       "      <td>373</td>\n",
       "      <td>MTAESGPPPPQPEVLATVKEERGETAAGAGVPGEATGRGAGGRRRK...</td>\n",
       "      <td>9606</td>\n",
       "      <td>0.0</td>\n",
       "      <td>0.0</td>\n",
       "      <td>0.0</td>\n",
       "      <td>1</td>\n",
       "      <td>0</td>\n",
       "      <td>0</td>\n",
       "    </tr>\n",
       "    <tr>\n",
       "      <th>1</th>\n",
       "      <td>P10914</td>\n",
       "      <td>5.137</td>\n",
       "      <td>325</td>\n",
       "      <td>MPITRMRMRPWLEMQINSNQIPGLIWINKEEMIFQIPWKHAAKHGW...</td>\n",
       "      <td>9606</td>\n",
       "      <td>0.0</td>\n",
       "      <td>0.0</td>\n",
       "      <td>0.0</td>\n",
       "      <td>1</td>\n",
       "      <td>0</td>\n",
       "      <td>0</td>\n",
       "    </tr>\n",
       "    <tr>\n",
       "      <th>2</th>\n",
       "      <td>Q96BI1</td>\n",
       "      <td>11.891</td>\n",
       "      <td>424</td>\n",
       "      <td>MQGARAPRDQGRSPGRMSALGRSSVILLTYVLAATELTCLFMQFSI...</td>\n",
       "      <td>9606</td>\n",
       "      <td>0.0</td>\n",
       "      <td>0.0</td>\n",
       "      <td>0.0</td>\n",
       "      <td>0</td>\n",
       "      <td>0</td>\n",
       "      <td>0</td>\n",
       "    </tr>\n",
       "  </tbody>\n",
       "</table>\n",
       "</div>"
      ],
      "text/plain": [
       "  uniprot_id    neff  sequence_length  \\\n",
       "0     O00358   5.065              373   \n",
       "1     P10914   5.137              325   \n",
       "2     Q96BI1  11.891              424   \n",
       "\n",
       "                                            sequence organism_id  helix_frac  \\\n",
       "0  MTAESGPPPPQPEVLATVKEERGETAAGAGVPGEATGRGAGGRRRK...        9606         0.0   \n",
       "1  MPITRMRMRPWLEMQINSNQIPGLIWINKEEMIFQIPWKHAAKHGW...        9606         0.0   \n",
       "2  MQGARAPRDQGRSPGRMSALGRSSVILLTYVLAATELTCLFMQFSI...        9606         0.0   \n",
       "\n",
       "   turn_frac  strand_frac  has_ptm  has_pdb  has_substrate  \n",
       "0        0.0          0.0        1        0              0  \n",
       "1        0.0          0.0        1        0              0  \n",
       "2        0.0          0.0        0        0              0  "
      ]
     },
     "execution_count": 7,
     "metadata": {},
     "output_type": "execute_result"
    }
   ],
   "source": [
    "entries_data_frame = obj_pycom.find({\n",
    "   ProteinParams.CATH:\"1.*\",\n",
    "   ProteinParams.DISEASE:\"Cancer\"\n",
    "}, page=1)\n",
    "\n",
    "entries_data_frame"
   ]
  },
  {
   "cell_type": "markdown",
   "id": "97c6901a",
   "metadata": {},
   "source": [
    "We found 3 proteins from CATH class `1.*` i.e., mainly alpha helical proteins. For help on [CATH Heirarchy](http://cathdb.info/browse/tree)."
   ]
  },
  {
   "cell_type": "markdown",
   "id": "e4be57c7",
   "metadata": {},
   "source": [
    "### Interpreting coevolution matrix\n",
    "\n",
    "Now let's get the coevolution matrices for these 3 proteins and understand how to interpret the data using one of the proteins `O00358`."
   ]
  },
  {
   "cell_type": "code",
   "execution_count": 8,
   "id": "f545f10a",
   "metadata": {
    "ExecuteTime": {
     "end_time": "2024-02-06T12:11:55.670376Z",
     "start_time": "2024-02-06T12:11:54.983290Z"
    }
   },
   "outputs": [
    {
     "data": {
      "text/plain": [
       "uniprot_id                                                    O00358\n",
       "neff                                                           5.065\n",
       "sequence_length                                                  373\n",
       "sequence           MTAESGPPPPQPEVLATVKEERGETAAGAGVPGEATGRGAGGRRRK...\n",
       "organism_id                                                     9606\n",
       "helix_frac                                                       0.0\n",
       "turn_frac                                                        0.0\n",
       "strand_frac                                                      0.0\n",
       "has_ptm                                                            1\n",
       "has_pdb                                                            0\n",
       "has_substrate                                                      0\n",
       "matrix             [[0.0, 0.05772481486201286, 0.0409208163619041...\n",
       "Name: 0, dtype: object"
      ]
     },
     "execution_count": 8,
     "metadata": {},
     "output_type": "execute_result"
    }
   ],
   "source": [
    "# Rerun the last query, but this time load the coevolution matrices (by setting matrix=True)\n",
    "\n",
    "entries_data_frame = obj_pycom.find({\n",
    "   ProteinParams.CATH:\"1.*\",\n",
    "   ProteinParams.DISEASE:\"Cancer\"\n",
    "}, page=1, matrix=True)\n",
    "\n",
    "entries_data_frame.iloc[0]"
   ]
  },
  {
   "cell_type": "markdown",
   "id": "e1700c8e",
   "metadata": {},
   "source": [
    "Coevolution matrix ($C_{i}$) for each protein has coevolution scores $c_{ij}$ for all residue pairs `i` & `j`.\n",
    "\n",
    "Residue pairs with coevolution score $c_{ij} \\geq \\langle C_{i}\\rangle$ are considered significant, therefore $C_{i}$ is scaled by average $\\langle C_{i}\\rangle$ as shown below:\n",
    "\n",
    "$S_{i} = \\frac{C_{i}}{\\langle C_{i}\\rangle}$\n",
    "\n",
    "**Note**: All $c_{ij} \\leq \\langle C_{i}\\rangle$ are set to `0`\n",
    "\n",
    "To compare coevolution scores between two or more proteins, $S_{i}$ are normalised ($N_{i}$) as shown below:\n",
    "\n",
    "$N_{i} = \\frac{S_{i}}{max\\langle {S_{i}...S_{N}} \\rangle}$"
   ]
  },
  {
   "cell_type": "code",
   "execution_count": 9,
   "id": "6f5b5c61",
   "metadata": {
    "ExecuteTime": {
     "end_time": "2024-02-06T12:11:55.670871Z",
     "start_time": "2024-02-06T12:11:55.613721Z"
    }
   },
   "outputs": [
    {
     "data": {
      "text/plain": [
       "0    O00358\n",
       "1    P10914\n",
       "2    Q96BI1\n",
       "Name: uniprot_id, dtype: object"
      ]
     },
     "execution_count": 9,
     "metadata": {},
     "output_type": "execute_result"
    }
   ],
   "source": [
    "# scale and normalise the coevolution matrices and add them to the dataframe\n",
    "obj_com_analysis = CoMAnalysis()\n",
    "entries_data_frame = obj_com_analysis.scale_and_normalise_coevolution_matrices(entries_data_frame)\n",
    "\n",
    "# We have 3 proteins, so we will have 3 matrices\n",
    "entries_data_frame['uniprot_id']"
   ]
  },
  {
   "cell_type": "markdown",
   "id": "90f576a0",
   "metadata": {},
   "source": [
    "For the first protein, lets get the top scoring residues pairs from the 90th percentile:"
   ]
  },
  {
   "cell_type": "code",
   "execution_count": 10,
   "id": "7531b040",
   "metadata": {
    "ExecuteTime": {
     "end_time": "2024-02-06T12:11:55.698814Z",
     "start_time": "2024-02-06T12:11:55.619091Z"
    }
   },
   "outputs": [
    {
     "data": {
      "text/html": [
       "<div>\n",
       "<style scoped>\n",
       "    .dataframe tbody tr th:only-of-type {\n",
       "        vertical-align: middle;\n",
       "    }\n",
       "\n",
       "    .dataframe tbody tr th {\n",
       "        vertical-align: top;\n",
       "    }\n",
       "\n",
       "    .dataframe thead th {\n",
       "        text-align: right;\n",
       "    }\n",
       "</style>\n",
       "<table border=\"1\" class=\"dataframe\">\n",
       "  <thead>\n",
       "    <tr style=\"text-align: right;\">\n",
       "      <th></th>\n",
       "      <th>ResA</th>\n",
       "      <th>ResB</th>\n",
       "      <th>coevolution_score</th>\n",
       "    </tr>\n",
       "  </thead>\n",
       "  <tbody>\n",
       "    <tr>\n",
       "      <th>0</th>\n",
       "      <td>81</td>\n",
       "      <td>134</td>\n",
       "      <td>3.114167</td>\n",
       "    </tr>\n",
       "    <tr>\n",
       "      <th>1</th>\n",
       "      <td>333</td>\n",
       "      <td>360</td>\n",
       "      <td>3.075198</td>\n",
       "    </tr>\n",
       "    <tr>\n",
       "      <th>2</th>\n",
       "      <td>1</td>\n",
       "      <td>8</td>\n",
       "      <td>2.830141</td>\n",
       "    </tr>\n",
       "    <tr>\n",
       "      <th>3</th>\n",
       "      <td>320</td>\n",
       "      <td>367</td>\n",
       "      <td>2.802745</td>\n",
       "    </tr>\n",
       "    <tr>\n",
       "      <th>4</th>\n",
       "      <td>232</td>\n",
       "      <td>345</td>\n",
       "      <td>2.790903</td>\n",
       "    </tr>\n",
       "    <tr>\n",
       "      <th>...</th>\n",
       "      <td>...</td>\n",
       "      <td>...</td>\n",
       "      <td>...</td>\n",
       "    </tr>\n",
       "    <tr>\n",
       "      <th>6069</th>\n",
       "      <td>13</td>\n",
       "      <td>27</td>\n",
       "      <td>1.406554</td>\n",
       "    </tr>\n",
       "    <tr>\n",
       "      <th>6070</th>\n",
       "      <td>196</td>\n",
       "      <td>281</td>\n",
       "      <td>1.406419</td>\n",
       "    </tr>\n",
       "    <tr>\n",
       "      <th>6071</th>\n",
       "      <td>70</td>\n",
       "      <td>172</td>\n",
       "      <td>1.406395</td>\n",
       "    </tr>\n",
       "    <tr>\n",
       "      <th>6072</th>\n",
       "      <td>194</td>\n",
       "      <td>249</td>\n",
       "      <td>1.406223</td>\n",
       "    </tr>\n",
       "    <tr>\n",
       "      <th>6073</th>\n",
       "      <td>185</td>\n",
       "      <td>224</td>\n",
       "      <td>1.406221</td>\n",
       "    </tr>\n",
       "  </tbody>\n",
       "</table>\n",
       "<p>6074 rows × 3 columns</p>\n",
       "</div>"
      ],
      "text/plain": [
       "     ResA ResB  coevolution_score\n",
       "0      81  134           3.114167\n",
       "1     333  360           3.075198\n",
       "2       1    8           2.830141\n",
       "3     320  367           2.802745\n",
       "4     232  345           2.790903\n",
       "...   ...  ...                ...\n",
       "6069   13   27           1.406554\n",
       "6070  196  281           1.406419\n",
       "6071   70  172           1.406395\n",
       "6072  194  249           1.406223\n",
       "6073  185  224           1.406221\n",
       "\n",
       "[6074 rows x 3 columns]"
      ]
     },
     "execution_count": 10,
     "metadata": {},
     "output_type": "execute_result"
    }
   ],
   "source": [
    "#for matrix in entries_data_frame['matrix_S']:\n",
    "df_top_scoring_residues = obj_com_analysis.get_top_scoring_residues(entries_data_frame['matrix_S'][0],percentile=90)\n",
    "df_top_scoring_residues"
   ]
  },
  {
   "cell_type": "markdown",
   "id": "6f5736fa",
   "metadata": {},
   "source": [
    "Residues 81 and 134 have the strongest coevolution signal/score of 3.11, i.e., there is a very high chance that a mutation in one has a resulted in a change in the other residue. For example studies please refer to:\n",
    "1. [Bai et al.](https://www.pnas.org/doi/full/10.1073/pnas.1615932113)\n",
    "2. [Hopf et al.](https://www.nature.com/articles/nbt.3769#MOESM20)\n",
    "3. [Akere et al.](https://doi.org/10.1042/BCJ20200477)\n",
    "\n",
    "It is also very interesting to check which residue is the most coevolving, i.e., involved in most number of strongly coevolving pairs and which residue is the least coevolving, i.e., is involved in the least number of pairs. "
   ]
  },
  {
   "cell_type": "code",
   "execution_count": 11,
   "id": "e787af10",
   "metadata": {
    "ExecuteTime": {
     "end_time": "2024-02-06T12:11:56.089039Z",
     "start_time": "2024-02-06T12:11:55.701191Z"
    }
   },
   "outputs": [
    {
     "data": {
      "text/html": [
       "<div>\n",
       "<style scoped>\n",
       "    .dataframe tbody tr th:only-of-type {\n",
       "        vertical-align: middle;\n",
       "    }\n",
       "\n",
       "    .dataframe tbody tr th {\n",
       "        vertical-align: top;\n",
       "    }\n",
       "\n",
       "    .dataframe thead th {\n",
       "        text-align: right;\n",
       "    }\n",
       "</style>\n",
       "<table border=\"1\" class=\"dataframe\">\n",
       "  <thead>\n",
       "    <tr style=\"text-align: right;\">\n",
       "      <th></th>\n",
       "      <th>residueID</th>\n",
       "      <th>count</th>\n",
       "    </tr>\n",
       "  </thead>\n",
       "  <tbody>\n",
       "    <tr>\n",
       "      <th>0</th>\n",
       "      <td>81</td>\n",
       "      <td>39</td>\n",
       "    </tr>\n",
       "    <tr>\n",
       "      <th>1</th>\n",
       "      <td>333</td>\n",
       "      <td>46</td>\n",
       "    </tr>\n",
       "    <tr>\n",
       "      <th>2</th>\n",
       "      <td>1</td>\n",
       "      <td>17</td>\n",
       "    </tr>\n",
       "    <tr>\n",
       "      <th>3</th>\n",
       "      <td>320</td>\n",
       "      <td>35</td>\n",
       "    </tr>\n",
       "    <tr>\n",
       "      <th>4</th>\n",
       "      <td>232</td>\n",
       "      <td>34</td>\n",
       "    </tr>\n",
       "    <tr>\n",
       "      <th>...</th>\n",
       "      <td>...</td>\n",
       "      <td>...</td>\n",
       "    </tr>\n",
       "    <tr>\n",
       "      <th>364</th>\n",
       "      <td>365</td>\n",
       "      <td>29</td>\n",
       "    </tr>\n",
       "    <tr>\n",
       "      <th>365</th>\n",
       "      <td>355</td>\n",
       "      <td>8</td>\n",
       "    </tr>\n",
       "    <tr>\n",
       "      <th>366</th>\n",
       "      <td>353</td>\n",
       "      <td>12</td>\n",
       "    </tr>\n",
       "    <tr>\n",
       "      <th>367</th>\n",
       "      <td>354</td>\n",
       "      <td>8</td>\n",
       "    </tr>\n",
       "    <tr>\n",
       "      <th>368</th>\n",
       "      <td>131</td>\n",
       "      <td>14</td>\n",
       "    </tr>\n",
       "  </tbody>\n",
       "</table>\n",
       "<p>369 rows × 2 columns</p>\n",
       "</div>"
      ],
      "text/plain": [
       "    residueID  count\n",
       "0          81     39\n",
       "1         333     46\n",
       "2           1     17\n",
       "3         320     35\n",
       "4         232     34\n",
       "..        ...    ...\n",
       "364       365     29\n",
       "365       355      8\n",
       "366       353     12\n",
       "367       354      8\n",
       "368       131     14\n",
       "\n",
       "[369 rows x 2 columns]"
      ]
     },
     "execution_count": 11,
     "metadata": {},
     "output_type": "execute_result"
    }
   ],
   "source": [
    "df_residue_frequencies=obj_com_analysis.get_residue_frequencies(df_top_scoring_residues)\n",
    "\n",
    "df_residue_frequencies"
   ]
  },
  {
   "cell_type": "code",
   "execution_count": 12,
   "id": "929217fb",
   "metadata": {
    "ExecuteTime": {
     "end_time": "2024-02-06T12:11:56.091535Z",
     "start_time": "2024-02-06T12:11:56.090052Z"
    }
   },
   "outputs": [],
   "source": [
    "# saving the residue frequencies to a csv file\n",
    "fname = \"output/csv/\" + entries_data_frame['uniprot_id'][0] + \"_res_freqs.csv\"\n",
    "df_residue_frequencies.to_csv(fname,index=False)"
   ]
  },
  {
   "cell_type": "code",
   "execution_count": 13,
   "id": "46f88668",
   "metadata": {
    "ExecuteTime": {
     "start_time": "2024-02-06T12:11:56.091198Z"
    }
   },
   "outputs": [],
   "source": [
    "#saving the top scoring residue pairs to a csv file\n",
    "obj_com_analysis.save_top_scoring_residue_pairs(entries_data_frame,matrix_type='matrix_S',data_folder=\"output/csv\")"
   ]
  },
  {
   "cell_type": "markdown",
   "id": "0abcee7a",
   "metadata": {},
   "source": [
    "Let us compare if the range of the coevolution scores for the top 10% of the residue pairs is different or similar for the three proteins."
   ]
  },
  {
   "cell_type": "code",
   "execution_count": 14,
   "id": "11fd14e2",
   "metadata": {
    "ExecuteTime": {
     "start_time": "2024-02-06T12:11:56.092101Z"
    }
   },
   "outputs": [],
   "source": [
    "list_top_residue_stats = []\n",
    "for uniprotid,matrix in zip(entries_data_frame['uniprot_id'],entries_data_frame['matrix_S']):\n",
    "    df_residue_pairs_scores = obj_com_analysis.get_top_scoring_residues(matrix,percentile=90)\n",
    "    list_top_residue_stats.append(df_residue_pairs_scores['coevolution_score'])"
   ]
  },
  {
   "cell_type": "code",
   "execution_count": 15,
   "id": "f52af7a0",
   "metadata": {
    "ExecuteTime": {
     "start_time": "2024-02-06T12:11:56.092655Z"
    }
   },
   "outputs": [],
   "source": [
    "my_color=\"#6495ED\"\n",
    "ticks_font=12\n",
    "labels_font=14"
   ]
  },
  {
   "cell_type": "code",
   "execution_count": 16,
   "id": "e071ef29",
   "metadata": {
    "ExecuteTime": {
     "start_time": "2024-02-06T12:11:56.093249Z"
    }
   },
   "outputs": [
    {
     "data": {
      "image/png": "[encoded data removed]",
      "text/plain": [
       "<Figure size 288x216 with 1 Axes>"
      ]
     },
     "metadata": {
      "needs_background": "light"
     },
     "output_type": "display_data"
    }
   ],
   "source": [
    "plt.figure(figsize=(4,3))\n",
    "plt.boxplot(list_top_residue_stats)\n",
    "plt.xticks(range(1, len(list_top_residue_stats) + 1), entries_data_frame['uniprot_id'])\n",
    "plt.xlabel(\"UniProt ID\",fontsize=labels_font)\n",
    "plt.ylabel(\"Scaled Coevolution Score \",fontsize=labels_font-2)\n",
    "plt.xticks(fontsize=ticks_font)\n",
    "plt.yticks(fontsize=ticks_font)\n",
    "plt.grid(axis='y',ls=\"--\",lw=1)\n",
    "plt.tight_layout()\n",
    "plt.savefig(\"output/png/04_box_plot.png\",dpi=300,transparent=True)"
   ]
  },
  {
   "cell_type": "code",
   "execution_count": 17,
   "id": "dc04a833",
   "metadata": {
    "ExecuteTime": {
     "start_time": "2024-02-06T12:11:56.093802Z"
    }
   },
   "outputs": [
    {
     "data": {
      "image/png": "[encoded data removed]",
      "text/plain": [
       "<Figure size 288x216 with 1 Axes>"
      ]
     },
     "metadata": {
      "needs_background": "light"
     },
     "output_type": "display_data"
    }
   ],
   "source": [
    "plt.figure(figsize=(4,3))\n",
    "plt.bar(\n",
    "   range(0,len(list_top_residue_stats),1),\n",
    "   height=[len(pair_list) for pair_list in list_top_residue_stats],\n",
    "   color=my_color,\n",
    "   tick_label=entries_data_frame['uniprot_id']\n",
    ")\n",
    "\n",
    "plt.xlabel(\"UniProt ID\",fontsize=labels_font)\n",
    "plt.ylabel(\"Residue pairs (#)\",fontsize=labels_font)\n",
    "plt.xticks(fontsize=ticks_font)\n",
    "plt.yticks(fontsize=ticks_font)\n",
    "plt.grid(axis='y',ls=\"--\",lw=1)\n",
    "plt.tight_layout()\n",
    "plt.savefig(\"output/png/04_bar_plot.png\",dpi=300,transparent=True)"
   ]
  },
  {
   "cell_type": "markdown",
   "id": "3fcc5978",
   "metadata": {},
   "source": [
    "Based on the box plot the range of scaled coevolution scores is different between the three proteins and the bar plot, the number of residue pairs is also different. "
   ]
  }
 ],
 "metadata": {
  "kernelspec": {
   "display_name": "Python 3-conda (ipykernel)",
   "language": "python",
   "name": "python3"
  },
  "language_info": {
   "codemirror_mode": {
    "name": "ipython",
    "version": 3
   },
   "file_extension": ".py",
   "mimetype": "text/x-python",
   "name": "python",
   "nbconvert_exporter": "python",
   "pygments_lexer": "ipython3",
   "version": "3.9.12"
  }
 },
 "nbformat": 4,
 "nbformat_minor": 5
}
