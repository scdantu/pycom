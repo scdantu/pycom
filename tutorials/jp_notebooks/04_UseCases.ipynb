{
 "cells": [
  {
   "cell_type": "markdown",
   "id": "f3a4f5ad-d96d-4db0-a765-ff0099fd4600",
   "metadata": {},
   "source": [
    "# Use cases\n",
    "\n",
    "Here are some more examples on how you can query the PyCoMdb using either a keyword or combination of keywords.\n",
    "\n",
    "Query by:\n",
    "1. [UniProtID](#UniProtID)\n",
    "2. [Sequence](#Sequence)\n",
    "3. [EC/CATH](#EC/CATH)\n",
    "4. [Disease](#Disease)\n",
    "4. [Multiple Keywords](#MultipleKeywords)"
   ]
  },
  {
   "cell_type": "markdown",
   "id": "452c02dd",
   "metadata": {},
   "source": [
    "Import all the essential PyCoM classes..."
   ]
  },
  {
   "cell_type": "code",
   "execution_count": null,
   "id": "6e6f8b9f-6a1d-4950-808d-84493c7b9ffd",
   "metadata": {},
   "outputs": [],
   "source": [
    "# importing all usefull classes from PyCoM\n",
    "from pycom import PyCom, ProteinParams,CoMAnalysis\n",
    "import pandas as pd\n",
    "import numpy as np"
   ]
  },
  {
   "cell_type": "markdown",
   "id": "ca267c4c",
   "metadata": {},
   "source": [
    "Setup the paths to the local database files if you are using PyCoM (local) i.e. with PyCoMdb on your computer."
   ]
  },
  {
   "cell_type": "code",
   "execution_count": null,
   "id": "42e708f2-b439-46e7-af66-668ea0507cde",
   "metadata": {},
   "outputs": [],
   "source": [
    "#set the path to the database \n",
    "database_folder_path=\"/Volumes/mason/Work/Sarath/Research/pycom/\"\n",
    "#matrix file name and path\n",
    "file_matrix_db = database_folder_path+\"pycom.mat\"\n",
    "#protein database file name and path\n",
    "file_protein_db= database_folder_path+\"pycom.db\""
   ]
  },
  {
   "cell_type": "code",
   "execution_count": null,
   "id": "01334d01-d5c3-45c8-8348-ebb46a22e61c",
   "metadata": {},
   "outputs": [],
   "source": [
    "obj_pycom = PyCom(db_path=file_protein_db, mat_path=file_matrix_db)"
   ]
  },
  {
   "cell_type": "markdown",
   "id": "4e6091e3",
   "metadata": {},
   "source": [
    ".. or you can use PyCoM with the remote version of PyCoMdb, uncomment or comment the code as per the right scenario."
   ]
  },
  {
   "cell_type": "code",
   "execution_count": null,
   "id": "aa3340c0-cbe6-4748-806f-0f7edc5b2b90",
   "metadata": {},
   "outputs": [],
   "source": [
    "#obj_pycom=PyCom(remote=True)"
   ]
  },
  {
   "cell_type": "markdown",
   "id": "fd819741-7fb9-4ba0-ae39-47fbf8c5d777",
   "metadata": {},
   "source": [
    "### UniProtID\n",
    "\n",
    "Using the UniProtID"
   ]
  },
  {
   "cell_type": "code",
   "execution_count": null,
   "id": "3de90948-0d04-440c-9e70-8da35421e449",
   "metadata": {},
   "outputs": [],
   "source": [
    "query_parameters={ProteinParams.ID:\"Q65209\"}\n",
    "entries_data_frame=obj_pycom.find(query_parameters,page=1)\n",
    "x=entries_data_frame[\"sequence\"]"
   ]
  },
  {
   "cell_type": "code",
   "execution_count": null,
   "id": "c4a0cb43-285b-425a-adae-a075c41dd59f",
   "metadata": {},
   "outputs": [],
   "source": [
    "x"
   ]
  },
  {
   "cell_type": "markdown",
   "id": "8e1dd40a-ca28-47a5-b57c-c1e9560a38ab",
   "metadata": {},
   "source": [
    "### Sequence\n",
    "\n",
    "Using the **complete** protein sequence, *using partial protein sequence will not yield any or incorrect result.*"
   ]
  },
  {
   "cell_type": "code",
   "execution_count": null,
   "id": "c9b3aba9-4e24-4152-92ea-010b5e9c1856",
   "metadata": {},
   "outputs": [],
   "source": [
    "query_parameters={ProteinParams.SEQUENCE:\"MGNKESKYLEMCSEEAWLNIPNIFKCIFIRKLFYNKWLKYQEKKLK\"}\n",
    "entries_data_frame=obj_pycom.find(query_parameters,page=1)\n",
    "entries_data_frame"
   ]
  },
  {
   "cell_type": "markdown",
   "id": "3c1c8cf4-5019-4d81-a556-7283e9f40ee9",
   "metadata": {},
   "source": [
    "### EC and CATH\n",
    "\n",
    "Using a combination of Enzyme Commission number and CATH ID. "
   ]
  },
  {
   "cell_type": "code",
   "execution_count": null,
   "id": "eccc8c62-d70a-434b-b371-dde0ab5f507d",
   "metadata": {},
   "outputs": [],
   "source": [
    "#caution this is an example of how to use PyCoM remote\n",
    "query_parameters={ProteinParams.CATH:\"1.*\",\n",
    "                  ProteinParams.ENZYME:\"3.2.*\"\n",
    "                 }\n",
    "entries_data_frame=obj_pycom.find(query_parameters,page=1)\n",
    "entries_data_frame"
   ]
  },
  {
   "cell_type": "markdown",
   "id": "7252b0fa-cc7b-482c-81fe-d74a37b16bf7",
   "metadata": {},
   "source": [
    "### Disease\n",
    "\n",
    "Getting proteins linked to a particular disease."
   ]
  },
  {
   "cell_type": "code",
   "execution_count": null,
   "id": "d95e1d98-d272-4bf7-8258-0f7f899c94df",
   "metadata": {},
   "outputs": [],
   "source": [
    "query_parameters={ProteinParams.DISEASE:\"Cancer\"}\n",
    "entries_data_frame=obj_pycom.find(query_parameters,page=1)\n",
    "entries_data_frame"
   ]
  },
  {
   "cell_type": "code",
   "execution_count": null,
   "id": "9461f25b-8dd5-42dc-8b15-98fe3cc12eb4",
   "metadata": {},
   "outputs": [],
   "source": [
    "entries_data_frame.attrs"
   ]
  },
  {
   "cell_type": "markdown",
   "id": "96c7cc4a",
   "metadata": {},
   "source": [
    "### Multiple Keywords"
   ]
  },
  {
   "cell_type": "code",
   "execution_count": null,
   "id": "894189c9",
   "metadata": {},
   "outputs": [],
   "source": [
    "query_parameters={ProteinParams.CATH:\"1.*\",\n",
    "                  ProteinParams.ENZYME:\"3.2.*\",\n",
    "                  ProteinParams.DISEASE:\"Cancer\"\n",
    "                 }\n",
    "entries_data_frame=obj_pycom.find(query_parameters,page=1)\n",
    "entries_data_frame"
   ]
  }
 ],
 "metadata": {
  "kernelspec": {
   "display_name": "Python 3-conda (ipykernel)",
   "language": "python",
   "name": "python3"
  },
  "language_info": {
   "codemirror_mode": {
    "name": "ipython",
    "version": 3
   },
   "file_extension": ".py",
   "mimetype": "text/x-python",
   "name": "python",
   "nbconvert_exporter": "python",
   "pygments_lexer": "ipython3",
   "version": "3.9.12"
  }
 },
 "nbformat": 4,
 "nbformat_minor": 5
}
