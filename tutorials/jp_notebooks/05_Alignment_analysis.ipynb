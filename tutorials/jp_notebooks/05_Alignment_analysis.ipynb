{
 "cells": [
  {
   "cell_type": "markdown",
   "id": "caa9cb0f-efad-4659-a062-93a80acdda74",
   "metadata": {},
   "source": [
    "# Analysing alignment(s)"
   ]
  },
  {
   "cell_type": "code",
   "execution_count": 1,
   "id": "34cfa6bd-1f38-4dbc-ba94-04cc78e7efa3",
   "metadata": {},
   "outputs": [],
   "source": [
    "import requests\n",
    "import numpy as np\n",
    "import pandas as pd"
   ]
  },
  {
   "cell_type": "code",
   "execution_count": 5,
   "id": "e0234014-461a-4ab9-b248-a477d6333e0c",
   "metadata": {},
   "outputs": [],
   "source": [
    "def download_alignment_files(uniprot_id):\n",
    "    url=\"https://pycom.brunel.ac.uk/alignments/\"\n",
    "    file_name=uniprot_id+\".aln\"\n",
    "    \n",
    "    web_url=url+file_name\n",
    "    \n",
    "    try:\n",
    "        # Send a GET request to the server to download the file\n",
    "        response = requests.get(web_url, stream=True)\n",
    "\n",
    "        # Check if the request was successful (HTTP status code 200)\n",
    "        response.raise_for_status()\n",
    "\n",
    "        # Open the file in binary write mode and save the content\n",
    "        with open(file_name, 'wb') as file:\n",
    "            for chunk in response.iter_content(chunk_size=8192):\n",
    "                file.write(chunk)\n",
    "\n",
    "        print(f\"File downloaded successfully and saved as '{file_name}'.\")\n",
    "    except requests.exceptions.RequestException as e:\n",
    "        print(f\"Error downloading the file: {e}\")"
   ]
  },
  {
   "cell_type": "code",
   "execution_count": 6,
   "id": "44d185b5-9dbf-4d8f-b6a5-894ae20dbb34",
   "metadata": {},
   "outputs": [
    {
     "name": "stdout",
     "output_type": "stream",
     "text": [
      "File downloaded successfully and saved as 'P0C5H4.aln'.\n"
     ]
    }
   ],
   "source": [
    "download_alignment_files(\"P0C5H4\")"
   ]
  },
  {
   "cell_type": "code",
   "execution_count": 13,
   "id": "0bfe274a-fa4d-4898-ae55-b0575ad034f7",
   "metadata": {},
   "outputs": [],
   "source": [
    "def convert_to_fasta(aln_file_in,fasta_file_out):\n",
    "    file_data = open(aln_file_in,'r')\n",
    "    count=0\n",
    "    out=\"\"\n",
    "    for line in file_data:\n",
    "        out+=\">SEQ_%d\\n\"%(count)\n",
    "        out+=\"%s\"%(line)\n",
    "        count+=1\n",
    "    f=open(fasta_file_out,'w')\n",
    "    f.write(out)\n",
    "    f.close()"
   ]
  },
  {
   "cell_type": "code",
   "execution_count": 14,
   "id": "dd5db659-c6de-40ca-b0dc-b686e0caca0c",
   "metadata": {},
   "outputs": [],
   "source": [
    "convert_to_fasta(\"P0C5H4.aln\",\"P0C5H4.fasta\")"
   ]
  },
  {
   "cell_type": "code",
   "execution_count": 17,
   "id": "8b68f4ff-4635-4519-9faa-1a454938da49",
   "metadata": {},
   "outputs": [],
   "source": [
    "seq_aln=AlignIO.read(\"P0C5H4.fasta\",format=\"fasta\")"
   ]
  },
  {
   "cell_type": "code",
   "execution_count": 18,
   "id": "a981e084-2d4b-4ee3-8271-2bd8cd08f1fa",
   "metadata": {},
   "outputs": [
    {
     "data": {
      "text/plain": [
       "20"
      ]
     },
     "execution_count": 18,
     "metadata": {},
     "output_type": "execute_result"
    }
   ],
   "source": [
    "seq_aln.get_alignment_length()"
   ]
  }
 ],
 "metadata": {
  "kernelspec": {
   "display_name": "Python 3-conda (ipykernel)",
   "language": "python",
   "name": "python3"
  },
  "language_info": {
   "codemirror_mode": {
    "name": "ipython",
    "version": 3
   },
   "file_extension": ".py",
   "mimetype": "text/x-python",
   "name": "python",
   "nbconvert_exporter": "python",
   "pygments_lexer": "ipython3",
   "version": "3.9.12"
  }
 },
 "nbformat": 4,
 "nbformat_minor": 5
}
