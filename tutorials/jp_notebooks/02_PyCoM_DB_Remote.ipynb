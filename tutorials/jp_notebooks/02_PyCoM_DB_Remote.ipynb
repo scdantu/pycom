{
 "cells": [
  {
   "cell_type": "markdown",
   "metadata": {},
   "source": [
    "# Working with the database remotely (online)\n",
    "\n",
    "Working with PyCom remotely is encourage only with smaller datasets as it does not support loading of the biological features and is slow in comparison.\n",
    "\n",
    "This is how to use PyCoM with remote PyCoMdb ideally with small-scale capacity.\n",
    "\n",
    "### Differences from local setup\n",
    "\n",
    "There are slight differences in the API when using PyCom remotely.\n",
    "\n",
    "* Querying the PyCoMdb returns a paginated dataframe with max 100 entries per page, or 10 if loading matrices.\n",
    "* The `pyc.paginate` and `pyc.load_matrices` methods are **not** available\n",
    "  * `pyc.find(..., page=1, per_page=100)` is used for pagination\n",
    "  * `pyc.find(..., matrix=True)` is used for loading matrices\n",
    "* The helper methods for loading additional biological data into the dataframe (`pyc.data.*`) are **not yet** available."
   ]
  },
  {
   "cell_type": "markdown",
   "metadata": {},
   "source": [
    "#### Initialize the PyCom class\n",
    "Import the PyCom class and initialize it with `remote=True`:"
   ]
  },
  {
   "cell_type": "code",
   "execution_count": 7,
   "metadata": {
    "ExecuteTime": {
     "end_time": "2023-07-15T16:43:50.284924Z",
     "start_time": "2023-07-15T16:43:49.950501Z"
    }
   },
   "outputs": [],
   "source": [
    "from pycom import PyCom, ProteinParams\n",
    "import pandas as pd\n",
    "pyc = PyCom(remote=True)"
   ]
  },
  {
   "cell_type": "markdown",
   "metadata": {},
   "source": [
    "### Query the database\n",
    "\n",
    "Query the database by passing a dictionary of conditions:"
   ]
  },
  {
   "cell_type": "code",
   "execution_count": 12,
   "metadata": {
    "ExecuteTime": {
     "end_time": "2023-07-15T16:43:50.318463Z",
     "start_time": "2023-07-15T16:43:50.285489Z"
    }
   },
   "outputs": [
    {
     "data": {
      "text/html": [
       "<div>\n",
       "<style scoped>\n",
       "    .dataframe tbody tr th:only-of-type {\n",
       "        vertical-align: middle;\n",
       "    }\n",
       "\n",
       "    .dataframe tbody tr th {\n",
       "        vertical-align: top;\n",
       "    }\n",
       "\n",
       "    .dataframe thead th {\n",
       "        text-align: right;\n",
       "    }\n",
       "</style>\n",
       "<table border=\"1\" class=\"dataframe\">\n",
       "  <thead>\n",
       "    <tr style=\"text-align: right;\">\n",
       "      <th></th>\n",
       "      <th>uniprot_id</th>\n",
       "      <th>neff</th>\n",
       "      <th>sequence_length</th>\n",
       "      <th>sequence</th>\n",
       "      <th>organism_id</th>\n",
       "      <th>helix_frac</th>\n",
       "      <th>turn_frac</th>\n",
       "      <th>strand_frac</th>\n",
       "      <th>has_ptm</th>\n",
       "      <th>has_pdb</th>\n",
       "      <th>has_substrate</th>\n",
       "    </tr>\n",
       "  </thead>\n",
       "  <tbody>\n",
       "    <tr>\n",
       "      <th>0</th>\n",
       "      <td>O43464</td>\n",
       "      <td>8.095</td>\n",
       "      <td>458</td>\n",
       "      <td>MAAPRAGRGAGWSLRAWRALGGIRWGRRPRLTPDLRALLTSGTSDP...</td>\n",
       "      <td>9606</td>\n",
       "      <td>0.122271</td>\n",
       "      <td>0.034934</td>\n",
       "      <td>0.286026</td>\n",
       "      <td>1</td>\n",
       "      <td>1</td>\n",
       "      <td>1</td>\n",
       "    </tr>\n",
       "    <tr>\n",
       "      <th>1</th>\n",
       "      <td>O60260</td>\n",
       "      <td>9.579</td>\n",
       "      <td>465</td>\n",
       "      <td>MIVFVRFNSSHGFPVEVDSDTSIFQLKEVVAKRQGVPADQLRVIFA...</td>\n",
       "      <td>9606</td>\n",
       "      <td>0.174194</td>\n",
       "      <td>0.073118</td>\n",
       "      <td>0.273118</td>\n",
       "      <td>1</td>\n",
       "      <td>1</td>\n",
       "      <td>1</td>\n",
       "    </tr>\n",
       "    <tr>\n",
       "      <th>2</th>\n",
       "      <td>O75787</td>\n",
       "      <td>8.590</td>\n",
       "      <td>350</td>\n",
       "      <td>MAVFVVLLALVAGVLGNEFSILKSPGSVVFRNGNWPIPGERIPDVA...</td>\n",
       "      <td>9606</td>\n",
       "      <td>0.085714</td>\n",
       "      <td>0.011429</td>\n",
       "      <td>0.000000</td>\n",
       "      <td>1</td>\n",
       "      <td>1</td>\n",
       "      <td>0</td>\n",
       "    </tr>\n",
       "    <tr>\n",
       "      <th>3</th>\n",
       "      <td>P09936</td>\n",
       "      <td>7.605</td>\n",
       "      <td>223</td>\n",
       "      <td>MQLKPMEINPEMLNKVLSRLGVAGQWRFVDVLGLEEESLGSVPAPA...</td>\n",
       "      <td>9606</td>\n",
       "      <td>0.390135</td>\n",
       "      <td>0.053812</td>\n",
       "      <td>0.242152</td>\n",
       "      <td>1</td>\n",
       "      <td>1</td>\n",
       "      <td>1</td>\n",
       "    </tr>\n",
       "    <tr>\n",
       "      <th>4</th>\n",
       "      <td>P31930</td>\n",
       "      <td>10.682</td>\n",
       "      <td>480</td>\n",
       "      <td>MAASVVCRAATAGAQVLLRARRSPALLRTPALRSTATFAQALQFVP...</td>\n",
       "      <td>9606</td>\n",
       "      <td>0.410417</td>\n",
       "      <td>0.020833</td>\n",
       "      <td>0.122917</td>\n",
       "      <td>0</td>\n",
       "      <td>1</td>\n",
       "      <td>0</td>\n",
       "    </tr>\n",
       "  </tbody>\n",
       "</table>\n",
       "</div>"
      ],
      "text/plain": [
       "  uniprot_id    neff  sequence_length  \\\n",
       "0     O43464   8.095              458   \n",
       "1     O60260   9.579              465   \n",
       "2     O75787   8.590              350   \n",
       "3     P09936   7.605              223   \n",
       "4     P31930  10.682              480   \n",
       "\n",
       "                                            sequence organism_id  helix_frac  \\\n",
       "0  MAAPRAGRGAGWSLRAWRALGGIRWGRRPRLTPDLRALLTSGTSDP...        9606    0.122271   \n",
       "1  MIVFVRFNSSHGFPVEVDSDTSIFQLKEVVAKRQGVPADQLRVIFA...        9606    0.174194   \n",
       "2  MAVFVVLLALVAGVLGNEFSILKSPGSVVFRNGNWPIPGERIPDVA...        9606    0.085714   \n",
       "3  MQLKPMEINPEMLNKVLSRLGVAGQWRFVDVLGLEEESLGSVPAPA...        9606    0.390135   \n",
       "4  MAASVVCRAATAGAQVLLRARRSPALLRTPALRSTATFAQALQFVP...        9606    0.410417   \n",
       "\n",
       "   turn_frac  strand_frac  has_ptm  has_pdb  has_substrate  \n",
       "0   0.034934     0.286026        1        1              1  \n",
       "1   0.073118     0.273118        1        1              1  \n",
       "2   0.011429     0.000000        1        1              0  \n",
       "3   0.053812     0.242152        1        1              1  \n",
       "4   0.020833     0.122917        0        1              0  "
      ]
     },
     "execution_count": 12,
     "metadata": {},
     "output_type": "execute_result"
    }
   ],
   "source": [
    "entries = pyc.find({\n",
    "    ProteinParams.DISEASE: 'parkinson',  # string search, case-insensitive\n",
    "}, page=1)\n",
    "\n",
    "entries.head()"
   ]
  },
  {
   "cell_type": "code",
   "execution_count": 13,
   "metadata": {},
   "outputs": [
    {
     "data": {
      "text/plain": [
       "{'page': 1, 'total_pages': 1, 'total_results': 9}"
      ]
     },
     "execution_count": 13,
     "metadata": {},
     "output_type": "execute_result"
    }
   ],
   "source": [
    "# tells us total number of entries in the search results\n",
    "entries.attrs"
   ]
  },
  {
   "cell_type": "markdown",
   "metadata": {},
   "source": [
    "Alternatively, query the database by passing keyword arguments:"
   ]
  },
  {
   "cell_type": "code",
   "execution_count": 14,
   "metadata": {
    "ExecuteTime": {
     "end_time": "2023-07-15T16:43:50.989686Z",
     "start_time": "2023-07-15T16:43:50.962113Z"
    }
   },
   "outputs": [
    {
     "data": {
      "text/html": [
       "<div>\n",
       "<style scoped>\n",
       "    .dataframe tbody tr th:only-of-type {\n",
       "        vertical-align: middle;\n",
       "    }\n",
       "\n",
       "    .dataframe tbody tr th {\n",
       "        vertical-align: top;\n",
       "    }\n",
       "\n",
       "    .dataframe thead th {\n",
       "        text-align: right;\n",
       "    }\n",
       "</style>\n",
       "<table border=\"1\" class=\"dataframe\">\n",
       "  <thead>\n",
       "    <tr style=\"text-align: right;\">\n",
       "      <th></th>\n",
       "      <th>uniprot_id</th>\n",
       "      <th>neff</th>\n",
       "      <th>sequence_length</th>\n",
       "      <th>sequence</th>\n",
       "      <th>organism_id</th>\n",
       "      <th>helix_frac</th>\n",
       "      <th>turn_frac</th>\n",
       "      <th>strand_frac</th>\n",
       "      <th>has_ptm</th>\n",
       "      <th>has_pdb</th>\n",
       "      <th>has_substrate</th>\n",
       "    </tr>\n",
       "  </thead>\n",
       "  <tbody>\n",
       "    <tr>\n",
       "      <th>0</th>\n",
       "      <td>P11310</td>\n",
       "      <td>9.930</td>\n",
       "      <td>421</td>\n",
       "      <td>MAAGFGRCCRVLRSISRFHWRSQHTKANRQREPGLGFSFEFTEQQK...</td>\n",
       "      <td>9606</td>\n",
       "      <td>0.517815</td>\n",
       "      <td>0.016627</td>\n",
       "      <td>0.180523</td>\n",
       "      <td>1</td>\n",
       "      <td>1</td>\n",
       "      <td>1</td>\n",
       "    </tr>\n",
       "    <tr>\n",
       "      <th>1</th>\n",
       "      <td>Q658P3</td>\n",
       "      <td>9.677</td>\n",
       "      <td>488</td>\n",
       "      <td>MPEEMDKPLISLHLVDSDSSLAKVPDEAPKVGILGSGDFARSLATR...</td>\n",
       "      <td>9606</td>\n",
       "      <td>0.157787</td>\n",
       "      <td>0.000000</td>\n",
       "      <td>0.086066</td>\n",
       "      <td>1</td>\n",
       "      <td>1</td>\n",
       "      <td>0</td>\n",
       "    </tr>\n",
       "    <tr>\n",
       "      <th>2</th>\n",
       "      <td>Q16795</td>\n",
       "      <td>10.997</td>\n",
       "      <td>377</td>\n",
       "      <td>MAAAAQSRVVRVLSMSRSAITAIATSVCHGPPCRQLHHALMPHGKG...</td>\n",
       "      <td>9606</td>\n",
       "      <td>0.363395</td>\n",
       "      <td>0.037135</td>\n",
       "      <td>0.124668</td>\n",
       "      <td>1</td>\n",
       "      <td>1</td>\n",
       "      <td>0</td>\n",
       "    </tr>\n",
       "    <tr>\n",
       "      <th>3</th>\n",
       "      <td>O95299</td>\n",
       "      <td>9.244</td>\n",
       "      <td>355</td>\n",
       "      <td>MALRLLKLAATSASARVVAAGAQRVRGIHSSVQCKLRYGMWHFLLG...</td>\n",
       "      <td>9606</td>\n",
       "      <td>0.000000</td>\n",
       "      <td>0.000000</td>\n",
       "      <td>0.000000</td>\n",
       "      <td>1</td>\n",
       "      <td>1</td>\n",
       "      <td>0</td>\n",
       "    </tr>\n",
       "    <tr>\n",
       "      <th>4</th>\n",
       "      <td>P13804</td>\n",
       "      <td>8.627</td>\n",
       "      <td>333</td>\n",
       "      <td>MFRAAAPGQLRRAASLLRFQSTLVIAEHANDSLAPITLNTITAATR...</td>\n",
       "      <td>9606</td>\n",
       "      <td>0.300300</td>\n",
       "      <td>0.027027</td>\n",
       "      <td>0.333333</td>\n",
       "      <td>1</td>\n",
       "      <td>1</td>\n",
       "      <td>0</td>\n",
       "    </tr>\n",
       "  </tbody>\n",
       "</table>\n",
       "</div>"
      ],
      "text/plain": [
       "  uniprot_id    neff  sequence_length  \\\n",
       "0     P11310   9.930              421   \n",
       "1     Q658P3   9.677              488   \n",
       "2     Q16795  10.997              377   \n",
       "3     O95299   9.244              355   \n",
       "4     P13804   8.627              333   \n",
       "\n",
       "                                            sequence organism_id  helix_frac  \\\n",
       "0  MAAGFGRCCRVLRSISRFHWRSQHTKANRQREPGLGFSFEFTEQQK...        9606    0.517815   \n",
       "1  MPEEMDKPLISLHLVDSDSSLAKVPDEAPKVGILGSGDFARSLATR...        9606    0.157787   \n",
       "2  MAAAAQSRVVRVLSMSRSAITAIATSVCHGPPCRQLHHALMPHGKG...        9606    0.363395   \n",
       "3  MALRLLKLAATSASARVVAAGAQRVRGIHSSVQCKLRYGMWHFLLG...        9606    0.000000   \n",
       "4  MFRAAAPGQLRRAASLLRFQSTLVIAEHANDSLAPITLNTITAATR...        9606    0.300300   \n",
       "\n",
       "   turn_frac  strand_frac  has_ptm  has_pdb  has_substrate  \n",
       "0   0.016627     0.180523        1        1              1  \n",
       "1   0.000000     0.086066        1        1              0  \n",
       "2   0.037135     0.124668        1        1              0  \n",
       "3   0.000000     0.000000        1        1              0  \n",
       "4   0.027027     0.333333        1        1              0  "
      ]
     },
     "execution_count": 14,
     "metadata": {},
     "output_type": "execute_result"
    }
   ],
   "source": [
    "entries = pyc.find(\n",
    "    cofactor='FAD',  # string search, case-insensitive\n",
    "    has_ptm=True,\n",
    "    has_disease=True,\n",
    "    page=1\n",
    ")\n",
    "\n",
    "entries"
   ]
  },
  {
   "cell_type": "code",
   "execution_count": 15,
   "metadata": {},
   "outputs": [
    {
     "data": {
      "text/plain": [
       "{'page': 1, 'total_pages': 1, 'total_results': 5}"
      ]
     },
     "execution_count": 15,
     "metadata": {},
     "output_type": "execute_result"
    }
   ],
   "source": [
    "entries.attrs"
   ]
  },
  {
   "cell_type": "markdown",
   "metadata": {},
   "source": [
    "## Supported query parameters:\n",
    "* `uniprot_id`: The UniProt ID of the protein.\n",
    "* `sequence`: The amino acid sequence of protein to search for. (full match)\n",
    "* `min_length` / `max_length`: Min/Max number of residues in the protein.\n",
    "* `min_helix` / `max_helix`: Min/Max percentage of helical structure in the protein.\n",
    "* `min_turn` / `max_turn`: Min/Max percentage of turn structure in the protein.\n",
    "* `min_strand` / `max_strand`: Min/Max percentage of beta strand structure in the protein.\n",
    "* `organism`: Taxonomic name of the genus / species of the protein. (case-insensitive)\n",
    "  * Species name or any parent taxonomic level can be used. (`pyc.get_organism_list()` for full list)\n",
    "  * Surround with `:` to get precise results\n",
    "    * `:homo:` returns `Homo sapiens` & `Homo sapiens neanderthalensis`)\n",
    "    * `homo` also returns **homo**eomma, t**homo**mys, and *hundreds* others\n",
    "* `organism_id`: Precise NCBI Taxonomy ID of the species of the protein. (prefer to use `organism` instead)\n",
    "* `cath`: CATH classification of the protein (`3.40.50.360` or `3.40.*.*` or `3.*`).\n",
    "* `enzyme`: Enzyme Commission number of the protein. (`1.3.1.3` or `1.3.*.*` or `1.*`).\n",
    "* `has_substrate`: Whether the protein has a known substrate. (`True`/`False`)\n",
    "* `has_ptm`: Whether the protein has a known post-translational modification. (`True`/`False`)\n",
    "* `has_pdb`: Whether the protein has a known PDB structure. (`True`/`False`)\n",
    "* `disease`: The disease associated with the protein. (name of disease, case-insensitive, e.g `cancer`)\n",
    "  * Use `pyc.get_disease_list()` for full list.\n",
    "  * `cancer` searches for `Ovarian cancer`, `Lung cancer`, ...\n",
    "* `disease_id`: The ID of the disease associated with the protein. (`DI-02205`, get_disease_list()\n",
    "* `has_disease`: Whether the protein is associated with a disease. (`True`/`False`)\n",
    "* `cofactor`: The cofactor associated with the protein. (name of cofactor, case-insensitive, e.g `Zn(2+)`])\n",
    "* `cofactor_id`: The ID of the cofactor associated with the protein. (`CHEBI:00001`, get_cofactor_list())\n",
    "* `biological_process`: Biological process associated with the protein. (e.g `antiviral defense`, use `pyc.get_biological_process_list()` for full list)\n",
    "* `cellular_component`: Cellular component associated with the protein. (e.g `nucleus`, use `pyc.get_cellular_component_list()` for full list\n",
    "* `domain`: Domain associated with the protein. (e.g `zinc-finger`, use `pyc.get_domain_list()` for full list)\n",
    "* `ligand`: Ligand associated with the protein. (e.g `zinc`, use `pyc.get_ligand_list()` for full list\n",
    "* `molecular_function`: Molecular function associated with the protein. (e.g `antioxidant activity`, use `pyc.get_molecular_function_list()` for full list\n",
    "* `ptm`: Post-translational modification associated with the protein. (e.g `phosphoprotein`, use `pyc.get_ptm_list()` for full list\n",
    "\n",
    "\n",
    "### Pagination\n",
    "\n",
    "Remote PyCom automatically paginates results. The default page size is 10 entries, but can be changed with `pyc.find(..., per_page=100)`.\n",
    "The maximum page size is 100 entries, or 10 if loading matrices.\n",
    "\n",
    "When loading more entries than the page size, just set the `page` parameter to the page number:"
   ]
  },
  {
   "cell_type": "code",
   "execution_count": null,
   "metadata": {
    "ExecuteTime": {
     "end_time": "2023-07-15T16:43:52.047515Z",
     "start_time": "2023-07-15T16:43:51.986108Z"
    },
    "jupyter": {
     "outputs_hidden": false
    }
   },
   "outputs": [],
   "source": [
    "page1 = pyc.find(max_length=20, page=1, per_page=100)  # get first 100 entries with length <= 20\n",
    "page2 = pyc.find(max_length=20, page=2, per_page=100)  # get entries 101-200 with length <= 20\n",
    "\n",
    "# pages can be concatenated\n",
    "import pandas as pd\n",
    "pages = pd.concat([page1, page2], ignore_index=True)\n",
    "\n",
    "print(f'Page 1: {len(page1)} entries, Page 2: {len(page2)} entries, Total: {len(pages)} entries')"
   ]
  },
  {
   "cell_type": "markdown",
   "metadata": {},
   "source": [
    "### Load coevolution matrices\n",
    "\n",
    "Coevolution matrices can be loaded by setting the `matrix` param: `pyc.find(..., matrix=True)`.\n",
    "\n",
    "This loads them into the `matrix` column of the dataframe."
   ]
  },
  {
   "cell_type": "code",
   "execution_count": null,
   "metadata": {
    "ExecuteTime": {
     "end_time": "2023-07-15T16:43:52.989500Z",
     "start_time": "2023-07-15T16:43:52.949563Z"
    },
    "jupyter": {
     "outputs_hidden": false
    }
   },
   "outputs": [],
   "source": [
    "results = pyc.find(max_length=20, page=1, matrix=True)\n",
    "\n",
    "results.iloc[0].matrix  # show the coevolution matrix for the first entry"
   ]
  },
  {
   "cell_type": "markdown",
   "metadata": {},
   "source": [
    "By default, the matrices are loaded as a `numpy.ndarray`. Different formats can be specified.\n",
    "\n",
    "Here is an example of the matrices being loaded as Pandas DataFrames and 2d-lists:"
   ]
  },
  {
   "cell_type": "code",
   "execution_count": null,
   "metadata": {
    "ExecuteTime": {
     "end_time": "2023-07-15T16:43:54.412648Z",
     "start_time": "2023-07-15T16:43:54.221683Z"
    },
    "jupyter": {
     "outputs_hidden": false
    }
   },
   "outputs": [],
   "source": [
    "from pycom import MatrixFormat\n",
    "\n",
    "resultsPandas = pyc.find(max_length=20, page=1, matrix=True, mat_format=MatrixFormat.PANDAS)\n",
    "resultsList = pyc.find(max_length=20, page=1, matrix=True, mat_format=MatrixFormat.LIST)\n",
    "\n",
    "print(f'Pandas: {type(resultsPandas.iloc[0].matrix)}')\n",
    "print(f'List: {type(resultsList.iloc[0].matrix)}')"
   ]
  },
  {
   "cell_type": "markdown",
   "metadata": {},
   "source": []
  },
  {
   "cell_type": "code",
   "execution_count": null,
   "metadata": {
    "ExecuteTime": {
     "end_time": "2023-07-15T16:43:56.469823Z",
     "start_time": "2023-07-15T16:43:56.101964Z"
    }
   },
   "outputs": [],
   "source": []
  }
 ],
 "metadata": {
  "kernelspec": {
   "display_name": "Python 3-conda (ipykernel)",
   "language": "python",
   "name": "python3"
  },
  "language_info": {
   "codemirror_mode": {
    "name": "ipython",
    "version": 3
   },
   "file_extension": ".py",
   "mimetype": "text/x-python",
   "name": "python",
   "nbconvert_exporter": "python",
   "pygments_lexer": "ipython3",
   "version": "3.9.12"
  }
 },
 "nbformat": 4,
 "nbformat_minor": 4
}
