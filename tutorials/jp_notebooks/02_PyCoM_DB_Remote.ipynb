{
 "cells": [
  {
   "cell_type": "markdown",
   "metadata": {},
   "source": [
    "# Working with the database remotely (online)\n",
    "\n",
    "Working with PyCom remotely is **discouraged**, as it does not support many features and is slow in comparison.\n",
    "A local setup requires 115 GB of disk space for the database. A tutorial for that can be found in `example.ipynb`.\n",
    "\n",
    "If that is infeasible, or if PyCom is only used in a small-scale capacity, this is how to use it remotely.\n",
    "\n",
    "\n",
    "\n",
    "#### Differences from local setup\n",
    "There are slight differences in the API when using PyCom remotely.\n",
    "* Results are paginated automatically (max 100 entries per page, or 10 if loading matrices)\n",
    "* The `pyc.paginate` and `pyc.load_matrices` methods are **not** available\n",
    "  * `pyc.find(..., page=1, per_page=100)` is used for pagination\n",
    "  * `pyc.find(..., matrix=True)` is used for loading matrices\n",
    "* The helper methods for loading additional data into the dataframe (`pyc.data.*`) are **not** available\n",
    "\n",
    "### Initialize the PyCom class\n",
    "Import the PyCom class and initialize it with `remote=True`:"
   ]
  },
  {
   "cell_type": "code",
   "execution_count": null,
   "metadata": {
    "ExecuteTime": {
     "end_time": "2023-07-15T16:43:50.284924Z",
     "start_time": "2023-07-15T16:43:49.950501Z"
    }
   },
   "outputs": [],
   "source": [
    "from pycom import PyCom, ProteinParams\n",
    "\n",
    "pyc = PyCom(remote=True)"
   ]
  },
  {
   "cell_type": "markdown",
   "metadata": {},
   "source": [
    "### Query the database\n",
    "\n",
    "Query the database by passing a dictionary of conditions:"
   ]
  },
  {
   "cell_type": "code",
   "execution_count": null,
   "metadata": {
    "ExecuteTime": {
     "end_time": "2023-07-15T16:43:50.318463Z",
     "start_time": "2023-07-15T16:43:50.285489Z"
    }
   },
   "outputs": [],
   "source": [
    "entries = pyc.find({\n",
    "    #ProteinParams.ENZYME: '3.*.*.*',\n",
    "    #ProteinParams.DISEASE: 'cancer',  # string search, case-insensitive\n",
    "}, page=1)\n",
    "\n",
    "entries"
   ]
  },
  {
   "cell_type": "code",
   "execution_count": null,
   "metadata": {},
   "outputs": [],
   "source": [
    "entries.to_csv(\"test.csv\",index=False)"
   ]
  },
  {
   "cell_type": "code",
   "execution_count": null,
   "metadata": {},
   "outputs": [],
   "source": [
    "import pandas as pd"
   ]
  },
  {
   "cell_type": "code",
   "execution_count": null,
   "metadata": {},
   "outputs": [],
   "source": [
    "test_csv=pd.read_csv(\"test.csv\")"
   ]
  },
  {
   "cell_type": "code",
   "execution_count": null,
   "metadata": {},
   "outputs": [],
   "source": [
    "test_csv"
   ]
  },
  {
   "cell_type": "markdown",
   "metadata": {},
   "source": [
    "Alternatively, query the database by passing keyword arguments:"
   ]
  },
  {
   "cell_type": "code",
   "execution_count": null,
   "metadata": {
    "ExecuteTime": {
     "end_time": "2023-07-15T16:43:50.989686Z",
     "start_time": "2023-07-15T16:43:50.962113Z"
    }
   },
   "outputs": [],
   "source": [
    "entries = pyc.find(\n",
    "    cofactor='FAD',  # string search, case-insensitive\n",
    "    has_ptm=True,\n",
    "    has_disease=True,\n",
    "    page=1\n",
    ")\n",
    "\n",
    "entries"
   ]
  },
  {
   "cell_type": "markdown",
   "metadata": {},
   "source": [
    "## Supported query parameters:\n",
    "* `uniprot_id`: The UniProt ID of the protein.\n",
    "* `sequence`: The amino acid sequence of protein to search for. (full match)\n",
    "* `min_length` / `max_length`: Min/Max number of residues in the protein.\n",
    "* `min_helix` / `max_helix`: Min/Max percentage of helical structure in the protein.\n",
    "* `min_turn` / `max_turn`: Min/Max percentage of turn structure in the protein.\n",
    "* `min_strand` / `max_strand`: Min/Max percentage of beta strand structure in the protein.\n",
    "* `organism`: Taxonomic name of the genus / species of the protein. (case-insensitive)\n",
    "  * Species name or any parent taxonomic level can be used. (`pyc.get_organism_list()` for full list)\n",
    "  * Surround with `:` to get precise results\n",
    "    * `:homo:` returns `Homo sapiens` & `Homo sapiens neanderthalensis`)\n",
    "    * `homo` also returns **homo**eomma, t**homo**mys, and *hundreds* others\n",
    "* `organism_id`: Precise NCBI Taxonomy ID of the species of the protein. (prefer to use `organism` instead)\n",
    "* `cath`: CATH classification of the protein (`3.40.50.360` or `3.40.*.*` or `3.*`).\n",
    "* `enzyme`: Enzyme Commission number of the protein. (`1.3.1.3` or `1.3.*.*` or `1.*`).\n",
    "* `has_substrate`: Whether the protein has a known substrate. (`True`/`False`)\n",
    "* `has_ptm`: Whether the protein has a known post-translational modification. (`True`/`False`)\n",
    "* `has_pdb`: Whether the protein has a known PDB structure. (`True`/`False`)\n",
    "* `disease`: The disease associated with the protein. (name of disease, case-insensitive, e.g `cancer`)\n",
    "  * Use `pyc.get_disease_list()` for full list.\n",
    "  * `cancer` searches for `Ovarian cancer`, `Lung cancer`, ...\n",
    "* `disease_id`: The ID of the disease associated with the protein. (`DI-02205`, get_disease_list()\n",
    "* `has_disease`: Whether the protein is associated with a disease. (`True`/`False`)\n",
    "* `cofactor`: The cofactor associated with the protein. (name of cofactor, case-insensitive, e.g `Zn(2+)`])\n",
    "* `cofactor_id`: The ID of the cofactor associated with the protein. (`CHEBI:00001`, get_cofactor_list())\n",
    "* `biological_process`: Biological process associated with the protein. (e.g `antiviral defense`, use `pyc.get_biological_process_list()` for full list)\n",
    "* `cellular_component`: Cellular component associated with the protein. (e.g `nucleus`, use `pyc.get_cellular_component_list()` for full list\n",
    "* `domain`: Domain associated with the protein. (e.g `zinc-finger`, use `pyc.get_domain_list()` for full list)\n",
    "* `ligand`: Ligand associated with the protein. (e.g `zinc`, use `pyc.get_ligand_list()` for full list\n",
    "* `molecular_function`: Molecular function associated with the protein. (e.g `antioxidant activity`, use `pyc.get_molecular_function_list()` for full list\n",
    "* `ptm`: Post-translational modification associated with the protein. (e.g `phosphoprotein`, use `pyc.get_ptm_list()` for full list\n",
    "\n",
    "\n",
    "### Pagination\n",
    "\n",
    "Remote PyCom automatically paginates results. The default page size is 10 entries, but can be changed with `pyc.find(..., per_page=100)`.\n",
    "The maximum page size is 100 entries, or 10 if loading matrices.\n",
    "\n",
    "When loading more entries than the page size, just set the `page` parameter to the page number:"
   ]
  },
  {
   "cell_type": "code",
   "execution_count": null,
   "metadata": {
    "ExecuteTime": {
     "end_time": "2023-07-15T16:43:52.047515Z",
     "start_time": "2023-07-15T16:43:51.986108Z"
    },
    "jupyter": {
     "outputs_hidden": false
    }
   },
   "outputs": [],
   "source": [
    "page1 = pyc.find(max_length=20, page=1, per_page=100)  # get first 100 entries with length <= 20\n",
    "page2 = pyc.find(max_length=20, page=2, per_page=100)  # get entries 101-200 with length <= 20\n",
    "\n",
    "# pages can be concatenated\n",
    "import pandas as pd\n",
    "pages = pd.concat([page1, page2], ignore_index=True)\n",
    "\n",
    "print(f'Page 1: {len(page1)} entries, Page 2: {len(page2)} entries, Total: {len(pages)} entries')"
   ]
  },
  {
   "cell_type": "markdown",
   "metadata": {},
   "source": [
    "### Load coevolution matrices\n",
    "\n",
    "Coevolution matrices can be loaded by setting the `matrix` param: `pyc.find(..., matrix=True)`.\n",
    "\n",
    "This loads them into the `matrix` column of the dataframe."
   ]
  },
  {
   "cell_type": "code",
   "execution_count": null,
   "metadata": {
    "ExecuteTime": {
     "end_time": "2023-07-15T16:43:52.989500Z",
     "start_time": "2023-07-15T16:43:52.949563Z"
    },
    "jupyter": {
     "outputs_hidden": false
    }
   },
   "outputs": [],
   "source": [
    "results = pyc.find(max_length=20, page=1, matrix=True)\n",
    "\n",
    "results.iloc[0].matrix  # show the coevolution matrix for the first entry"
   ]
  },
  {
   "cell_type": "markdown",
   "metadata": {},
   "source": [
    "By default, the matrices are loaded as a `numpy.ndarray`. Different formats can be specified.\n",
    "\n",
    "Here is an example of the matrices being loaded as Pandas DataFrames and 2d-lists:"
   ]
  },
  {
   "cell_type": "code",
   "execution_count": null,
   "metadata": {
    "ExecuteTime": {
     "end_time": "2023-07-15T16:43:54.412648Z",
     "start_time": "2023-07-15T16:43:54.221683Z"
    },
    "jupyter": {
     "outputs_hidden": false
    }
   },
   "outputs": [],
   "source": [
    "from pycom import MatrixFormat\n",
    "\n",
    "resultsPandas = pyc.find(max_length=20, page=1, matrix=True, mat_format=MatrixFormat.PANDAS)\n",
    "resultsList = pyc.find(max_length=20, page=1, matrix=True, mat_format=MatrixFormat.LIST)\n",
    "\n",
    "print(f'Pandas: {type(resultsPandas.iloc[0].matrix)}')\n",
    "print(f'List: {type(resultsList.iloc[0].matrix)}')"
   ]
  },
  {
   "cell_type": "markdown",
   "metadata": {},
   "source": [
    "### Load additional information\n",
    "\n",
    "The list of cofactors, diseases, and organisms can loaded by calling:"
   ]
  },
  {
   "cell_type": "code",
   "execution_count": null,
   "metadata": {
    "ExecuteTime": {
     "end_time": "2023-07-15T16:43:56.469823Z",
     "start_time": "2023-07-15T16:43:56.101964Z"
    }
   },
   "outputs": [],
   "source": [
    "cofactors = pyc.get_cofactor_list()\n",
    "diseases = pyc.get_disease_list()\n",
    "organisms = pyc.get_organism_list()\n",
    "\n",
    "cofactors"
   ]
  }
 ],
 "metadata": {
  "kernelspec": {
   "display_name": "Python 3-conda (ipykernel)",
   "language": "python",
   "name": "python3"
  },
  "language_info": {
   "codemirror_mode": {
    "name": "ipython",
    "version": 3
   },
   "file_extension": ".py",
   "mimetype": "text/x-python",
   "name": "python",
   "nbconvert_exporter": "python",
   "pygments_lexer": "ipython3",
   "version": "3.9.12"
  }
 },
 "nbformat": 4,
 "nbformat_minor": 4
}
