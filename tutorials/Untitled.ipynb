{
 "cells": [
  {
   "cell_type": "markdown",
   "id": "06158dc6-c401-4b06-9f8e-10ed84e4c707",
   "metadata": {},
   "source": [
    "### Installation\n",
    "\n",
    "Below, we show you how to install the PyCoM package using `pip` and download the database files if you wish to work with local version of PyCoM (see tutorial 01_Basics_DB_local)\n",
    "\n",
    "*Please note you will need Python>=3.8*\n",
    "\n",
    "Install the PyCoM package:"
   ]
  },
  {
   "cell_type": "code",
   "execution_count": 1,
   "id": "99ed93d6-0297-4244-8548-f0dff4632925",
   "metadata": {},
   "outputs": [
    {
     "name": "stdout",
     "output_type": "stream",
     "text": [
      "Collecting git+https://github.com/scdantu/pycom\n",
      "  Cloning https://github.com/scdantu/pycom to /private/var/folders/yl/tc243tgd34xbl27q0wgyvw640000gn/T/pip-req-build-opvyr6lw\n",
      "  Running command git clone -q https://github.com/scdantu/pycom /private/var/folders/yl/tc243tgd34xbl27q0wgyvw640000gn/T/pip-req-build-opvyr6lw\n",
      "  Resolved https://github.com/scdantu/pycom to commit 4ea1f2a5940aef8ccbb183788f1a87afabd2c0c4\n",
      "Requirement already satisfied: pandas in /usr/local/anaconda3/lib/python3.9/site-packages (from pycom==0.8a1) (2.0.3)\n",
      "Requirement already satisfied: numpy in /usr/local/anaconda3/lib/python3.9/site-packages (from pycom==0.8a1) (1.25.2)\n",
      "Requirement already satisfied: h5py in /usr/local/anaconda3/lib/python3.9/site-packages (from pycom==0.8a1) (3.9.0)\n",
      "Requirement already satisfied: requests in /usr/local/anaconda3/lib/python3.9/site-packages (from pycom==0.8a1) (2.31.0)\n",
      "Requirement already satisfied: tzdata>=2022.1 in /usr/local/anaconda3/lib/python3.9/site-packages (from pandas->pycom==0.8a1) (2023.3)\n",
      "Requirement already satisfied: python-dateutil>=2.8.2 in /usr/local/anaconda3/lib/python3.9/site-packages (from pandas->pycom==0.8a1) (2.8.2)\n",
      "Requirement already satisfied: pytz>=2020.1 in /usr/local/anaconda3/lib/python3.9/site-packages (from pandas->pycom==0.8a1) (2023.3)\n",
      "Requirement already satisfied: six>=1.5 in /usr/local/anaconda3/lib/python3.9/site-packages (from python-dateutil>=2.8.2->pandas->pycom==0.8a1) (1.16.0)\n",
      "Requirement already satisfied: certifi>=2017.4.17 in /usr/local/anaconda3/lib/python3.9/site-packages (from requests->pycom==0.8a1) (2023.7.22)\n",
      "Requirement already satisfied: idna<4,>=2.5 in /usr/local/anaconda3/lib/python3.9/site-packages (from requests->pycom==0.8a1) (3.4)\n",
      "Requirement already satisfied: urllib3<3,>=1.21.1 in /usr/local/anaconda3/lib/python3.9/site-packages (from requests->pycom==0.8a1) (2.0.4)\n",
      "Requirement already satisfied: charset-normalizer<4,>=2 in /usr/local/anaconda3/lib/python3.9/site-packages (from requests->pycom==0.8a1) (3.2.0)\n",
      "Note: you may need to restart the kernel to use updated packages.\n"
     ]
    }
   ],
   "source": [
    "pip install git+https://github.com/scdantu/pycom"
   ]
  },
  {
   "cell_type": "markdown",
   "id": "fa9b4908-860c-45aa-a45c-7e47dc32704e",
   "metadata": {},
   "source": [
    "If you wish to work with local version of PyCoM, download the `pycom.db` and `pycom.mat` files from:\n",
    "\n",
    "[https://pycom.brunel.ac.uk/downloads](https://pycom.brunel.ac.uk/downloads) into your favourite folder for example [/Volumes/Data/PyCoMdb/]"
   ]
  }
 ],
 "metadata": {
  "kernelspec": {
   "display_name": "Python 3-conda (ipykernel)",
   "language": "python",
   "name": "python3"
  },
  "language_info": {
   "codemirror_mode": {
    "name": "ipython",
    "version": 3
   },
   "file_extension": ".py",
   "mimetype": "text/x-python",
   "name": "python",
   "nbconvert_exporter": "python",
   "pygments_lexer": "ipython3",
   "version": "3.9.12"
  }
 },
 "nbformat": 4,
 "nbformat_minor": 5
}
